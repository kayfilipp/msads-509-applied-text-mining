{
 "cells": [
  {
   "cell_type": "markdown",
   "metadata": {},
   "source": [
    "# ADS 509 Module 1: APIs and Web Scraping\n",
    "\n",
    "This notebook has three parts. In the first part you will pull data from the Twitter API. In the second, you will scrape lyrics from AZLyrics.com. In the last part, you'll run code that verifies the completeness of your data pull. \n",
    "\n",
    "For this assignment you have chosen two musical artists who have at least 100,000 Twitter followers and 20 songs with lyrics on AZLyrics.com. In this part of the assignment we pull the some of the user information for the followers of your artist and store them in text files. \n"
   ]
  },
  {
   "cell_type": "markdown",
   "metadata": {},
   "source": [
    "## General Assignment Instructions\n",
    "\n",
    "These instructions are included in every assignment, to remind you of the coding standards for the class. Feel free to delete this cell after reading it. \n",
    "\n",
    "One sign of mature code is conforming to a style guide. We recommend the [Google Python Style Guide](https://google.github.io/styleguide/pyguide.html). If you use a different style guide, please include a cell with a link. \n",
    "\n",
    "Your code should be relatively easy-to-read, sensibly commented, and clean. Writing code is a messy process, so please be sure to edit your final submission. Remove any cells that are not needed or parts of cells that contain unnecessary code. Remove inessential `import` statements and make sure that all such statements are moved into the designated cell. \n",
    "\n",
    "Make use of non-code cells for written commentary. These cells should be grammatical and clearly written. In some of these cells you will have questions to answer. The questions will be marked by a \"Q:\" and will have a corresponding \"A:\" spot for you. *Make sure to answer every question marked with a `Q:` for full credit.* \n"
   ]
  },
  {
   "cell_type": "markdown",
   "metadata": {},
   "source": [
    "# Twitter API Pull"
   ]
  },
  {
   "cell_type": "code",
   "execution_count": 6,
   "metadata": {},
   "outputs": [],
   "source": [
    "# for the twitter section\n",
    "import tweepy\n",
    "import os\n",
    "import datetime\n",
    "import re\n",
    "from pprint import pprint\n",
    "import pandas as pd \n",
    "# for the lyrics scrape section\n",
    "import requests\n",
    "import time\n",
    "from bs4 import BeautifulSoup\n",
    "from collections import defaultdict, Counter\n"
   ]
  },
  {
   "cell_type": "markdown",
   "metadata": {},
   "source": [
    "We need bring in our API keys. Since API keys should be kept secret, we'll keep them in a file called `api_keys.py`. This file should be stored in the directory where you store this notebook. The example file is provided for you on Blackboard. The example has API keys that are _not_ functional, so you'll need to get Twitter credentials and replace the placeholder keys. "
   ]
  },
  {
   "cell_type": "code",
   "execution_count": 30,
   "metadata": {},
   "outputs": [],
   "source": [
    "from api_keys import api_key, api_key_secret, access_token, access_token_secret "
   ]
  },
  {
   "cell_type": "code",
   "execution_count": 31,
   "metadata": {},
   "outputs": [],
   "source": [
    "auth = tweepy.OAuthHandler(api_key,api_key_secret)\n",
    "auth.set_access_token(access_token,access_token_secret)\n",
    "\n",
    "api = tweepy.API(\n",
    "    auth,\n",
    "    wait_on_rate_limit=True\n",
    ")"
   ]
  },
  {
   "cell_type": "markdown",
   "metadata": {},
   "source": [
    "## Testing the API\n",
    "\n",
    "The Twitter APIs are quite rich. Let's play around with some of the features before we dive into this section of the assignment. For our testing, it's convenient to have a small data set to play with. We will seed the code with the handle of John Chandler, one of the instructors in this course. His handle is `@37chandler`. Feel free to use a different handle if you would like to look at someone else's data. \n",
    "\n",
    "We will write code to explore a few aspects of the API: \n",
    "\n",
    "1. Pull all the follower IDs for @katymck.\n",
    "1. Explore the user object, which gives us information about Twitter users. \n",
    "1. Pull some user objects for the followers. \n",
    "1. Pull the last few tweets by @katymck.\n"
   ]
  },
  {
   "cell_type": "code",
   "execution_count": 32,
   "metadata": {},
   "outputs": [
    {
     "name": "stdout",
     "output_type": "stream",
     "text": [
      "Here are the first five follower ids for 37chandler out of the 189 total.\n"
     ]
    },
    {
     "data": {
      "text/plain": [
       "[257285645, 1469785454576820225, 1181131341687066624, 257686741, 2306579816]"
      ]
     },
     "execution_count": 32,
     "metadata": {},
     "output_type": "execute_result"
    }
   ],
   "source": [
    "handle = \"37chandler\"\n",
    "\n",
    "followers = []\n",
    "\n",
    "for page in tweepy.Cursor(api.get_follower_ids, screen_name=handle).pages():\n",
    "    followers.extend(page)\n",
    "    time.sleep(30)\n",
    "        \n",
    "        \n",
    "print(f\"Here are the first five follower ids for {handle} out of the {len(followers)} total.\")\n",
    "followers[:5]"
   ]
  },
  {
   "cell_type": "markdown",
   "metadata": {},
   "source": [
    "We have the follower IDs, which are unique numbers identifying the user, but we'd like to get some more information on these users. Twitter allows us to pull \"fully hydrated user objects\", which is a fancy way of saying \"all the information about the user\". Let's look at user object for our starting handle."
   ]
  },
  {
   "cell_type": "code",
   "execution_count": 7,
   "metadata": {},
   "outputs": [
    {
     "name": "stdout",
     "output_type": "stream",
     "text": [
      "{'id': 33029025, 'id_str': '33029025', 'name': 'John Chandler', 'screen_name': '37chandler', 'location': 'MN', 'profile_location': None, 'description': 'He/Him. Data scientist, urban cyclist, educator, erstwhile frisbee player. \\n\\n¯\\\\_(ツ)_/¯', 'url': None, 'entities': {'description': {'urls': []}}, 'protected': False, 'followers_count': 189, 'friends_count': 574, 'listed_count': 3, 'created_at': 'Sat Apr 18 22:08:22 +0000 2009', 'favourites_count': 3489, 'utc_offset': None, 'time_zone': None, 'geo_enabled': True, 'verified': False, 'statuses_count': 941, 'lang': None, 'status': {'created_at': 'Fri May 13 23:46:46 +0000 2022', 'id': 1525261298807713792, 'id_str': '1525261298807713792', 'text': 'RT @johnhollinger: @NateSilver538 Atlanta still leads the nation in \"further West than you think\"', 'truncated': False, 'entities': {'hashtags': [], 'symbols': [], 'user_mentions': [{'screen_name': 'johnhollinger', 'name': 'John Hollinger', 'id': 41366372, 'id_str': '41366372', 'indices': [3, 17]}, {'screen_name': 'NateSilver538', 'name': 'Nate Silver', 'id': 16017475, 'id_str': '16017475', 'indices': [19, 33]}], 'urls': []}, 'source': '<a href=\"http://twitter.com/download/iphone\" rel=\"nofollow\">Twitter for iPhone</a>', 'in_reply_to_status_id': None, 'in_reply_to_status_id_str': None, 'in_reply_to_user_id': None, 'in_reply_to_user_id_str': None, 'in_reply_to_screen_name': None, 'geo': None, 'coordinates': None, 'place': None, 'contributors': None, 'retweeted_status': {'created_at': 'Fri May 13 23:35:40 +0000 2022', 'id': 1525258507116748801, 'id_str': '1525258507116748801', 'text': '@NateSilver538 Atlanta still leads the nation in \"further West than you think\"', 'truncated': False, 'entities': {'hashtags': [], 'symbols': [], 'user_mentions': [{'screen_name': 'NateSilver538', 'name': 'Nate Silver', 'id': 16017475, 'id_str': '16017475', 'indices': [0, 14]}], 'urls': []}, 'source': '<a href=\"https://mobile.twitter.com\" rel=\"nofollow\">Twitter Web App</a>', 'in_reply_to_status_id': 1525251483121377283, 'in_reply_to_status_id_str': '1525251483121377283', 'in_reply_to_user_id': 16017475, 'in_reply_to_user_id_str': '16017475', 'in_reply_to_screen_name': 'NateSilver538', 'geo': None, 'coordinates': None, 'place': None, 'contributors': None, 'is_quote_status': False, 'retweet_count': 4, 'favorite_count': 211, 'favorited': False, 'retweeted': False, 'lang': 'en'}, 'is_quote_status': False, 'retweet_count': 4, 'favorite_count': 0, 'favorited': False, 'retweeted': False, 'lang': 'en'}, 'contributors_enabled': False, 'is_translator': False, 'is_translation_enabled': False, 'profile_background_color': '000000', 'profile_background_image_url': 'http://abs.twimg.com/images/themes/theme1/bg.png', 'profile_background_image_url_https': 'https://abs.twimg.com/images/themes/theme1/bg.png', 'profile_background_tile': False, 'profile_image_url': 'http://pbs.twimg.com/profile_images/2680483898/b30ae76f909352dbae5e371fb1c27454_normal.png', 'profile_image_url_https': 'https://pbs.twimg.com/profile_images/2680483898/b30ae76f909352dbae5e371fb1c27454_normal.png', 'profile_banner_url': 'https://pbs.twimg.com/profile_banners/33029025/1556913972', 'profile_link_color': 'ABB8C2', 'profile_sidebar_border_color': '000000', 'profile_sidebar_fill_color': '000000', 'profile_text_color': '000000', 'profile_use_background_image': False, 'has_extended_profile': False, 'default_profile': False, 'default_profile_image': False, 'following': False, 'follow_request_sent': False, 'notifications': False, 'translator_type': 'none', 'withheld_in_countries': []}\n"
     ]
    }
   ],
   "source": [
    "user = api.get_user(screen_name=handle) \n",
    "print(user._json)"
   ]
  },
  {
   "cell_type": "code",
   "execution_count": 8,
   "metadata": {},
   "outputs": [
    {
     "data": {
      "text/plain": [
       "45"
      ]
     },
     "execution_count": 8,
     "metadata": {},
     "output_type": "execute_result"
    }
   ],
   "source": [
    "#how many fields are being returned?\n",
    "len(user._json)"
   ]
  },
  {
   "cell_type": "code",
   "execution_count": 9,
   "metadata": {},
   "outputs": [
    {
     "name": "stdout",
     "output_type": "stream",
     "text": [
      "['entities', 'status', 'withheld_in_countries']\n"
     ]
    }
   ],
   "source": [
    "#are any fields non-scalar?\n",
    "#to check, iterate over all the fields and see if any are a list, dict, or tuple.\n",
    "\n",
    "non_scalars=[]\n",
    "non_scalar_types = (list,dict,tuple)\n",
    "for field in user._json:\n",
    "    if isinstance(user._json[field],non_scalar_types ):\n",
    "        non_scalars.append(field)\n",
    "        \n",
    "print(non_scalars)"
   ]
  },
  {
   "cell_type": "code",
   "execution_count": 10,
   "metadata": {},
   "outputs": [
    {
     "name": "stdout",
     "output_type": "stream",
     "text": [
      "574 189 3489 941\n"
     ]
    }
   ],
   "source": [
    "#how many friends, followers, favorites, and statuses does the user have?\n",
    "print(\n",
    "    user._json['friends_count'],\n",
    "    user._json['followers_count'],\n",
    "    user._json['favourites_count'],\n",
    "    user._json['statuses_count']\n",
    ")"
   ]
  },
  {
   "cell_type": "markdown",
   "metadata": {},
   "source": [
    "Now a few questions for you about the user object.\n",
    "\n",
    "Q: How many fields are being returned in the \\_json portion of the user object? \n",
    "\n",
    "A: 45\n",
    "\n",
    "---\n",
    "\n",
    "Q: Are any of the fields within the user object non-scaler? TK correct term\n",
    "\n",
    "A: ['entities', 'status', 'withheld_in_countries']\n",
    "\n",
    "---\n",
    "\n",
    "Q: How many friends, followers, favorites, and statuses does this user have? \n",
    "\n",
    "A: friends:573, followers:188, favorites:3477, statuses:935\n"
   ]
  },
  {
   "cell_type": "markdown",
   "metadata": {},
   "source": [
    "We can map the follower IDs onto screen names by accessing the screen_name key within the user object. Modify the code below to also print out how many people the follower is following and how many followers they have. "
   ]
  },
  {
   "cell_type": "code",
   "execution_count": 11,
   "metadata": {},
   "outputs": [
    {
     "name": "stdout",
     "output_type": "stream",
     "text": [
      "37chandler is followed by HicSvntDraconez.\n",
      "This user has 33 follower(s).\n",
      "This user follows 1547 users.\n",
      "------------------------------------------------------\n",
      "37chandler is followed by JohnOCo70713197.\n",
      "This user has 1 follower(s).\n",
      "This user follows 8 users.\n",
      "------------------------------------------------------\n",
      "37chandler is followed by CodeGradeCom.\n",
      "This user has 388 follower(s).\n",
      "This user follows 2711 users.\n",
      "------------------------------------------------------\n",
      "37chandler is followed by cleverhoods.\n",
      "This user has 3370 follower(s).\n",
      "This user follows 2773 users.\n",
      "------------------------------------------------------\n",
      "37chandler is followed by PaulNaish78.\n",
      "This user has 19509 follower(s).\n",
      "This user follows 19177 users.\n",
      "------------------------------------------------------\n",
      "37chandler is followed by mplsFietser.\n",
      "This user has 2779 follower(s).\n",
      "This user follows 2650 users.\n",
      "------------------------------------------------------\n",
      "37chandler is followed by echallstrom.\n",
      "This user has 304 follower(s).\n",
      "This user follows 457 users.\n",
      "------------------------------------------------------\n",
      "37chandler is followed by byler_t117.\n",
      "This user has 48 follower(s).\n",
      "This user follows 438 users.\n",
      "------------------------------------------------------\n",
      "37chandler is followed by Community_Owner.\n",
      "This user has 31 follower(s).\n",
      "This user follows 47 users.\n",
      "------------------------------------------------------\n",
      "37chandler is followed by DeepakC64237257.\n",
      "This user has 31 follower(s).\n",
      "This user follows 576 users.\n",
      "------------------------------------------------------\n"
     ]
    }
   ],
   "source": [
    "ids_to_lookup = followers[:10]\n",
    "\n",
    "for user_obj in api.lookup_users(user_id=ids_to_lookup) :\n",
    "    \n",
    "    print(f\"{handle} is followed by {user_obj.screen_name}.\")\n",
    "    print(f\"This user has {user_obj.followers_count} follower(s).\")\n",
    "    print(f\"This user follows {user_obj.friends_count} users.\")\n",
    "    print(\"------------------------------------------------------\")\n",
    "    "
   ]
  },
  {
   "cell_type": "markdown",
   "metadata": {},
   "source": [
    "Although you won't need it for this assignment, individual tweets (called \"statuses\" in the API) can be a rich source of text-based data. To illustrate the concepts, let's look at the last few tweets for this user. You are encouraged to explore the `status` object and marvel in the richness of the data that is available. "
   ]
  },
  {
   "cell_type": "code",
   "execution_count": 12,
   "metadata": {},
   "outputs": [
    {
     "name": "stdout",
     "output_type": "stream",
     "text": [
      "The tweet was tweeted at 2022-05-13 23:46:46+00:00.\n",
      "The original tweet has been retweeted 4 times.\n",
      "RT @johnhollinger: @NateSilver538 Atlanta still leads the nation in \"further West than you think\"\n",
      "\n",
      "\n",
      "\n",
      "The tweet was tweeted at 2022-05-13 12:03:18+00:00.\n",
      "The original tweet has been retweeted 1467 times.\n",
      "RT @tomscocca: It was helpful to talk with @pareene about the experience of turning away from one of the most comfortable default beliefs o…\n",
      "\n",
      "\n",
      "\n",
      "The tweet was tweeted at 2022-05-12 14:41:18+00:00.\n",
      "The original tweet has been retweeted 187 times.\n",
      "RT @JamesTateHill: I Actually Thought You Had Dropped the Class: A Memoir of Your Final Grade\n",
      "\n",
      "\n",
      "\n",
      "The tweet was tweeted at 2022-05-12 12:19:43+00:00.\n",
      "The original tweet has been retweeted 0 times.\n",
      "@BluehairCoffee @WedgeLIVE I try to always take a pic of it. https://t.co/7i4nIgBKFM\n",
      "\n",
      "\n",
      "\n",
      "The tweet was tweeted at 2022-05-12 03:18:56+00:00.\n",
      "The original tweet has been retweeted 0 times.\n",
      "@LiberalwKnives @WedgeLIVE @BluehairCoffee It seemed deep enough to total some cars at 8:45. Also, 👋, neighbor.\n",
      "\n",
      "\n",
      "\n",
      "The tweet was tweeted at 2022-05-12 03:16:18+00:00.\n",
      "The original tweet has been retweeted 0 times.\n",
      "@WedgeLIVE 2200 block of Garfield. aka, the former Lake Blaisdell. https://t.co/SLm0zjjWUw\n",
      "\n",
      "\n",
      "\n",
      "The tweet was tweeted at 2022-05-11 00:47:28+00:00.\n",
      "The original tweet has been retweeted 410 times.\n",
      "RT @ThePlumLineGS: Terrific @Milbank piece vividly highlighting the long trail of lying, deception, norm-shredding, and all around bad-acti…\n",
      "\n",
      "\n",
      "\n",
      "The tweet was tweeted at 2022-05-08 03:20:25+00:00.\n",
      "The original tweet has been retweeted 0 times.\n",
      "@WedgeLIVE Had such a glorious cross today. First time in 10 years. Excited for our new weapons in the @TheWarOnCars\n",
      "\n",
      "\n",
      "\n",
      "The tweet was tweeted at 2022-05-05 20:23:42+00:00.\n",
      "The original tweet has been retweeted 120 times.\n",
      "RT @tomtomorrow: I don't know how to explain to you that you should care that we are two years away from fascist theocracy.\n",
      "\n",
      "\n",
      "\n",
      "The tweet was tweeted at 2022-05-03 18:34:51+00:00.\n",
      "The original tweet has been retweeted 0 times.\n",
      "This whole 🧵 https://t.co/YHVewCyhJy\n",
      "\n",
      "\n",
      "\n",
      "The tweet was tweeted at 2022-05-03 12:02:15+00:00.\n",
      "The original tweet has been retweeted 1335 times.\n",
      "RT @QasimRashid: Alito claims Roe V Wade “was wrongly decided because Constitution makes no specific mention of abortion rights.”  Constitu…\n",
      "\n",
      "\n",
      "\n"
     ]
    }
   ],
   "source": [
    "tweet_count = 0\n",
    "\n",
    "for status in tweepy.Cursor(api.user_timeline, screen_name=handle).items():\n",
    "    tweet_count += 1\n",
    "    \n",
    "    print(f\"The tweet was tweeted at {status.created_at}.\")\n",
    "    print(f\"The original tweet has been retweeted {status.retweet_count} times.\")\n",
    "    \n",
    "    clean_status = status.text\n",
    "    clean_status = clean_status.replace(\"\\n\",\" \")\n",
    "    \n",
    "    print(f\"{clean_status}\")\n",
    "    print(\"\\n\"*2)\n",
    "        \n",
    "    if tweet_count > 10 :\n",
    "        break\n",
    "\n"
   ]
  },
  {
   "cell_type": "markdown",
   "metadata": {},
   "source": [
    "## Pulling Follower Information\n",
    "\n",
    "In this next section of the assignment, we will pull information about the followers of your two artists. We must first get the follower IDs, then we will be able to \"hydrate\" the IDs, pulling the user objects for them. Once we have those user objects we will extract some fields that we can use in future analyses. \n",
    "\n",
    "\n",
    "The Twitter API only allows users to make 15 requests per 15 minutes when pulling followers. Each request allows you to gather 5000 follower ids. Tweepy will grab the 15 requests quickly then wait 15 minutes, rather than slowly pull the requests over the time period. Before we start grabbing follower IDs, let's first just check how long it would take to pull all of the followers. To do this we use the `followers_count` item from the user object. "
   ]
  },
  {
   "cell_type": "code",
   "execution_count": 18,
   "metadata": {},
   "outputs": [
    {
     "name": "stdout",
     "output_type": "stream",
     "text": [
      "\n",
      "    @wallowsmusic has 337610 followers. \n",
      "    That will take roughly 1.13 hours to pull the followers.\n",
      "    \n",
      "\n",
      "    @smashmouth has 104865 followers. \n",
      "    That will take roughly 0.35 hours to pull the followers.\n",
      "    \n"
     ]
    }
   ],
   "source": [
    "# I'm putting the handles in a list to iterate through below - \n",
    "# in this instance, we will look at the Wallows and smash mouth.\n",
    "handles = ['wallowsmusic','smashmouth']\n",
    "\n",
    "# This will iterate through each Twitter handle that we're collecting from\n",
    "for screen_name in handles:\n",
    "    \n",
    "    # Tells Tweepy we want information on the handle we're collecting from\n",
    "    # The next line specifies which information we want, which in this case is the number of followers \n",
    "    user = api.get_user(screen_name=screen_name) \n",
    "    followers_count = user.followers_count\n",
    "\n",
    "    # Let's see roughly how long it will take to grab all the follower IDs. \n",
    "    print(f'''\n",
    "    @{screen_name} has {followers_count} followers. \n",
    "    That will take roughly {followers_count/(5000*15*4):.2f} hours to pull the followers.\n",
    "    ''')\n",
    "    "
   ]
  },
  {
   "cell_type": "markdown",
   "metadata": {},
   "source": [
    "As we pull data for each artist we will write their data to a folder called \"twitter\", so we will make that folder if needed."
   ]
  },
  {
   "cell_type": "code",
   "execution_count": 14,
   "metadata": {},
   "outputs": [],
   "source": [
    "# Make the \"twitter\" folder here. If you'd like to practice your programming, add functionality \n",
    "# that checks to see if the folder exists. If it does, then \"unlink\" it. Then create a new one.\n",
    "\n",
    "if not os.path.isdir(\"twitter\") : \n",
    "    #shutil.rmtree(\"twitter/\")\n",
    "    os.mkdir(\"twitter\")"
   ]
  },
  {
   "cell_type": "markdown",
   "metadata": {},
   "source": [
    "In this following cells, use the `api.followers_ids` (and the `tweepy.Cursor` functionality) to pull some of the followers for your two artists. As you pull the data, write the follower ids to a file called `[artist name]_followers.txt` in the \"twitter\" folder. For instance, for Cher I would create a file named `cher_followers.txt`. As you pull the data, also store it in an object like a list or a data frame."
   ]
  },
  {
   "cell_type": "code",
   "execution_count": 15,
   "metadata": {},
   "outputs": [],
   "source": [
    "num_followers_to_pull = 60*1000 # feel free to use this to limit the number of followers you pull."
   ]
  },
  {
   "cell_type": "code",
   "execution_count": 16,
   "metadata": {},
   "outputs": [
    {
     "name": "stdout",
     "output_type": "stream",
     "text": [
      "pulling followers for wallowsmusic.\n",
      "loaded in 5000 accounts...\n",
      "loaded in 10000 accounts...\n",
      "loaded in 15000 accounts...\n",
      "loaded in 20000 accounts...\n",
      "loaded in 25000 accounts...\n",
      "loaded in 30000 accounts...\n",
      "loaded in 35000 accounts...\n",
      "loaded in 40000 accounts...\n",
      "loaded in 45000 accounts...\n",
      "loaded in 50000 accounts...\n",
      "loaded in 55000 accounts...\n",
      "loaded in 60000 accounts...\n",
      "finished pulling followers for wallowsmusic.\n",
      "pulling followers for smashmouth.\n",
      "loaded in 5000 accounts...\n",
      "loaded in 10000 accounts...\n"
     ]
    },
    {
     "name": "stderr",
     "output_type": "stream",
     "text": [
      "Rate limit reached. Sleeping for: 453\n"
     ]
    },
    {
     "name": "stdout",
     "output_type": "stream",
     "text": [
      "loaded in 15000 accounts...\n",
      "loaded in 20000 accounts...\n",
      "loaded in 25000 accounts...\n",
      "loaded in 30000 accounts...\n",
      "loaded in 35000 accounts...\n",
      "loaded in 40000 accounts...\n",
      "loaded in 45000 accounts...\n",
      "loaded in 50000 accounts...\n",
      "loaded in 55000 accounts...\n",
      "loaded in 60000 accounts...\n",
      "finished pulling followers for smashmouth.\n",
      "0:18:37.775883\n"
     ]
    }
   ],
   "source": [
    "# Grabs the time when we start making requests to the API\n",
    "start_time = datetime.datetime.now()\n",
    "\n",
    "for handle in handles :\n",
    "    \n",
    "    output_file = handle + \"_followers.txt\"\n",
    "    full_path = 'twitter/'+output_file\n",
    "    \n",
    "    # Pull and store the follower IDs in a list.\n",
    "    print(f'pulling followers for {handle}.')\n",
    "    \n",
    "    followers = []\n",
    "    for page in tweepy.Cursor(api.get_follower_ids, screen_name=handle).pages():\n",
    "        \n",
    "        followers.extend(page)\n",
    "        print(f'loaded in {len(followers)} accounts...')\n",
    "        \n",
    "        #if we have more followers than our limit, stop the loop and write the IDs\n",
    "        if(len(followers)>=num_followers_to_pull):\n",
    "            break\n",
    "            \n",
    "        time.sleep(30)\n",
    "    \n",
    "    print(f'finished pulling followers for {handle}.')\n",
    "    \n",
    "    # Write the IDs to the output text file in the `twitter` folder \n",
    "    with open(full_path, 'w') as f:\n",
    "        for follower in followers:\n",
    "            f.write(str(follower)+'\\n')\n",
    "        \n",
    "        \n",
    "# Let's see how long it took to grab all follower IDs\n",
    "end_time = datetime.datetime.now()\n",
    "print(end_time - start_time)"
   ]
  },
  {
   "cell_type": "markdown",
   "metadata": {},
   "source": [
    "Now that you have your follower ids, gather some information that we can use in future assignments on them. Using the `lookup_users` function, pull the user objects for your followers. These requests are limited to 900 per 15 minutes, but you can request 100 users at a time. At 90,000 users per 15 minutes, the rate limiter on pulls might be bandwidth rather than API limits. \n",
    "\n",
    "Extract the following fields from the user object: \n",
    "\n",
    "* screen_name\t\n",
    "* name\t\n",
    "* id\t\n",
    "* location\t\n",
    "* followers_count\t\n",
    "* friends_count\t\n",
    "* description\n",
    "\n",
    "These can all be accessed via these names in the object. Store the fields with one user per row in a tab-delimited text file with the name `[artist name]_follower_data.txt`. For instance, for Cher I would create a file named `cher_follower_data.txt`. \n"
   ]
  },
  {
   "cell_type": "code",
   "execution_count": 21,
   "metadata": {},
   "outputs": [],
   "source": [
    "#first, create a function that easily extracts all these features and returns them as a tab delimited list\n",
    "def dictionarize(user):\n",
    "    \n",
    "    #retrieve relevant fields.\n",
    "    screen_name = user.screen_name\n",
    "    name = user.name\n",
    "    id = user.id\n",
    "    location = user.location\n",
    "    followers_count = user.followers_count\n",
    "    friends_count = user.friends_count\n",
    "    \n",
    "    #handle formatting for descriptions with tabs and returns.\n",
    "    description = re.sub(r\"\\s+\",\" \",user.description)\n",
    "    \n",
    "    return({\n",
    "        'screen_name': screen_name\n",
    "        ,'name': name \n",
    "        ,'id': id\n",
    "        ,'location': location\n",
    "        ,'followers_count': followers_count\n",
    "        ,'friends_count': friends_count\n",
    "        ,'description': description\n",
    "    })\n",
    "    "
   ]
  },
  {
   "cell_type": "code",
   "execution_count": 20,
   "metadata": {},
   "outputs": [
    {
     "name": "stdout",
     "output_type": "stream",
     "text": [
      "followers pulled for wallowsmusic : 4092\n",
      "followers pulled for wallowsmusic : 8190\n",
      "followers pulled for wallowsmusic : 12284\n",
      "followers pulled for wallowsmusic : 16382\n",
      "followers pulled for wallowsmusic : 20481\n",
      "followers pulled for wallowsmusic : 24578\n",
      "followers pulled for wallowsmusic : 28677\n",
      "followers pulled for wallowsmusic : 32775\n",
      "followers pulled for wallowsmusic : 36872\n",
      "followers pulled for wallowsmusic : 40971\n",
      "followers pulled for wallowsmusic : 44971\n",
      "followers pulled for wallowsmusic : 49068\n",
      "followers pulled for wallowsmusic : 53167\n",
      "followers pulled for wallowsmusic : 57167\n",
      "successfully wrote 59865 lines of follower data for wallowsmusic\n",
      "followers pulled for smashmouth : 4000\n",
      "followers pulled for smashmouth : 8099\n",
      "followers pulled for smashmouth : 12099\n",
      "followers pulled for smashmouth : 16099\n",
      "followers pulled for smashmouth : 20197\n",
      "followers pulled for smashmouth : 24197\n",
      "followers pulled for smashmouth : 28197\n",
      "followers pulled for smashmouth : 32296\n",
      "followers pulled for smashmouth : 36395\n",
      "followers pulled for smashmouth : 40395\n",
      "followers pulled for smashmouth : 44395\n",
      "followers pulled for smashmouth : 48494\n",
      "followers pulled for smashmouth : 52494\n",
      "followers pulled for smashmouth : 56593\n",
      "successfully wrote 59893 lines of follower data for smashmouth\n"
     ]
    }
   ],
   "source": [
    "### # in this cell, do the following\n",
    "# 1. Set up a data frame or dictionary to hold the user information\n",
    "# 2. Use the `lookup_users` api function to pull sets of 100 users at a time\n",
    "# 3. Store the listed fields in your data frame or dictionary.\n",
    "# 4. Write the user information in tab-delimited form to the follower data text file. \n",
    "\n",
    "for handle in handles:\n",
    "    \n",
    "    #read in our text files and convert them into pandas dataframes.\n",
    "    followers_path = f'twitter/{handle}_followers.txt'\n",
    "    followers_df = pd.read_csv(followers_path,sep=\"\\n\",header=None,names=['follower_id'])\n",
    "    followers_output_path = f'twitter/{handle}_followers_data.tsv'\n",
    "    \n",
    "    followers = []\n",
    "    last_size=0\n",
    "    \n",
    "    #request 100 users at a time.\n",
    "    for i in range(0,len(followers_df)-100,100):\n",
    "        \n",
    "        #convert back to list from df and get user info \n",
    "        this_batch  = followers_df['follower_id'][i:i+100].tolist()\n",
    "        this_lookup = api.lookup_users(user_id=this_batch)\n",
    "        \n",
    "        #for each user, add metadata to dictionary, keyed by ID\n",
    "        for user in this_lookup:\n",
    "            metadata = dictionarize(user)\n",
    "            followers.append(metadata)\n",
    "            \n",
    "        #constant progress updates - but not too constant. [optional]\n",
    "        if (len(followers)-last_size >= 4000):\n",
    "            print(f'followers pulled for {handle} : {len(followers)}')\n",
    "            last_size = len(followers)\n",
    "            \n",
    "        time.sleep(10)\n",
    "            \n",
    "    #after we pull follower info for everyone, turn the dictionary into a dataframe, save to tsv.\n",
    "    follower_info = pd.DataFrame(followers)\n",
    "    follower_info.to_csv(followers_output_path,sep=\"\\t\",index=False)\n",
    "    print(f'successfully wrote {len(followers)} lines of follower data for {handle}')\n"
   ]
  },
  {
   "cell_type": "markdown",
   "metadata": {},
   "source": [
    "---\n",
    "\n",
    "# Lyrics Scrape\n",
    "\n",
    "This section asks you to pull data from the Twitter API and scrape www.AZLyrics.com. In the notebooks where you do that work you are asked to store the data in specific ways. "
   ]
  },
  {
   "cell_type": "code",
   "execution_count": null,
   "metadata": {},
   "outputs": [],
   "source": [
    "artists = {'wallows':\"https://www.azlyrics.com/r/wallows.html\",\n",
    "           'smash mouth':\"https://www.azlyrics.com/s/smashmouth.html\"} \n",
    "# we'll use this dictionary to hold both the artist name and the link on AZlyrics"
   ]
  },
  {
   "cell_type": "markdown",
   "metadata": {},
   "source": [
    "## A Note on Rate Limiting\n",
    "\n",
    "The lyrics site, www.azlyrics.com, does not have an explicit maximum on number of requests in any one time, but in our testing it appears that too many requests in too short a time will cause the site to stop returning lyrics pages. (Entertainingly, the page that gets returned seems to only have the song title to [a Tom Jones song](https://www.azlyrics.com/lyrics/tomjones/itsnotunusual.html).) \n",
    "\n",
    "Whenever you call `requests.get` to retrieve a page, put a `time.sleep(5 + 10*random.random())` on the next line. This will help you not to get blocked. If you _do_ get blocked, which you can identify if the returned pages are not correct, just request a lyrics page through your browser. You'll be asked to perform a CAPTCHA and then your requests should start working again. \n",
    "\n",
    "## Part 1: Finding Links to Songs Lyrics\n",
    "\n",
    "That general artist page has a list of all songs for that artist with links to the individual song pages. \n",
    "\n",
    "Q: Take a look at the `robots.txt` page on www.azlyrics.com. (You can read more about these pages [here](https://developers.google.com/search/docs/advanced/robots/intro).) Is the scraping we are about to do allowed or disallowed by this page? How do you know? \n",
    "\n",
    "<div style=\"color:blue\">A: Robots.txt allows scraping for anything that doesn't use the /lyricsdb/ or the /song/ paths, so as long as we stick to /lyrics/ we should be fine.</div>\n"
   ]
  },
  {
   "cell_type": "markdown",
   "metadata": {},
   "source": [
    "# <div style=\"color:CadetBlue\">Developer's Note:</div>\n",
    "<p><b>Due to technical issues which prevent data mining from AWS on AZLyrics, the rest of the exercise will be constructed in a python script that will be deployed on a local instance - with resulting documents pushed back into the AWS environment. All of this will subsequently be pushed to the same repo. The below python script is a combination of all the code snippets provided in the remainder of this exercise.</b></p>"
   ]
  },
  {
   "cell_type": "code",
   "execution_count": 33,
   "metadata": {},
   "outputs": [
    {
     "name": "stdout",
     "output_type": "stream",
     "text": [
      "Writing lyrics.py\n"
     ]
    }
   ],
   "source": [
    "%%writefile lyrics.py\n",
    "# for the lyrics scrape section\n",
    "import requests\n",
    "import time\n",
    "from bs4 import BeautifulSoup\n",
    "from collections import defaultdict, Counter\n",
    "import os\n",
    "import shutil\n",
    "\n",
    "# Let's set up a dictionary of lists to hold our links\n",
    "import random\n",
    "\n",
    "artists = {'wallows':\"https://www.azlyrics.com/w/wallows.html\",\n",
    "           'smash mouth':\"https://www.azlyrics.com/s/smashmouth.html\"} \n",
    "\n",
    "lyrics_pages = defaultdict(list)\n",
    "\n",
    "for artist, artist_page in artists.items():\n",
    "    # request the page and sleep\n",
    "    r = requests.get(artist_page)\n",
    "    time.sleep(5 + 10*random.random())\n",
    "\n",
    "    # now extract the links to lyrics pages from this page\n",
    "    # store the links `lyrics_pages` where the key is the artist and the\n",
    "    # value is a list of links. \n",
    "\n",
    "    #pass along the HTML response to soup. in this case, we are looking for div class=\"listalbum-item\" \n",
    "    soup = BeautifulSoup(r.text,'html.parser')\n",
    "    songs = soup.find_all(\"div\", {\"class\": \"listalbum-item\"})\n",
    "    #assign the resulting list to each artist.\n",
    "    lyrics_pages[artist] = songs \n",
    "\n",
    "\n",
    "for artist, lp in lyrics_pages.items() :\n",
    "    assert(len(set(lp)) > 20) \n",
    "\n",
    "# Let's see how long it's going to take to pull these lyrics \n",
    "# if we're waiting `5 + 10*random.random()` seconds \n",
    "for artist, links in lyrics_pages.items() : \n",
    "    print(f\"For {artist} we have {len(links)}.\")\n",
    "    print(f\"The full pull will take for this artist will take {round(len(links)*10/3600,2)} hours.\")\n",
    "    \n",
    "def generate_filename_from_link(link) :\n",
    "    \n",
    "    if not link :\n",
    "        return None\n",
    "    \n",
    "    # drop the http or https and the html\n",
    "    name = link.replace(\"https\",\"\").replace(\"http\",\"\")\n",
    "    name = link.replace(\".html\",\"\")\n",
    "\n",
    "    name = name.replace(\"/lyrics/\",\"\")\n",
    "    \n",
    "    # Replace useless characters with UNDERSCORE\n",
    "    name = name.replace(\"://\",\"\").replace(\".\",\"_\").replace(\"/\",\"_\")\n",
    "    \n",
    "    # tack on .txt\n",
    "    name = name + \".txt\"\n",
    "    \n",
    "    return(name)\n",
    "\n",
    "# Make the lyrics folder here. If you'd like to practice your programming, add functionality \n",
    "# that checks to see if the folder exists. If it does, then use shutil.rmtree to remove it and create a new one.\n",
    "\n",
    "if os.path.isdir(\"lyrics\") : \n",
    "    shutil.rmtree(\"lyrics/\")\n",
    "\n",
    "os.mkdir(\"lyrics\")\n",
    "\n",
    "url_stub = \"https://www.azlyrics.com\" \n",
    "start = time.time()\n",
    "\n",
    "total_pages = 0 \n",
    "\n",
    "for artist in lyrics_pages:\n",
    "    \n",
    "    #check if we have a subfolder for this artist.\n",
    "    artist_path = f'lyrics/{artist}/'\n",
    "    if not os.path.isdir(artist_path):\n",
    "        os.mkdir(artist_path)\n",
    "\n",
    "    # 2. Iterate over the lyrics pages - our dictionary structure means we don't have to look for the song name later.\n",
    "    for song in lyrics_pages[artist]:\n",
    "        \n",
    "        song_name = song.find('a').text \n",
    "        song_href = song.find('a').get('href')\n",
    "        url = f'{url_stub}/{song_href}'\n",
    "        \n",
    "        # 3. Request the lyrics page. \n",
    "            # Don't forget to add a line like `time.sleep(5 + 10*random.random())`\n",
    "            # to sleep after making the request\n",
    "        \n",
    "        r = requests.get(url)\n",
    "        soup = BeautifulSoup(r.text,'html.parser')\n",
    "        \n",
    "        # 4. extract lyrics - title already exists.\n",
    "        body = soup.find(\"div\", {\"class\": \"col-xs-12 col-lg-8 text-center\"})\n",
    "        \n",
    "        # we observe that the fifth div inside of body contains the lyrics.\n",
    "        lyrics = body.find_all(\"div\")[5].text\n",
    "        \n",
    "        # 5. Write out the title, two returns ('\\n'), and the lyrics. Use `generate_filename_from_url`\n",
    "        #to generate the filename. \n",
    "        name_and_lyrics = f'{song_name}\\n\\n{lyrics}'\n",
    "        song_filename = f'{artist_path}{generate_filename_from_link(url)}'\n",
    "\n",
    "        with open(song_filename, 'w',encoding=\"utf-8\") as f:\n",
    "            f.write(str(name_and_lyrics))\n",
    "        \n",
    "        print(f'saved lyrics for {song_name} under {song_filename}.')\n",
    "        #preview as a sanity check.\n",
    "        print(f'preview: {lyrics[0:30]}')\n",
    "\n",
    "        time.sleep(5+10*random.random())\n",
    "        \n",
    "print(f\"Total run time was {round((time.time() - start)/3600,2)} hours.\")"
   ]
  },
  {
   "cell_type": "markdown",
   "metadata": {},
   "source": [
    "Let's make sure we have enough lyrics pages to scrape. "
   ]
  },
  {
   "cell_type": "markdown",
   "metadata": {},
   "source": [
    "## Part 2: Pulling Lyrics\n",
    "\n",
    "Now that we have the links to our lyrics pages, let's go scrape them! Here are the steps for this part. \n",
    "\n",
    "1. Create an empty folder in our repo called \"lyrics\". \n",
    "1. Iterate over the artists in `lyrics_pages`. \n",
    "1. Create a subfolder in lyrics with the artist's name. For instance, if the artist was Cher you'd have `lyrics/cher/` in your repo.\n",
    "1. Iterate over the pages. \n",
    "1. Request the page and extract the lyrics from the returned HTML file using BeautifulSoup.\n",
    "1. Use the function below, `generate_filename_from_url`, to create a filename based on the lyrics page, then write the lyrics to a text file with that name. \n"
   ]
  },
  {
   "cell_type": "code",
   "execution_count": 3,
   "metadata": {},
   "outputs": [],
   "source": [
    "def generate_filename_from_link(link) :\n",
    "    \n",
    "    if not link :\n",
    "        return None\n",
    "    \n",
    "    # drop the http or https and the html\n",
    "    name = link.replace(\"https\",\"\").replace(\"http\",\"\")\n",
    "    name = link.replace(\".html\",\"\")\n",
    "\n",
    "    name = name.replace(\"/lyrics/\",\"\")\n",
    "    \n",
    "    # Replace useless chareacters with UNDERSCORE\n",
    "    name = name.replace(\"://\",\"\").replace(\".\",\"_\").replace(\"/\",\"_\")\n",
    "    \n",
    "    # tack on .txt\n",
    "    name = name + \".txt\"\n",
    "    \n",
    "    return(name)\n"
   ]
  },
  {
   "cell_type": "code",
   "execution_count": null,
   "metadata": {},
   "outputs": [],
   "source": [
    "# Make the lyrics folder here. If you'd like to practice your programming, add functionality \n",
    "# that checks to see if the folder exists. If it does, then use shutil.rmtree to remove it and create a new one.\n",
    "\n",
    "if os.path.isdir(\"lyrics\") : \n",
    "    shutil.rmtree(\"lyrics/\")\n",
    "\n",
    "os.mkdir(\"lyrics\")"
   ]
  },
  {
   "cell_type": "code",
   "execution_count": null,
   "metadata": {},
   "outputs": [],
   "source": [
    "url_stub = \"https://www.azlyrics.com\" \n",
    "start = time.time()\n",
    "\n",
    "total_pages = 0 \n",
    "\n",
    "for artist in lyrics_pages :\n",
    "\n",
    "    # Use this space to carry out the following steps: \n",
    "    \n",
    "    # 1. Build a subfolder for the artist\n",
    "    # 2. Iterate over the lyrics pages\n",
    "    # 3. Request the lyrics page. \n",
    "        # Don't forget to add a line like `time.sleep(5 + 10*random.random())`\n",
    "        # to sleep after making the request\n",
    "    # 4. Extract the title and lyrics from the page.\n",
    "    # 5. Write out the title, two returns ('\\n'), and the lyrics. Use `generate_filename_from_url`\n",
    "    #    to generate the filename. \n",
    "    \n",
    "    # Remember to pull at least 20 songs per artist. It may be fun to pull all the songs for the artist\n",
    "    "
   ]
  },
  {
   "cell_type": "code",
   "execution_count": null,
   "metadata": {},
   "outputs": [],
   "source": [
    "print(f\"Total run time was {round((time.time() - start)/3600,2)} hours.\")"
   ]
  },
  {
   "cell_type": "markdown",
   "metadata": {},
   "source": [
    "---\n",
    "\n",
    "# Evaluation\n",
    "\n",
    "This assignment asks you to pull data from the Twitter API and scrape www.AZLyrics.com.  After you have finished the above sections , run all the cells in this notebook. Print this to PDF and submit it, per the instructions."
   ]
  },
  {
   "cell_type": "code",
   "execution_count": 4,
   "metadata": {},
   "outputs": [],
   "source": [
    "# Simple word extractor from Peter Norvig: https://norvig.com/spell-correct.html\n",
    "def words(text): \n",
    "    return re.findall(r'\\w+', text.lower())"
   ]
  },
  {
   "cell_type": "markdown",
   "metadata": {},
   "source": [
    "---\n",
    "\n",
    "## Checking Twitter Data\n",
    "\n",
    "The output from your Twitter API pull should be two files per artist, stored in files with formats like `cher_followers.txt` (a list of all follower IDs you pulled) and `cher_followers_data.txt`. These files should be in a folder named `twitter` within the repository directory. This code summarizes the information at a high level to help the instructor evaluate your work. "
   ]
  },
  {
   "cell_type": "code",
   "execution_count": 10,
   "metadata": {},
   "outputs": [
    {
     "name": "stdout",
     "output_type": "stream",
     "text": [
      "We see two artist handles: smashmouth and wallowsmusic.\n"
     ]
    }
   ],
   "source": [
    "twitter_files = os.listdir(\"twitter\")\n",
    "#this line has been modified to also exclude ipynb checkpoint files.\n",
    "twitter_files = [f for f in twitter_files if f != \".DS_Store\" and f != \".ipynb_checkpoints\"]\n",
    "artist_handles = list(set([name.split(\"_\")[0] for name in twitter_files]))\n",
    "print(f\"We see two artist handles: {artist_handles[0]} and {artist_handles[1]}.\")"
   ]
  },
  {
   "cell_type": "code",
   "execution_count": 25,
   "metadata": {},
   "outputs": [
    {
     "name": "stdout",
     "output_type": "stream",
     "text": [
      "We see 59999 in your follower file for smashmouth, assuming a header row.\n",
      "In the follower data file (smashmouth_followers_data.tsv) for smashmouth, we have these columns:\n",
      "screen_name : name : id : location : followers_count : friends_count : description\n",
      "\n",
      "We have 59912 data rows for smashmouth in the follower data file.\n",
      "For smashmouth we have 17736 unique locations.\n",
      "For smashmouth we have 509143 words in the descriptions.\n",
      "Here are the five most common words:\n",
      "[('i', 13834), ('and', 10635), ('the', 8749), ('a', 8492), ('of', 6863)]\n",
      "\n",
      "----------------------------------------\n",
      "\n",
      "We see 59999 in your follower file for wallowsmusic, assuming a header row.\n",
      "In the follower data file (wallowsmusic_followers_data.tsv) for wallowsmusic, we have these columns:\n",
      "screen_name : name : id : location : followers_count : friends_count : description\n",
      "\n",
      "We have 60223 data rows for wallowsmusic in the follower data file.\n",
      "For wallowsmusic we have 16483 unique locations.\n",
      "For wallowsmusic we have 273044 words in the descriptions.\n",
      "Here are the five most common words:\n",
      "[('i', 7334), ('she', 4640), ('a', 4285), ('the', 3803), ('and', 3707)]\n",
      "\n",
      "----------------------------------------\n",
      "\n"
     ]
    }
   ],
   "source": [
    "for artist in artist_handles :\n",
    "    follower_file = artist + \"_followers.txt\"\n",
    "    follower_data_file = artist + \"_followers_data.tsv\"\n",
    "    \n",
    "    ids = open(\"twitter/\" + follower_file,'r').readlines()\n",
    "    \n",
    "    print(f\"We see {len(ids)-1} in your follower file for {artist}, assuming a header row.\")\n",
    "    \n",
    "    with open(\"twitter/\" + follower_data_file,'r') as infile :\n",
    "        \n",
    "        # check the headers\n",
    "        headers = infile.readline().split(\"\\t\")\n",
    "        \n",
    "        print(f\"In the follower data file ({follower_data_file}) for {artist}, we have these columns:\")\n",
    "        print(\" : \".join(headers))\n",
    "        \n",
    "        description_words = []\n",
    "        locations = set()\n",
    "        \n",
    "        \n",
    "        for idx, line in enumerate(infile.readlines()) :\n",
    "            line = line.strip(\"\\n\").split(\"\\t\")\n",
    "            \n",
    "            try : \n",
    "                locations.add(line[3])            \n",
    "                description_words.extend(words(line[6]))\n",
    "            except :\n",
    "                pass\n",
    "    \n",
    "        \n",
    "\n",
    "        print(f\"We have {idx+1} data rows for {artist} in the follower data file.\")\n",
    "\n",
    "        print(f\"For {artist} we have {len(locations)} unique locations.\")\n",
    "\n",
    "        print(f\"For {artist} we have {len(description_words)} words in the descriptions.\")\n",
    "        print(\"Here are the five most common words:\")\n",
    "        print(Counter(description_words).most_common(5))\n",
    "\n",
    "        \n",
    "        print(\"\")\n",
    "        print(\"-\"*40)\n",
    "        print(\"\")\n",
    "    "
   ]
  },
  {
   "cell_type": "markdown",
   "metadata": {},
   "source": [
    "## Checking Lyrics \n",
    "\n",
    "The output from your lyrics scrape should be stored in files located in this path from the directory:\n",
    "`/lyrics/[Artist Name]/[filename from URL]`. This code summarizes the information at a high level to help the instructor evaluate your work. "
   ]
  },
  {
   "cell_type": "code",
   "execution_count": 28,
   "metadata": {},
   "outputs": [
    {
     "name": "stdout",
     "output_type": "stream",
     "text": [
      "For wallows we have 48 files.\n",
      "For wallows we have roughly 13113 words, 1189 are unique.\n",
      "For smash mouth we have 96 files.\n",
      "For smash mouth we have roughly 24848 words, 2595 are unique.\n"
     ]
    }
   ],
   "source": [
    "artist_folders = os.listdir(\"lyrics/\")\n",
    "artist_folders = [f for f in artist_folders if os.path.isdir(\"lyrics/\" + f) and f != \".ipynb_checkpoints\"]\n",
    "\n",
    "for artist in artist_folders : \n",
    "    artist_files = os.listdir(\"lyrics/\" + artist)\n",
    "    artist_files = [f for f in artist_files if 'txt' in f or 'csv' in f or 'tsv' in f]\n",
    "\n",
    "    print(f\"For {artist} we have {len(artist_files)} files.\")\n",
    "\n",
    "    artist_words = []\n",
    "\n",
    "    for f_name in artist_files : \n",
    "        with open(\"lyrics/\" + artist + \"/\" + f_name) as infile : \n",
    "            artist_words.extend(words(infile.read()))\n",
    "\n",
    "            \n",
    "    print(f\"For {artist} we have roughly {len(artist_words)} words, {len(set(artist_words))} are unique.\")\n"
   ]
  }
 ],
 "metadata": {
  "instance_type": "ml.t3.medium",
  "kernelspec": {
   "display_name": "Python 3 (Data Science)",
   "language": "python",
   "name": "python3__SAGEMAKER_INTERNAL__arn:aws:sagemaker:us-west-1:742091327244:image/datascience-1.0"
  },
  "language_info": {
   "codemirror_mode": {
    "name": "ipython",
    "version": 3
   },
   "file_extension": ".py",
   "mimetype": "text/x-python",
   "name": "python",
   "nbconvert_exporter": "python",
   "pygments_lexer": "ipython3",
   "version": "3.7.10"
  }
 },
 "nbformat": 4,
 "nbformat_minor": 5
}
