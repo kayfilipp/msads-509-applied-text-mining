{
 "cells": [
  {
   "cell_type": "markdown",
   "id": "7f79baf9",
   "metadata": {},
   "source": [
    "# ADS 509 Sentiment Assignment\n",
    "\n",
    "This notebook holds the Sentiment Assignment for Module 6 in ADS 509, Applied Text Mining. Work through this notebook, writing code and answering questions where required. \n",
    "\n",
    "In a previous assignment you put together Twitter data and lyrics data on two artists. In this assignment we apply sentiment analysis to those data sets. If, for some reason, you did not complete that previous assignment, data to use for this assignment can be found in the assignment materials section of Blackboard. \n"
   ]
  },
  {
   "cell_type": "markdown",
   "id": "aae8e2e1",
   "metadata": {},
   "source": [
    "## General Assignment Instructions\n",
    "\n",
    "These instructions are included in every assignment, to remind you of the coding standards for the class. Feel free to delete this cell after reading it. \n",
    "\n",
    "One sign of mature code is conforming to a style guide. We recommend the [Google Python Style Guide](https://google.github.io/styleguide/pyguide.html). If you use a different style guide, please include a cell with a link. \n",
    "\n",
    "Your code should be relatively easy-to-read, sensibly commented, and clean. Writing code is a messy process, so please be sure to edit your final submission. Remove any cells that are not needed or parts of cells that contain unnecessary code. Remove inessential `import` statements and make sure that all such statements are moved into the designated cell. \n",
    "\n",
    "Make use of non-code cells for written commentary. These cells should be grammatical and clearly written. In some of these cells you will have questions to answer. The questions will be marked by a \"Q:\" and will have a corresponding \"A:\" spot for you. *Make sure to answer every question marked with a `Q:` for full credit.* \n"
   ]
  },
  {
   "cell_type": "code",
   "execution_count": 3,
   "id": "e2d096b7",
   "metadata": {},
   "outputs": [],
   "source": [
    "import os\n",
    "import re\n",
    "import emoji\n",
    "import pandas as pd\n",
    "import numpy as np\n",
    "\n",
    "from collections import Counter, defaultdict\n",
    "from string import punctuation\n",
    "\n",
    "from nltk.corpus import stopwords\n",
    "\n",
    "sw = stopwords.words(\"english\")"
   ]
  },
  {
   "cell_type": "code",
   "execution_count": 65,
   "id": "6b555ab2",
   "metadata": {},
   "outputs": [],
   "source": [
    "# Add any additional import statements you need here\n",
    "import requests\n",
    "import nltk\n",
    "from nltk.tokenize import word_tokenize\n",
    "from bs4 import BeautifulSoup"
   ]
  },
  {
   "cell_type": "code",
   "execution_count": 4,
   "id": "923b5a86",
   "metadata": {},
   "outputs": [],
   "source": [
    "# change `data_location` to the location of the folder on your machine.\n",
    "data_location = \"C:/Users/fkrasovsky/OneDrive - Allvue Systems/Documents/usd/msads-509/Module-1-Scraping-APIs-and Research Questions/\"\n",
    "\n",
    "# These subfolders should still work if you correctly stored the \n",
    "# data from the Module 1 assignment\n",
    "twitter_folder = \"twitter/\"\n",
    "lyrics_folder = \"lyrics/\"\n",
    "\n",
    "positive_words_file = \"positive-words.txt\"\n",
    "negative_words_file = \"negative-words.txt\"\n",
    "tidy_text_file = \"tidytext_sentiments.txt\""
   ]
  },
  {
   "cell_type": "markdown",
   "id": "9d3bf93e",
   "metadata": {},
   "source": [
    "## Data Input\n",
    "\n",
    "Now read in each of the corpora. For the lyrics data, it may be convenient to store the entire contents of the file to make it easier to inspect the titles individually, as you'll do in the last part of the assignment. In the solution, I stored the lyrics data in a dictionary with two dimensions of keys: artist and song. The value was the file contents. A Pandas data frame would work equally well. \n",
    "\n",
    "For the Twitter data, we only need the description field for this assignment. Feel free all the descriptions read it into a data structure. In the solution, I stored the descriptions as a dictionary of lists, with the key being the artist. \n",
    "\n",
    "\n"
   ]
  },
  {
   "cell_type": "markdown",
   "id": "a3b0ac17",
   "metadata": {},
   "source": [
    "#### Lyrics Data Ingestion"
   ]
  },
  {
   "cell_type": "code",
   "execution_count": 8,
   "id": "7c907d51",
   "metadata": {},
   "outputs": [
    {
     "data": {
      "text/html": [
       "<div>\n",
       "<style scoped>\n",
       "    .dataframe tbody tr th:only-of-type {\n",
       "        vertical-align: middle;\n",
       "    }\n",
       "\n",
       "    .dataframe tbody tr th {\n",
       "        vertical-align: top;\n",
       "    }\n",
       "\n",
       "    .dataframe thead th {\n",
       "        text-align: right;\n",
       "    }\n",
       "</style>\n",
       "<table border=\"1\" class=\"dataframe\">\n",
       "  <thead>\n",
       "    <tr style=\"text-align: right;\">\n",
       "      <th></th>\n",
       "      <th>artist</th>\n",
       "      <th>song_name</th>\n",
       "      <th>text</th>\n",
       "    </tr>\n",
       "  </thead>\n",
       "  <tbody>\n",
       "    <tr>\n",
       "      <th>0</th>\n",
       "      <td>smash mouth</td>\n",
       "      <td>105\\n</td>\n",
       "      <td>\\n \\n \\n \\n Why the hell are we waitin' in lin...</td>\n",
       "    </tr>\n",
       "    <tr>\n",
       "      <th>1</th>\n",
       "      <td>smash mouth</td>\n",
       "      <td>2000 Miles\\n</td>\n",
       "      <td>\\n \\n \\n \\n He's gone 2000 miles\\n It's very f...</td>\n",
       "    </tr>\n",
       "    <tr>\n",
       "      <th>2</th>\n",
       "      <td>smash mouth</td>\n",
       "      <td>All Star\\n</td>\n",
       "      <td>\\n \\n \\n \\n Somebody once told me the world is...</td>\n",
       "    </tr>\n",
       "    <tr>\n",
       "      <th>3</th>\n",
       "      <td>smash mouth</td>\n",
       "      <td>Always Gets Her Way\\n</td>\n",
       "      <td>\\n \\n \\n \\n I know she likes her magazines\\n \\...</td>\n",
       "    </tr>\n",
       "    <tr>\n",
       "      <th>4</th>\n",
       "      <td>smash mouth</td>\n",
       "      <td>Beautiful Bomb\\n</td>\n",
       "      <td>\\n \\n \\n \\n Your asteroids bounce off her like...</td>\n",
       "    </tr>\n",
       "  </tbody>\n",
       "</table>\n",
       "</div>"
      ],
      "text/plain": [
       "        artist              song_name  \\\n",
       "0  smash mouth                  105\\n   \n",
       "1  smash mouth           2000 Miles\\n   \n",
       "2  smash mouth             All Star\\n   \n",
       "3  smash mouth  Always Gets Her Way\\n   \n",
       "4  smash mouth       Beautiful Bomb\\n   \n",
       "\n",
       "                                                text  \n",
       "0  \\n \\n \\n \\n Why the hell are we waitin' in lin...  \n",
       "1  \\n \\n \\n \\n He's gone 2000 miles\\n It's very f...  \n",
       "2  \\n \\n \\n \\n Somebody once told me the world is...  \n",
       "3  \\n \\n \\n \\n I know she likes her magazines\\n \\...  \n",
       "4  \\n \\n \\n \\n Your asteroids bounce off her like...  "
      ]
     },
     "execution_count": 8,
     "metadata": {},
     "output_type": "execute_result"
    }
   ],
   "source": [
    "# Read in the lyrics data\n",
    "\n",
    "# point at the folder containing lyrics for all our artists\n",
    "lyrics_path = data_location+'/'+lyrics_folder\n",
    "artists = os.listdir(lyrics_path)\n",
    "\n",
    "#iterate over both artists, get a list of all the text files containing their songs, read them into separate dataframes.\n",
    "#we can create dynamic variable names for the dfs using the globals function.\n",
    "\n",
    "song_artist = []\n",
    "song_names = []\n",
    "song_lyrics = []\n",
    "\n",
    "for artist in artists:\n",
    "    \n",
    "    artist_path = lyrics_path + artist\n",
    "    songs = os.listdir(artist_path)\n",
    "\n",
    "    # get each song for our artist, read it in as a string, and append it to a list.\n",
    "    for song in songs:\n",
    "        song_path = artist_path + '/' + song\n",
    "        \n",
    "        with open(song_path) as f:\n",
    "            lines = f.readlines()\n",
    "\n",
    "        # we also need a meaningful way to extract the song name. the rule for \n",
    "        # this dataset is that the title is separated by at least one carriage return,\n",
    "        # and we also know that it's always on the first line.\n",
    "        \n",
    "        this_song = lines[0]\n",
    "        this_lyrics = ' '.join(lines[1:])\n",
    "        \n",
    "        song_artist.append(artist)\n",
    "        song_names.append(this_song)\n",
    "        song_lyrics.append(this_lyrics)\n",
    "\n",
    "d = {\n",
    "        'artist':song_artist,\n",
    "        'song_name': song_names,\n",
    "        'text': song_lyrics\n",
    "    }\n",
    "\n",
    "#turn into a datafreame and do a sanity check\n",
    "df = pd.DataFrame(d)\n",
    "df.head()"
   ]
  },
  {
   "cell_type": "markdown",
   "id": "bf7e9210",
   "metadata": {},
   "source": [
    "#### Twitter Data Ingestion"
   ]
  },
  {
   "cell_type": "code",
   "execution_count": 9,
   "id": "debcac5a",
   "metadata": {},
   "outputs": [
    {
     "data": {
      "text/html": [
       "<div>\n",
       "<style scoped>\n",
       "    .dataframe tbody tr th:only-of-type {\n",
       "        vertical-align: middle;\n",
       "    }\n",
       "\n",
       "    .dataframe tbody tr th {\n",
       "        vertical-align: top;\n",
       "    }\n",
       "\n",
       "    .dataframe thead th {\n",
       "        text-align: right;\n",
       "    }\n",
       "</style>\n",
       "<table border=\"1\" class=\"dataframe\">\n",
       "  <thead>\n",
       "    <tr style=\"text-align: right;\">\n",
       "      <th></th>\n",
       "      <th>text</th>\n",
       "      <th>artist</th>\n",
       "    </tr>\n",
       "  </thead>\n",
       "  <tbody>\n",
       "    <tr>\n",
       "      <th>0</th>\n",
       "      <td>I'm whatever SHHS'21 Not on Twitter much..</td>\n",
       "      <td>smashmouth</td>\n",
       "    </tr>\n",
       "    <tr>\n",
       "      <th>1</th>\n",
       "      <td>NaN</td>\n",
       "      <td>smashmouth</td>\n",
       "    </tr>\n",
       "    <tr>\n",
       "      <th>2</th>\n",
       "      <td>17 | i game occasionally | matching with @batb...</td>\n",
       "      <td>smashmouth</td>\n",
       "    </tr>\n",
       "    <tr>\n",
       "      <th>3</th>\n",
       "      <td>22 He/Him Spotted Hyena British Autistic I lik...</td>\n",
       "      <td>smashmouth</td>\n",
       "    </tr>\n",
       "    <tr>\n",
       "      <th>4</th>\n",
       "      <td>26 • Guy who games • BotW glitch enthusiast • ...</td>\n",
       "      <td>smashmouth</td>\n",
       "    </tr>\n",
       "  </tbody>\n",
       "</table>\n",
       "</div>"
      ],
      "text/plain": [
       "                                                text      artist\n",
       "0         I'm whatever SHHS'21 Not on Twitter much..  smashmouth\n",
       "1                                                NaN  smashmouth\n",
       "2  17 | i game occasionally | matching with @batb...  smashmouth\n",
       "3  22 He/Him Spotted Hyena British Autistic I lik...  smashmouth\n",
       "4  26 • Guy who games • BotW glitch enthusiast • ...  smashmouth"
      ]
     },
     "execution_count": 9,
     "metadata": {},
     "output_type": "execute_result"
    }
   ],
   "source": [
    "# Read in the twitter data\n",
    "#read in the twitter data\n",
    "twitter_path = data_location+'/'+twitter_folder\n",
    "descriptions = []\n",
    "\n",
    "for file in os.listdir(twitter_path):\n",
    "    if (file.split('.')[1]=='tsv'):\n",
    "        \n",
    "        artist_name = file.split('_')[0]\n",
    "        follower_data = pd.read_csv(twitter_path+'/'+file,sep='\\t')\n",
    "        follower_data['artist'] = artist_name\n",
    "        follower_desc = follower_data[['description','artist']]\n",
    "        descriptions.append(follower_desc)\n",
    "        \n",
    "twitter_df = pd.DataFrame(descriptions[0].append(descriptions[1], \n",
    "                  ignore_index = True),columns=['description','artist'])\n",
    "twitter_df = twitter_df.rename(columns={\"description\": \"text\"})\n",
    "twitter_df.head()"
   ]
  },
  {
   "cell_type": "code",
   "execution_count": 42,
   "id": "af9e7a4b",
   "metadata": {},
   "outputs": [],
   "source": [
    "# Read in the positive and negative words and the\n",
    "# tidytext sentiment. Store these so that the positive\n",
    "# words are associated with a score of +1 and negative words\n",
    "# are associated with a score of -1. You can use a dataframe or a \n",
    "# dictionary for this.\n",
    "\n",
    "sentiment = {}\n",
    "\n",
    "#we know that the first 34 lines are metadata, so we skip them.\n",
    "\n",
    "with open(positive_words_file) as file:\n",
    "    words = file.readlines()[35:]\n",
    "    \n",
    "    #remove newline characters\n",
    "    for i in range(0,len(words)):\n",
    "        words[i] = words[i].strip(\"\\n\")\n",
    "        sentiment[words[i]] = 1 \n",
    "        \n",
    "with open(negative_words_file) as file:\n",
    "    words = file.readlines()[35:]\n",
    "    \n",
    "    #remove newline characters\n",
    "    for i in range(0,len(words)):\n",
    "        words[i] = words[i].strip(\"\\n\")\n",
    "        sentiment[words[i]] = -1 \n",
    "        \n",
    "# dealing with the tidytext sentiments is unique because of its dataframe structure.\n",
    "def sentiment_convert(sentiment):\n",
    "    if sentiment==\"positive\":\n",
    "        return 1\n",
    "    return -1\n",
    "# convert sentiment into 1 and -1\n",
    "tidy = pd.read_csv(tidy_text_file,sep=\"\\t\")\n",
    "tidy['num_sentiment'] = tidy['sentiment'].map(sentiment_convert)\n",
    "\n",
    "# update the sentiment dictionary with the tidy words.\n",
    "tidy_dict = dict(zip(tidy['word'], tidy['num_sentiment']))\n",
    "sentiment.update(tidy_dict)"
   ]
  },
  {
   "cell_type": "markdown",
   "id": "6a5f3b12",
   "metadata": {},
   "source": [
    "## Sentiment Analysis on Songs\n",
    "\n",
    "In this section, score the sentiment for all the songs for both artists in your data set. Score the sentiment by manually calculating the sentiment using the combined lexicons provided in this repository. \n",
    "\n",
    "After you have calculated these sentiments, answer the questions at the end of this section.\n"
   ]
  },
  {
   "cell_type": "code",
   "execution_count": 49,
   "id": "664f8d8f",
   "metadata": {},
   "outputs": [
    {
     "data": {
      "text/html": [
       "<div>\n",
       "<style scoped>\n",
       "    .dataframe tbody tr th:only-of-type {\n",
       "        vertical-align: middle;\n",
       "    }\n",
       "\n",
       "    .dataframe tbody tr th {\n",
       "        vertical-align: top;\n",
       "    }\n",
       "\n",
       "    .dataframe thead th {\n",
       "        text-align: right;\n",
       "    }\n",
       "</style>\n",
       "<table border=\"1\" class=\"dataframe\">\n",
       "  <thead>\n",
       "    <tr style=\"text-align: right;\">\n",
       "      <th></th>\n",
       "      <th>artist</th>\n",
       "      <th>song_name</th>\n",
       "      <th>text</th>\n",
       "      <th>sentment_score</th>\n",
       "      <th>sentiment_score</th>\n",
       "    </tr>\n",
       "  </thead>\n",
       "  <tbody>\n",
       "    <tr>\n",
       "      <th>0</th>\n",
       "      <td>smash mouth</td>\n",
       "      <td>105\\n</td>\n",
       "      <td>\\n \\n \\n \\n Why the hell are we waitin' in lin...</td>\n",
       "      <td>0.008929</td>\n",
       "      <td>0.008929</td>\n",
       "    </tr>\n",
       "    <tr>\n",
       "      <th>1</th>\n",
       "      <td>smash mouth</td>\n",
       "      <td>2000 Miles\\n</td>\n",
       "      <td>\\n \\n \\n \\n He's gone 2000 miles\\n It's very f...</td>\n",
       "      <td>0.008547</td>\n",
       "      <td>0.008547</td>\n",
       "    </tr>\n",
       "    <tr>\n",
       "      <th>2</th>\n",
       "      <td>smash mouth</td>\n",
       "      <td>All Star\\n</td>\n",
       "      <td>\\n \\n \\n \\n Somebody once told me the world is...</td>\n",
       "      <td>0.028736</td>\n",
       "      <td>0.028736</td>\n",
       "    </tr>\n",
       "    <tr>\n",
       "      <th>3</th>\n",
       "      <td>smash mouth</td>\n",
       "      <td>Always Gets Her Way\\n</td>\n",
       "      <td>\\n \\n \\n \\n I know she likes her magazines\\n \\...</td>\n",
       "      <td>0.071006</td>\n",
       "      <td>0.071006</td>\n",
       "    </tr>\n",
       "    <tr>\n",
       "      <th>4</th>\n",
       "      <td>smash mouth</td>\n",
       "      <td>Beautiful Bomb\\n</td>\n",
       "      <td>\\n \\n \\n \\n Your asteroids bounce off her like...</td>\n",
       "      <td>-0.008197</td>\n",
       "      <td>-0.008197</td>\n",
       "    </tr>\n",
       "  </tbody>\n",
       "</table>\n",
       "</div>"
      ],
      "text/plain": [
       "        artist              song_name  \\\n",
       "0  smash mouth                  105\\n   \n",
       "1  smash mouth           2000 Miles\\n   \n",
       "2  smash mouth             All Star\\n   \n",
       "3  smash mouth  Always Gets Her Way\\n   \n",
       "4  smash mouth       Beautiful Bomb\\n   \n",
       "\n",
       "                                                text  sentment_score  \\\n",
       "0  \\n \\n \\n \\n Why the hell are we waitin' in lin...        0.008929   \n",
       "1  \\n \\n \\n \\n He's gone 2000 miles\\n It's very f...        0.008547   \n",
       "2  \\n \\n \\n \\n Somebody once told me the world is...        0.028736   \n",
       "3  \\n \\n \\n \\n I know she likes her magazines\\n \\...        0.071006   \n",
       "4  \\n \\n \\n \\n Your asteroids bounce off her like...       -0.008197   \n",
       "\n",
       "   sentiment_score  \n",
       "0         0.008929  \n",
       "1         0.008547  \n",
       "2         0.028736  \n",
       "3         0.071006  \n",
       "4        -0.008197  "
      ]
     },
     "execution_count": 49,
     "metadata": {},
     "output_type": "execute_result"
    }
   ],
   "source": [
    "#create a function that scores the sentiment for a body of text by dividing the sum of sentiment points by\n",
    "#the total number of words.\n",
    "def score(text):\n",
    "    sentiment_score = 0\n",
    "    bag_of_words = word_tokenize(text.lower())\n",
    "    for word in bag_of_words:\n",
    "        if word in sentiment:\n",
    "            sentiment_score += sentiment[word]\n",
    "            \n",
    "    return sentiment_score / len(bag_of_words)\n",
    "\n",
    "df['sentiment_score'] = df['text'].map(score)\n",
    "df.head()"
   ]
  },
  {
   "cell_type": "markdown",
   "id": "ec2193b8",
   "metadata": {},
   "source": [
    "#### Insight 1: Average sentiment per song by artist"
   ]
  },
  {
   "cell_type": "code",
   "execution_count": 50,
   "id": "29db0cb6",
   "metadata": {
    "scrolled": true
   },
   "outputs": [
    {
     "data": {
      "text/plain": [
       "artist\n",
       "smash mouth    0.017300\n",
       "wallows        0.011347\n",
       "Name: sentiment_score, dtype: float64"
      ]
     },
     "execution_count": 50,
     "metadata": {},
     "output_type": "execute_result"
    }
   ],
   "source": [
    "df.groupby(\"artist\")['sentiment_score'].mean()"
   ]
  },
  {
   "cell_type": "markdown",
   "id": "d085e47e",
   "metadata": {},
   "source": [
    "#### Insight 2: Highest and Lowest Sentiments for Smash Mouth\n",
    "we could have probably just run this code twice, but let's do a function anyway!"
   ]
  },
  {
   "cell_type": "code",
   "execution_count": 58,
   "id": "183b598b",
   "metadata": {},
   "outputs": [
    {
     "name": "stdout",
     "output_type": "stream",
     "text": [
      "The highest-sentiment song for smash mouth is: Can't Get Enough Of You Baby with a score of 0.1828793774319066\n",
      "The lowest-sentiment song for smash mouth is: Sorry About Your Penis with a score of -0.07991803278688525\n"
     ]
    }
   ],
   "source": [
    "def highLowSongs(df,artist):\n",
    "    \n",
    "    sm_max = df.query(f\"artist=='{artist}'\")['sentiment_score'].idxmax()\n",
    "    sm_max_song = df.iloc[sm_max]['song_name'].strip(\"\\n\")\n",
    "    sm_max_score = df.iloc[sm_max]['sentiment_score']\n",
    "    \n",
    "    sm_min = df.query(f\"artist=='{artist}'\")['sentiment_score'].idxmin()\n",
    "    sm_min_song = df.iloc[sm_min]['song_name'].strip(\"\\n\")\n",
    "    sm_min_score = df.iloc[sm_min]['sentiment_score']\n",
    "    \n",
    "    print(f\"The highest-sentiment song for {artist} is: {sm_max_song} with a score of {sm_max_score}\")\n",
    "    print(f\"The lowest-sentiment song for {artist} is: {sm_min_song} with a score of {sm_min_score}\")\n",
    "    \n",
    "highLowSongs(df,'smash mouth')"
   ]
  },
  {
   "cell_type": "markdown",
   "id": "6c858d6d",
   "metadata": {},
   "source": [
    "#### Insight 3: Highest and Lowest Sentiments for Wallows"
   ]
  },
  {
   "cell_type": "code",
   "execution_count": 60,
   "id": "94c336dd",
   "metadata": {},
   "outputs": [
    {
     "name": "stdout",
     "output_type": "stream",
     "text": [
      "The highest-sentiment song for wallows is: Let The Sun In with a score of 0.10894941634241245\n",
      "The lowest-sentiment song for wallows is: Do Not Wait with a score of -0.06964285714285715\n"
     ]
    }
   ],
   "source": [
    "highLowSongs(df,'wallows')"
   ]
  },
  {
   "cell_type": "markdown",
   "id": "1f8334f4",
   "metadata": {},
   "source": [
    "### Questions\n",
    "\n",
    "**Q: Overall, which artist has the higher average sentiment per song?**\n",
    "\n",
    "A: Smash Mouth has a slightly higher sentiment score, on average, compared to Wallows, which is in line with subject matter expertise that the Wallows write music for people that are too shy to say hello to their crush at a house party.\n",
    "\n",
    "---\n",
    "\n",
    "**Q: For your first artist, what songs have the highest and lowest sentiments? Print those songs to the screen.**\n",
    "\n",
    "A: For smash mouth, Can't get enough of you baby has the highest sentiment, while the lowest-ranking song is Sorry About Your Penis.\n",
    "\n",
    "---\n",
    "\n",
    "**Q: For your second artist, what songs have the highest and lowest sentiments? Print those songs to the screen.**\n",
    "\n",
    "For the Wallows, Let the Sun In has the highest sentiment while Do Not Wait has the lowest sentiment.\n",
    "\n",
    "---\n",
    "\n",
    "**Q: Plot the distributions of the sentiment scores for both artists. You can use `seaborn` to plot densities or plot histograms in matplotlib.**\n",
    "\n",
    "\n"
   ]
  },
  {
   "cell_type": "markdown",
   "id": "f78be1ed",
   "metadata": {},
   "source": [
    "#### Histogram for Smash Mouth"
   ]
  },
  {
   "cell_type": "code",
   "execution_count": 62,
   "id": "777d6e28",
   "metadata": {},
   "outputs": [
    {
     "data": {
      "text/plain": [
       "<AxesSubplot:ylabel='Frequency'>"
      ]
     },
     "execution_count": 62,
     "metadata": {},
     "output_type": "execute_result"
    },
    {
     "data": {
      "image/png": "[encoded data removed]",
      "text/plain": [
       "<Figure size 432x288 with 1 Axes>"
      ]
     },
     "metadata": {
      "needs_background": "light"
     },
     "output_type": "display_data"
    }
   ],
   "source": [
    "df.query(\"artist=='smash mouth'\")['sentiment_score'].plot(kind='hist')"
   ]
  },
  {
   "cell_type": "markdown",
   "id": "40fd9145",
   "metadata": {},
   "source": [
    "#### Histogram for Wallows"
   ]
  },
  {
   "cell_type": "code",
   "execution_count": 63,
   "id": "2f6cd0a7",
   "metadata": {},
   "outputs": [
    {
     "data": {
      "text/plain": [
       "<AxesSubplot:ylabel='Frequency'>"
      ]
     },
     "execution_count": 63,
     "metadata": {},
     "output_type": "execute_result"
    },
    {
     "data": {
      "image/png": "[encoded data removed]",
      "text/plain": [
       "<Figure size 432x288 with 1 Axes>"
      ]
     },
     "metadata": {
      "needs_background": "light"
     },
     "output_type": "display_data"
    }
   ],
   "source": [
    "df.query(\"artist=='wallows'\")['sentiment_score'].plot(kind='hist')"
   ]
  },
  {
   "cell_type": "markdown",
   "id": "b3fe644d",
   "metadata": {},
   "source": [
    "## Sentiment Analysis on Twitter Descriptions\n",
    "\n",
    "In this section, define two sets of emojis you designate as positive and negative. Make sure to have at least 10 emojis per set. You can learn about the most popular emojis on Twitter at [the emojitracker](https://emojitracker.com/). \n",
    "\n",
    "Associate your positive emojis with a score of +1, negative with -1. Score the average sentiment of your two artists based on the Twitter descriptions of their followers. The average sentiment can just be the total score divided by number of followers. "
   ]
  },
  {
   "cell_type": "markdown",
   "id": "bd1185c3",
   "metadata": {},
   "source": [
    "#### Step 1: Scrape a library of emojis and sentiment scores\n",
    "for this, we can use a small lexicon created by <a href='http://kt.ijs.si/data/Emoji_sentiment_ranking/'>Novak, et al</a> and parse the webpage for a handy list of 80 emojis and round up their sentiment scores to 1 or -1. We use BS to go through each row and identify the emoji and the score."
   ]
  },
  {
   "cell_type": "code",
   "execution_count": 94,
   "id": "35143f8f",
   "metadata": {
    "scrolled": true
   },
   "outputs": [
    {
     "name": "stdout",
     "output_type": "stream",
     "text": [
      "[<tr class=\"tableizer-firstrow\">\n",
      "<th>Char</th><th>Image<br/>[twemoji]</th><th>Unicode<br/>codepoint</th><th>Occurrences<br/>[5...max]</th><th>Position<br/>[0...1]</th><th>Neg<br/>[0...1]</th><th>Neut<br/>[0...1]</th><th>Pos<br/>[0...1]</th><th>Sentiment score<br/>[-1...+1]</th><th>Sentiment bar<br/>(c.i. 95%)</th><th>Unicode name</th><th>Unicode block</th></tr>]\n"
     ]
    }
   ],
   "source": [
    "emojis = requests.get('http://kt.ijs.si/data/Emoji_sentiment_ranking/')\n",
    "soup = BeautifulSoup(emojis.text,'html.parser')\n",
    "emoji_data = soup.find_all(\"tr\")\n",
    "print(emoji_data[0:1])"
   ]
  },
  {
   "cell_type": "code",
   "execution_count": 101,
   "id": "ef05458e",
   "metadata": {
    "scrolled": true
   },
   "outputs": [
    {
     "data": {
      "text/plain": [
       "\"{'😂': 1, '❤': 1, '♥': 1, '😍': 1,\""
      ]
     },
     "execution_count": 101,
     "metadata": {},
     "output_type": "execute_result"
    }
   ],
   "source": [
    "emoji_lexicon = {}\n",
    "\n",
    "#iterate over our BS object and extract the icon and sentiment score for each emoji.\n",
    "#coerce the sentiment to 1 or -1.\n",
    "for emoji in emoji_data[1:]:\n",
    "    these_columns = emoji.find_all(\"td\")\n",
    "    this_icon = these_columns[0].text\n",
    "    this_sentiment = float(these_columns[8].text)\n",
    "    \n",
    "    if (this_sentiment >= 0):\n",
    "        this_sentiment = 1 \n",
    "    else:\n",
    "        this_sentiment = -1\n",
    "    \n",
    "    emoji_lexicon[this_icon] = this_sentiment\n",
    "    \n",
    "#print a small sample of our work as a sanity check \n",
    "str(emoji_lexicon)[0:32]"
   ]
  },
  {
   "cell_type": "markdown",
   "id": "d958b65c",
   "metadata": {},
   "source": [
    "#### Step 2: Score our Twitter Data with the emoji Lexicon"
   ]
  },
  {
   "cell_type": "code",
   "execution_count": null,
   "id": "15ef7225",
   "metadata": {},
   "outputs": [],
   "source": [
    "def emoji_score(text):\n",
    "    sentiment_score = 0\n",
    "    bag_of_words = word_tokenize(text.lower())\n",
    "    for word in bag_of_words:\n",
    "        if word in emoji_lexicon:\n",
    "            sentiment_score += emoji_lexicon[word]\n",
    "            \n",
    "    return sentiment_score / len(bag_of_words)\n",
    "\n",
    "#coerce text to str first to handle float edge cases.\n",
    "twitter_df['text'] = twitter_df['text'].astype(str)\n",
    "twitter_df['emoji_sentiment'] = twitter_df['text'].map(emoji_score)"
   ]
  },
  {
   "cell_type": "code",
   "execution_count": 105,
   "id": "af390da0",
   "metadata": {
    "scrolled": true
   },
   "outputs": [
    {
     "data": {
      "text/html": [
       "<div>\n",
       "<style scoped>\n",
       "    .dataframe tbody tr th:only-of-type {\n",
       "        vertical-align: middle;\n",
       "    }\n",
       "\n",
       "    .dataframe tbody tr th {\n",
       "        vertical-align: top;\n",
       "    }\n",
       "\n",
       "    .dataframe thead th {\n",
       "        text-align: right;\n",
       "    }\n",
       "</style>\n",
       "<table border=\"1\" class=\"dataframe\">\n",
       "  <thead>\n",
       "    <tr style=\"text-align: right;\">\n",
       "      <th></th>\n",
       "      <th>text</th>\n",
       "      <th>artist</th>\n",
       "      <th>emoji_sentiment</th>\n",
       "    </tr>\n",
       "  </thead>\n",
       "  <tbody>\n",
       "    <tr>\n",
       "      <th>71416</th>\n",
       "      <td>🎠 🌝 🎠</td>\n",
       "      <td>wallowsmusic</td>\n",
       "      <td>1.0</td>\n",
       "    </tr>\n",
       "    <tr>\n",
       "      <th>98405</th>\n",
       "      <td>💕</td>\n",
       "      <td>wallowsmusic</td>\n",
       "      <td>1.0</td>\n",
       "    </tr>\n",
       "    <tr>\n",
       "      <th>117592</th>\n",
       "      <td>🌆</td>\n",
       "      <td>wallowsmusic</td>\n",
       "      <td>1.0</td>\n",
       "    </tr>\n",
       "    <tr>\n",
       "      <th>90535</th>\n",
       "      <td>🐾</td>\n",
       "      <td>wallowsmusic</td>\n",
       "      <td>1.0</td>\n",
       "    </tr>\n",
       "    <tr>\n",
       "      <th>107499</th>\n",
       "      <td>🏡</td>\n",
       "      <td>wallowsmusic</td>\n",
       "      <td>1.0</td>\n",
       "    </tr>\n",
       "  </tbody>\n",
       "</table>\n",
       "</div>"
      ],
      "text/plain": [
       "         text        artist  emoji_sentiment\n",
       "71416   🎠 🌝 🎠  wallowsmusic              1.0\n",
       "98405       💕  wallowsmusic              1.0\n",
       "117592      🌆  wallowsmusic              1.0\n",
       "90535       🐾  wallowsmusic              1.0\n",
       "107499      🏡  wallowsmusic              1.0"
      ]
     },
     "execution_count": 105,
     "metadata": {},
     "output_type": "execute_result"
    }
   ],
   "source": [
    "#let's see how we did!\n",
    "twitter_df.sort_values('emoji_sentiment',ascending=False).head()"
   ]
  },
  {
   "cell_type": "markdown",
   "id": "33413cc7",
   "metadata": {},
   "source": [
    "#### Step 3. Get average score by artist"
   ]
  },
  {
   "cell_type": "code",
   "execution_count": 106,
   "id": "e9a82fbb",
   "metadata": {
    "scrolled": true
   },
   "outputs": [
    {
     "data": {
      "text/plain": [
       "artist\n",
       "smashmouth      0.008093\n",
       "wallowsmusic    0.016267\n",
       "Name: emoji_sentiment, dtype: float64"
      ]
     },
     "execution_count": 106,
     "metadata": {},
     "output_type": "execute_result"
    }
   ],
   "source": [
    "twitter_df.groupby(\"artist\")['emoji_sentiment'].mean()"
   ]
  },
  {
   "cell_type": "markdown",
   "id": "b1fad59c",
   "metadata": {},
   "source": [
    "#### Step 4. Get most common positive emoji by artist\n",
    "for this part, we employ a strategy of cloning a dictionary with only the positive emojis and cycling through our twitter_df, creating a list of emojis for each data point, merging the lists together, and creating a counter. "
   ]
  },
  {
   "cell_type": "code",
   "execution_count": 112,
   "id": "a7d0861b",
   "metadata": {},
   "outputs": [],
   "source": [
    "positive_emojis = {}\n",
    "for k,v in emoji_lexicon.items():\n",
    "    if v == 1:\n",
    "        positive_emojis[k] = v"
   ]
  },
  {
   "cell_type": "code",
   "execution_count": null,
   "id": "4918cc40",
   "metadata": {},
   "outputs": [],
   "source": [
    "def get_positive_emojis(text):\n",
    "    return [t for t in word_tokenize(text.lower()) if t in positive_emojis]\n",
    "\n",
    "def combine_tokens(tokens):\n",
    "    out = []\n",
    "    for token_list in tokens:\n",
    "        out = out + token_list\n",
    "    return out\n",
    "\n",
    "#place all the emojis for each bio into a list \n",
    "twitter_df['pos_emojis'] = twitter_df['text'].map(get_positive_emojis)"
   ]
  },
  {
   "cell_type": "code",
   "execution_count": null,
   "id": "4db158c1",
   "metadata": {},
   "outputs": [],
   "source": [
    "#get a list of emojis for each artist. notice the second expression where we reaffirm\n",
    "#that there are only two types of bands - smash mouth, and not smash mouth.\n",
    "smashmouth = combine_tokens(twitter_df.query(\"artist=='smashmouth'\")['pos_emojis'])\n",
    "wallows = combine_tokens(twitter_df.query(\"artist!='smashmouth'\")['pos_emojis'])"
   ]
  },
  {
   "cell_type": "markdown",
   "id": "fb92eb93",
   "metadata": {},
   "source": [
    "Q: What is the average sentiment of your two artists? \n",
    "\n",
    "A: Smashmouth has an average score of .008 while wallows has an average score of 0.016.\n",
    "\n",
    "---\n",
    "\n",
    "Q: Which positive emoji is the most popular for each artist? Which negative emoji? \n",
    "\n",
    "A: See below:\n",
    "\n"
   ]
  },
  {
   "cell_type": "code",
   "execution_count": 119,
   "id": "fc15c763",
   "metadata": {},
   "outputs": [
    {
     "name": "stdout",
     "output_type": "stream",
     "text": [
      "[('✨', 294)]\n"
     ]
    }
   ],
   "source": [
    "print(Counter(smashmouth).most_common(1))"
   ]
  },
  {
   "cell_type": "markdown",
   "id": "beb63962",
   "metadata": {},
   "source": [
    "the most common emoji in a twitter bio for a smash mouth fan is very appropriate, since most of them personally identify as an all-star."
   ]
  },
  {
   "cell_type": "code",
   "execution_count": 121,
   "id": "f8134b4d",
   "metadata": {},
   "outputs": [
    {
     "name": "stdout",
     "output_type": "stream",
     "text": [
      "[('⠀', 932), ('♡', 626)]\n"
     ]
    }
   ],
   "source": [
    "print(Counter(wallows).most_common(2))"
   ]
  },
  {
   "cell_type": "markdown",
   "id": "4f0d6fa7",
   "metadata": {},
   "source": [
    "Wallows followers tend to use white hearts the most often out of all positive emojis."
   ]
  }
 ],
 "metadata": {
  "kernelspec": {
   "display_name": "Python 3 (ipykernel)",
   "language": "python",
   "name": "python3"
  },
  "language_info": {
   "codemirror_mode": {
    "name": "ipython",
    "version": 3
   },
   "file_extension": ".py",
   "mimetype": "text/x-python",
   "name": "python",
   "nbconvert_exporter": "python",
   "pygments_lexer": "ipython3",
   "version": "3.8.2"
  }
 },
 "nbformat": 4,
 "nbformat_minor": 5
}
