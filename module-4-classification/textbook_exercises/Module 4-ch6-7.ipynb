{
 "cells": [
  {
   "cell_type": "markdown",
   "id": "84ed56d0",
   "metadata": {},
   "source": [
    "# Module 4: Creating Text Classifiers \n",
    "June 2022, MSADS 509 - Applied Text Mining"
   ]
  },
  {
   "cell_type": "markdown",
   "id": "67b8d114",
   "metadata": {},
   "source": [
    "**Context:** <div style=\"color:DarkCyan\">This notebook will go through the process of creating a supervised learning model using the Java development tool bug dataset. this data can be accessed at the following <a href=\"https://github.com/logpai/bugrepo/tree/master/JDT\">link.</a></div>"
   ]
  },
  {
   "cell_type": "code",
   "execution_count": 1,
   "id": "967fbbbc",
   "metadata": {},
   "outputs": [],
   "source": [
    "import pandas as pd\n",
    "import requests\n",
    "import io\n",
    "jdt_url = \"https://raw.githubusercontent.com/logpai/bugrepo/master/JDT/eclipse_jdt.csv\""
   ]
  },
  {
   "cell_type": "code",
   "execution_count": 147,
   "id": "6a261a4d",
   "metadata": {},
   "outputs": [
    {
     "data": {
      "text/html": [
       "<div>\n",
       "<style scoped>\n",
       "    .dataframe tbody tr th:only-of-type {\n",
       "        vertical-align: middle;\n",
       "    }\n",
       "\n",
       "    .dataframe tbody tr th {\n",
       "        vertical-align: top;\n",
       "    }\n",
       "\n",
       "    .dataframe thead th {\n",
       "        text-align: right;\n",
       "    }\n",
       "</style>\n",
       "<table border=\"1\" class=\"dataframe\">\n",
       "  <thead>\n",
       "    <tr style=\"text-align: right;\">\n",
       "      <th></th>\n",
       "      <th>Issue_id</th>\n",
       "      <th>Priority</th>\n",
       "      <th>Component</th>\n",
       "      <th>Duplicated_issue</th>\n",
       "      <th>Title</th>\n",
       "      <th>Description</th>\n",
       "      <th>Status</th>\n",
       "      <th>Resolution</th>\n",
       "      <th>Version</th>\n",
       "      <th>Created_time</th>\n",
       "      <th>Resolved_time</th>\n",
       "    </tr>\n",
       "  </thead>\n",
       "  <tbody>\n",
       "    <tr>\n",
       "      <th>0</th>\n",
       "      <td>1518</td>\n",
       "      <td>P1</td>\n",
       "      <td>Debug</td>\n",
       "      <td>NaN</td>\n",
       "      <td>Icons needed for actions (1GI5UXW)</td>\n",
       "      <td>JGS (8/8/01 5:20:19 PM); \\tWe need enabled; disabled &amp; hover icons for the following actions:; \\t\\tCopyToClipboardActionDelegate; \\t\\tRelaunchActionDelegate; \\t\\tTerminateAndRemoveActionDelegate; ; DW (9/24/2001 2:22:48 PM); \\tUse the standard copy icon for copy to clipboard (desktop likely exposes it).; ; DW (9/24/2001 2:23:05 PM); \\tMade requests for; \\t\\tRelaunch; \\t\\tTerminate All; \\t\\tTerminate &amp; Remove</td>\n",
       "      <td>VERIFIED</td>\n",
       "      <td>FIXED</td>\n",
       "      <td>2.0</td>\n",
       "      <td>2001-10-10 22:14:00 -0400</td>\n",
       "      <td>2001-10-18 11:51:14 -0400</td>\n",
       "    </tr>\n",
       "    <tr>\n",
       "      <th>1</th>\n",
       "      <td>1519</td>\n",
       "      <td>P3</td>\n",
       "      <td>Debug</td>\n",
       "      <td>NaN</td>\n",
       "      <td>README: Hit count not reset (1GET20Y)</td>\n",
       "      <td>JGS (6/4/01 11:43:47 AM); \\tSet a breakpoint in InfiniteLoop with a hit count.  When suspended;; \\tright click breakpoint in Breakpoints viewer and enable.  Hit count; \\tstays at previous value.  Should it be reset to zero?; ; DW (6/4/01 11:50:23 AM); \\tThis should just re-enable the breakpoint with the previous hit-count.; ; DS (6/4/2001 11:50:31 AM); \\tTo change a hit count breakpoint into a normal breakpoint; you set its hit count to zero.; \\tThis should likely be a readme item.; ; DW (6/4/01 6:33:43 PM); \\tMake into a README.; ; DW (6/15/01 9:45:55 AM); \\tAdded to README.</td>\n",
       "      <td>RESOLVED</td>\n",
       "      <td>WORKSFORME</td>\n",
       "      <td>2.0</td>\n",
       "      <td>2001-10-10 22:14:00 -0400</td>\n",
       "      <td>2001-11-28 13:42:46 -0500</td>\n",
       "    </tr>\n",
       "    <tr>\n",
       "      <th>2</th>\n",
       "      <td>1520</td>\n",
       "      <td>P3</td>\n",
       "      <td>Debug</td>\n",
       "      <td>NaN</td>\n",
       "      <td>Use styled text in console (1G9S1YF)</td>\n",
       "      <td>DW (2/26/01 5:56:36 PM); \\tCould allow users to use styled text in console; with preference support. This would; \\tallow console input to be shown in bold; etc.</td>\n",
       "      <td>CLOSED</td>\n",
       "      <td>WONTFIX</td>\n",
       "      <td>2.0</td>\n",
       "      <td>2001-10-10 22:14:00 -0400</td>\n",
       "      <td>2002-06-26 11:32:05 -0400</td>\n",
       "    </tr>\n",
       "    <tr>\n",
       "      <th>3</th>\n",
       "      <td>1521</td>\n",
       "      <td>P3</td>\n",
       "      <td>Debug</td>\n",
       "      <td>NaN</td>\n",
       "      <td>StringBuffer representation (1GE3BFA)</td>\n",
       "      <td>JGS (5/21/01 2:09:10 PM); \\tTo be consistent; should we represent StringBuffer objects in the variables view like; \\twe do Strings; with their values shown on the top node; so the user doesnt have to; \\texpand the object and look at the char array?; ; DW (5/21/01 6:33:02 PM); \\tDeferred - requires an evaluation.</td>\n",
       "      <td>VERIFIED</td>\n",
       "      <td>FIXED</td>\n",
       "      <td>2.0</td>\n",
       "      <td>2001-10-10 22:14:00 -0400</td>\n",
       "      <td>2002-02-05 10:37:09 -0500</td>\n",
       "    </tr>\n",
       "    <tr>\n",
       "      <th>4</th>\n",
       "      <td>1522</td>\n",
       "      <td>P2</td>\n",
       "      <td>Debug</td>\n",
       "      <td>1663.0</td>\n",
       "      <td>Feature: use #toString to display variable values (1G1Y25J)</td>\n",
       "      <td>DW (9/27/00 11:12:31 AM); \\tCurrently; the type of an object is shown in the variables view for ; its value.; \\tOnly Strings and primitive types show concrete values. We should display; \\tthe toString() of each object as its value. ; ; DW (10/23/00 11:22:02 AM); \\tComments from CM:; ; \\tFirst I need to define thread &lt;g&gt; because there are 2 of them:; 1) when I say thread; I mean a Java Thread; i.e. an object of type ; java.lang.Thread; 2) when I say vm thread; I mean the debuggers represenation of a thread in ; the VM;; \\ti.e. an object of type com.oti.defrogger.model.DbgThread; ; So; when asked for an objects toString; the debugger creates a new thread; to do the following:; ; - lock the vm thread so that no other thread can invoke toString on that vm ; thread; ; - set a flag on the vm thread: fIsInvokingToString = true; ; - use INVOKE_SINGLE_THREADED to send toString() to the object in the vm thread; ; - set fIsInvokingToString = false; ; - unlock the vm thread; ; ; The fIsInvokin...</td>\n",
       "      <td>RESOLVED</td>\n",
       "      <td>DUPLICATE</td>\n",
       "      <td>2.0</td>\n",
       "      <td>2001-10-10 22:14:00 -0400</td>\n",
       "      <td>2001-10-17 10:17:47 -0400</td>\n",
       "    </tr>\n",
       "  </tbody>\n",
       "</table>\n",
       "</div>"
      ],
      "text/plain": [
       "   Issue_id Priority Component  Duplicated_issue  \\\n",
       "0      1518       P1     Debug               NaN   \n",
       "1      1519       P3     Debug               NaN   \n",
       "2      1520       P3     Debug               NaN   \n",
       "3      1521       P3     Debug               NaN   \n",
       "4      1522       P2     Debug            1663.0   \n",
       "\n",
       "                                                         Title  \\\n",
       "0                           Icons needed for actions (1GI5UXW)   \n",
       "1                        README: Hit count not reset (1GET20Y)   \n",
       "2                         Use styled text in console (1G9S1YF)   \n",
       "3                        StringBuffer representation (1GE3BFA)   \n",
       "4  Feature: use #toString to display variable values (1G1Y25J)   \n",
       "\n",
       "                                                                                                                                                                                                                                                                                                                                                                                                                                                                                                                                                                                                                                                                                                                                                                                                                                                                                                                                                                                                                               Description  \\\n",
       "0                                                                                                                                                                                                                                                                                                                                                                                                                                                                                                                                                                                                              JGS (8/8/01 5:20:19 PM); \\tWe need enabled; disabled & hover icons for the following actions:; \\t\\tCopyToClipboardActionDelegate; \\t\\tRelaunchActionDelegate; \\t\\tTerminateAndRemoveActionDelegate; ; DW (9/24/2001 2:22:48 PM); \\tUse the standard copy icon for copy to clipboard (desktop likely exposes it).; ; DW (9/24/2001 2:23:05 PM); \\tMade requests for; \\t\\tRelaunch; \\t\\tTerminate All; \\t\\tTerminate & Remove   \n",
       "1                                                                                                                                                                                                                                                                                                                                                                                                                                   JGS (6/4/01 11:43:47 AM); \\tSet a breakpoint in InfiniteLoop with a hit count.  When suspended;; \\tright click breakpoint in Breakpoints viewer and enable.  Hit count; \\tstays at previous value.  Should it be reset to zero?; ; DW (6/4/01 11:50:23 AM); \\tThis should just re-enable the breakpoint with the previous hit-count.; ; DS (6/4/2001 11:50:31 AM); \\tTo change a hit count breakpoint into a normal breakpoint; you set its hit count to zero.; \\tThis should likely be a readme item.; ; DW (6/4/01 6:33:43 PM); \\tMake into a README.; ; DW (6/15/01 9:45:55 AM); \\tAdded to README.   \n",
       "2                                                                                                                                                                                                                                                                                                                                                                                                                                                                                                                                                                                                                                                                                                                                                                                                                                                                         DW (2/26/01 5:56:36 PM); \\tCould allow users to use styled text in console; with preference support. This would; \\tallow console input to be shown in bold; etc.   \n",
       "3                                                                                                                                                                                                                                                                                                                                                                                                                                                                                                                                                                                                                                                                                                                JGS (5/21/01 2:09:10 PM); \\tTo be consistent; should we represent StringBuffer objects in the variables view like; \\twe do Strings; with their values shown on the top node; so the user doesnt have to; \\texpand the object and look at the char array?; ; DW (5/21/01 6:33:02 PM); \\tDeferred - requires an evaluation.   \n",
       "4  DW (9/27/00 11:12:31 AM); \\tCurrently; the type of an object is shown in the variables view for ; its value.; \\tOnly Strings and primitive types show concrete values. We should display; \\tthe toString() of each object as its value. ; ; DW (10/23/00 11:22:02 AM); \\tComments from CM:; ; \\tFirst I need to define thread <g> because there are 2 of them:; 1) when I say thread; I mean a Java Thread; i.e. an object of type ; java.lang.Thread; 2) when I say vm thread; I mean the debuggers represenation of a thread in ; the VM;; \\ti.e. an object of type com.oti.defrogger.model.DbgThread; ; So; when asked for an objects toString; the debugger creates a new thread; to do the following:; ; - lock the vm thread so that no other thread can invoke toString on that vm ; thread; ; - set a flag on the vm thread: fIsInvokingToString = true; ; - use INVOKE_SINGLE_THREADED to send toString() to the object in the vm thread; ; - set fIsInvokingToString = false; ; - unlock the vm thread; ; ; The fIsInvokin...   \n",
       "\n",
       "     Status  Resolution Version               Created_time  \\\n",
       "0  VERIFIED       FIXED     2.0  2001-10-10 22:14:00 -0400   \n",
       "1  RESOLVED  WORKSFORME     2.0  2001-10-10 22:14:00 -0400   \n",
       "2    CLOSED     WONTFIX     2.0  2001-10-10 22:14:00 -0400   \n",
       "3  VERIFIED       FIXED     2.0  2001-10-10 22:14:00 -0400   \n",
       "4  RESOLVED   DUPLICATE     2.0  2001-10-10 22:14:00 -0400   \n",
       "\n",
       "               Resolved_time  \n",
       "0  2001-10-18 11:51:14 -0400  \n",
       "1  2001-11-28 13:42:46 -0500  \n",
       "2  2002-06-26 11:32:05 -0400  \n",
       "3  2002-02-05 10:37:09 -0500  \n",
       "4  2001-10-17 10:17:47 -0400  "
      ]
     },
     "execution_count": 147,
     "metadata": {},
     "output_type": "execute_result"
    }
   ],
   "source": [
    "#download our dataset from github\n",
    "download = requests.get(jdt_url).content\n",
    "df = pd.read_csv(io.StringIO(download.decode('utf-8')))\n",
    "df.head()"
   ]
  },
  {
   "cell_type": "code",
   "execution_count": 3,
   "id": "4c353bf5",
   "metadata": {},
   "outputs": [
    {
     "data": {
      "text/html": [
       "<div>\n",
       "<style scoped>\n",
       "    .dataframe tbody tr th:only-of-type {\n",
       "        vertical-align: middle;\n",
       "    }\n",
       "\n",
       "    .dataframe tbody tr th {\n",
       "        vertical-align: top;\n",
       "    }\n",
       "\n",
       "    .dataframe thead th {\n",
       "        text-align: right;\n",
       "    }\n",
       "</style>\n",
       "<table border=\"1\" class=\"dataframe\">\n",
       "  <thead>\n",
       "    <tr style=\"text-align: right;\">\n",
       "      <th></th>\n",
       "      <th>33322</th>\n",
       "    </tr>\n",
       "  </thead>\n",
       "  <tbody>\n",
       "    <tr>\n",
       "      <th>Issue_id</th>\n",
       "      <td>158480</td>\n",
       "    </tr>\n",
       "    <tr>\n",
       "      <th>Priority</th>\n",
       "      <td>P3</td>\n",
       "    </tr>\n",
       "    <tr>\n",
       "      <th>Component</th>\n",
       "      <td>UI</td>\n",
       "    </tr>\n",
       "    <tr>\n",
       "      <th>Duplicated_issue</th>\n",
       "      <td>NaN</td>\n",
       "    </tr>\n",
       "    <tr>\n",
       "      <th>Title</th>\n",
       "      <td>Open Type not appearing in Navigate menu</td>\n",
       "    </tr>\n",
       "    <tr>\n",
       "      <th>Description</th>\n",
       "      <td>When editing Java source files; I dont get Open Type appearing anywhere.  It does show Open Type Hierarchy.; ; The shortcut key ctrl-shift-T doesnt do anything.; ; Im new to Eclipse (1 week); so perhaps Im misunderstanding something.</td>\n",
       "    </tr>\n",
       "    <tr>\n",
       "      <th>Status</th>\n",
       "      <td>RESOLVED</td>\n",
       "    </tr>\n",
       "    <tr>\n",
       "      <th>Resolution</th>\n",
       "      <td>WORKSFORME</td>\n",
       "    </tr>\n",
       "    <tr>\n",
       "      <th>Version</th>\n",
       "      <td>3.1.2</td>\n",
       "    </tr>\n",
       "    <tr>\n",
       "      <th>Created_time</th>\n",
       "      <td>2006-09-24 17:41:00 -0400</td>\n",
       "    </tr>\n",
       "    <tr>\n",
       "      <th>Resolved_time</th>\n",
       "      <td>2006-10-04 08:44:44 -0400</td>\n",
       "    </tr>\n",
       "  </tbody>\n",
       "</table>\n",
       "</div>"
      ],
      "text/plain": [
       "                                                                                                                                                                                                                                                      33322\n",
       "Issue_id                                                                                                                                                                                                                                             158480\n",
       "Priority                                                                                                                                                                                                                                                 P3\n",
       "Component                                                                                                                                                                                                                                                UI\n",
       "Duplicated_issue                                                                                                                                                                                                                                        NaN\n",
       "Title                                                                                                                                                                                                              Open Type not appearing in Navigate menu\n",
       "Description       When editing Java source files; I dont get Open Type appearing anywhere.  It does show Open Type Hierarchy.; ; The shortcut key ctrl-shift-T doesnt do anything.; ; Im new to Eclipse (1 week); so perhaps Im misunderstanding something.\n",
       "Status                                                                                                                                                                                                                                             RESOLVED\n",
       "Resolution                                                                                                                                                                                                                                       WORKSFORME\n",
       "Version                                                                                                                                                                                                                                               3.1.2\n",
       "Created_time                                                                                                                                                                                                                      2006-09-24 17:41:00 -0400\n",
       "Resolved_time                                                                                                                                                                                                                     2006-10-04 08:44:44 -0400"
      ]
     },
     "execution_count": 3,
     "metadata": {},
     "output_type": "execute_result"
    }
   ],
   "source": [
    "#get a little more low-level.\n",
    "pd.options.display.max_colwidth=1000\n",
    "df.sample(1).T"
   ]
  },
  {
   "cell_type": "markdown",
   "id": "08425582",
   "metadata": {},
   "source": [
    "We would also be interested in seeing the distribution of priority for tasks - to what extend is each priority level present in our data?\n",
    "**P3 dominates the dataset as most individuals assume their bugs are not so crucial they block the application, but also do not want to classify them as low-priority and end up getting ignored.**"
   ]
  },
  {
   "cell_type": "code",
   "execution_count": 4,
   "id": "106ebeef",
   "metadata": {},
   "outputs": [
    {
     "data": {
      "text/plain": [
       "<AxesSubplot:title={'center':'Distribution of priority levels'}>"
      ]
     },
     "execution_count": 4,
     "metadata": {},
     "output_type": "execute_result"
    },
    {
     "data": {
      "image/png": "[encoded data removed]",
      "text/plain": [
       "<Figure size 432x288 with 1 Axes>"
      ]
     },
     "metadata": {
      "needs_background": "light"
     },
     "output_type": "display_data"
    }
   ],
   "source": [
    "df['Priority'].value_counts().sort_index().plot(kind='bar',title=\"Distribution of priority levels\")"
   ]
  },
  {
   "cell_type": "markdown",
   "id": "5bffd6e6",
   "metadata": {},
   "source": [
    "We can also observe that UI, Core, Debug, and Text (in that order) take up the overwhelming majority of bugs. This dataset is pretty heavily imbalanced from both the priority and component points of view."
   ]
  },
  {
   "cell_type": "code",
   "execution_count": 5,
   "id": "65def71d",
   "metadata": {},
   "outputs": [
    {
     "data": {
      "text/plain": [
       "<AxesSubplot:title={'center':'Distribution of Component Bugs'}>"
      ]
     },
     "execution_count": 5,
     "metadata": {},
     "output_type": "execute_result"
    },
    {
     "data": {
      "image/png": "[encoded data removed]",
      "text/plain": [
       "<Figure size 432x288 with 1 Axes>"
      ]
     },
     "metadata": {
      "needs_background": "light"
     },
     "output_type": "display_data"
    }
   ],
   "source": [
    "df['Component'].value_counts().sort_index().plot(kind='bar',title=\"Distribution of Component Bugs\")"
   ]
  },
  {
   "cell_type": "markdown",
   "id": "8f4abd1e",
   "metadata": {},
   "source": [
    "## Building A Text Classification System"
   ]
  },
  {
   "cell_type": "markdown",
   "id": "b828dc5f",
   "metadata": {},
   "source": [
    "### Step 1. Drop a bunch of Data"
   ]
  },
  {
   "cell_type": "code",
   "execution_count": 6,
   "id": "ef09ef84",
   "metadata": {},
   "outputs": [
    {
     "data": {
      "text/plain": [
       "Index(['Priority', 'text'], dtype='object')"
      ]
     },
     "execution_count": 6,
     "metadata": {},
     "output_type": "execute_result"
    }
   ],
   "source": [
    "df = df[['Title','Description','Priority']]\n",
    "df = df.dropna()\n",
    "df['text'] = df['Title']+' '+df['Description']\n",
    "df = df.drop(columns=['Title','Description'])\n",
    "df.columns"
   ]
  },
  {
   "cell_type": "markdown",
   "id": "7e9e4bb2",
   "metadata": {},
   "source": [
    "### Step 2: Clean Data"
   ]
  },
  {
   "cell_type": "code",
   "execution_count": 7,
   "id": "54b7407b",
   "metadata": {},
   "outputs": [],
   "source": [
    "import html\n",
    "import re\n",
    "def clean(text):\n",
    "    # convert html escapes like &amp; to characters.\n",
    "    text = html.unescape(text)\n",
    "    # tags like <tab>\n",
    "    text = re.sub(r'<[^<>]*>', ' ', text)\n",
    "    # markdown URLs like [Some text](https://....)\n",
    "    text = re.sub(r'\\[([^\\[\\]]*)\\]\\([^\\(\\)]*\\)', r'\\1', text)\n",
    "    # text or code in brackets like [0]\n",
    "    text = re.sub(r'\\[[^\\[\\]]*\\]', ' ', text)\n",
    "    # standalone sequences of specials, matches &# but not #cool\n",
    "    text = re.sub(r'(?:^|\\s)[&#<>{}\\[\\]+|\\\\:-]{1,}(?:\\s|$)', ' ', text)\n",
    "    # standalone sequences of hyphens like --- or ==\n",
    "    text = re.sub(r'(?:^|\\s)[\\-=\\+]{2,}(?:\\s|$)', ' ', text)\n",
    "    # sequences of white spaces\n",
    "    text = re.sub(r'\\s+', ' ', text)\n",
    "    return text.strip()"
   ]
  },
  {
   "cell_type": "code",
   "execution_count": 8,
   "id": "7b9bbd68",
   "metadata": {},
   "outputs": [
    {
     "data": {
      "text/html": [
       "<div>\n",
       "<style scoped>\n",
       "    .dataframe tbody tr th:only-of-type {\n",
       "        vertical-align: middle;\n",
       "    }\n",
       "\n",
       "    .dataframe tbody tr th {\n",
       "        vertical-align: top;\n",
       "    }\n",
       "\n",
       "    .dataframe thead th {\n",
       "        text-align: right;\n",
       "    }\n",
       "</style>\n",
       "<table border=\"1\" class=\"dataframe\">\n",
       "  <thead>\n",
       "    <tr style=\"text-align: right;\">\n",
       "      <th></th>\n",
       "      <th>Priority</th>\n",
       "      <th>text</th>\n",
       "    </tr>\n",
       "  </thead>\n",
       "  <tbody>\n",
       "    <tr>\n",
       "      <th>38863</th>\n",
       "      <td>P3</td>\n",
       "      <td>StackOverflowError when saving Java file Build ID: M20080911-1700; ; Steps To Reproduce:; I have a Java class with a constructor calling another constructor via this(parameters...). The called constructor now has an additional argument. When I add that same argument to the end of the parameter list of this constructor and hit ctrl-s; the following Exception occurs (reproducibly; for the current state of the workbench).; ; More information:; java.lang.StackOverflowError; at org.eclipse.jdt.internal.compiler.lookup.Binding.isValidBinding(Binding.java:91); at org.eclipse.jdt.core.dom.DefaultBindingResolver.getMethodBinding(DefaultBindingResolver.java:230); at org.eclipse.jdt.core.dom.MethodBinding.getMethodDeclaration(MethodBinding.java:423); at org.eclipse.jdt.core.dom.DefaultBindingResolver.findDeclaringNode(DefaultBindingResolver.java:170); at org.eclipse.jdt.core.dom.CompilationUnit.findDeclaringNode(CompilationUnit.java:327); at org.eclipse.jdt.internal.corext.dom.ASTNodes.findDe...</td>\n",
       "    </tr>\n",
       "    <tr>\n",
       "      <th>13071</th>\n",
       "      <td>P3</td>\n",
       "      <td>no show in package explorer on text files 20030502; i actually have to remember where the file is and hunt for it every time</td>\n",
       "    </tr>\n",
       "  </tbody>\n",
       "</table>\n",
       "</div>"
      ],
      "text/plain": [
       "      Priority  \\\n",
       "38863       P3   \n",
       "13071       P3   \n",
       "\n",
       "                                                                                                                                                                                                                                                                                                                                                                                                                                                                                                                                                                                                                                                                                                                                                                                                                                                                                                                                                                                                                                          text  \n",
       "38863  StackOverflowError when saving Java file Build ID: M20080911-1700; ; Steps To Reproduce:; I have a Java class with a constructor calling another constructor via this(parameters...). The called constructor now has an additional argument. When I add that same argument to the end of the parameter list of this constructor and hit ctrl-s; the following Exception occurs (reproducibly; for the current state of the workbench).; ; More information:; java.lang.StackOverflowError; at org.eclipse.jdt.internal.compiler.lookup.Binding.isValidBinding(Binding.java:91); at org.eclipse.jdt.core.dom.DefaultBindingResolver.getMethodBinding(DefaultBindingResolver.java:230); at org.eclipse.jdt.core.dom.MethodBinding.getMethodDeclaration(MethodBinding.java:423); at org.eclipse.jdt.core.dom.DefaultBindingResolver.findDeclaringNode(DefaultBindingResolver.java:170); at org.eclipse.jdt.core.dom.CompilationUnit.findDeclaringNode(CompilationUnit.java:327); at org.eclipse.jdt.internal.corext.dom.ASTNodes.findDe...  \n",
       "13071                                                                                                                                                                                                                                                                                                                                                                                                                                                                                                                                                                                                                                                                                                                                                                                                                                                                                                             no show in package explorer on text files 20030502; i actually have to remember where the file is and hunt for it every time  "
      ]
     },
     "execution_count": 8,
     "metadata": {},
     "output_type": "execute_result"
    }
   ],
   "source": [
    "df['text'] = df['text'].apply(clean)\n",
    "df = df[df['text'].str.len() > 50]\n",
    "df.sample(2)"
   ]
  },
  {
   "cell_type": "markdown",
   "id": "449786f3",
   "metadata": {},
   "source": [
    "### Step 2: Train-Test Split"
   ]
  },
  {
   "cell_type": "code",
   "execution_count": 11,
   "id": "a6660ee2",
   "metadata": {},
   "outputs": [],
   "source": [
    "from sklearn.model_selection import train_test_split\n",
    "from sklearn.feature_extraction.text import TfidfVectorizer"
   ]
  },
  {
   "cell_type": "code",
   "execution_count": 12,
   "id": "16ae9971",
   "metadata": {},
   "outputs": [],
   "source": [
    "#80-20 train/test split\n",
    "X_train, X_test, Y_train, Y_test = train_test_split(\n",
    "    df['text'],\n",
    "    df['Priority'],\n",
    "    test_size=0.2,\n",
    "    random_state=42,\n",
    "    stratify=df['Priority']\n",
    ")"
   ]
  },
  {
   "cell_type": "markdown",
   "id": "b851ddd4",
   "metadata": {},
   "source": [
    "Next, we create a TF-IDF Vectorizer."
   ]
  },
  {
   "cell_type": "code",
   "execution_count": 13,
   "id": "ee84e785",
   "metadata": {},
   "outputs": [],
   "source": [
    "tfidf = TfidfVectorizer(min_df = 10, ngram_range=(1,2), stop_words=\"english\")\n",
    "X_train_tf = tfidf.fit_transform(X_train)"
   ]
  },
  {
   "cell_type": "code",
   "execution_count": 14,
   "id": "b256e4fd",
   "metadata": {},
   "outputs": [
    {
     "data": {
      "text/plain": [
       "array([[0., 0., 0., ..., 0., 0., 0.],\n",
       "       [0., 0., 0., ..., 0., 0., 0.],\n",
       "       [0., 0., 0., ..., 0., 0., 0.],\n",
       "       ...,\n",
       "       [0., 0., 0., ..., 0., 0., 0.],\n",
       "       [0., 0., 0., ..., 0., 0., 0.],\n",
       "       [0., 0., 0., ..., 0., 0., 0.]])"
      ]
     },
     "execution_count": 14,
     "metadata": {},
     "output_type": "execute_result"
    }
   ],
   "source": [
    "#sanity check - we're not really gonna get much insight here.\n",
    "X_train_tf.toarray()"
   ]
  },
  {
   "cell_type": "markdown",
   "id": "d8c2e1af",
   "metadata": {},
   "source": [
    "#### Approach 1: The linear SVC"
   ]
  },
  {
   "cell_type": "code",
   "execution_count": 15,
   "id": "6aa9b17d",
   "metadata": {},
   "outputs": [
    {
     "data": {
      "text/html": [
       "<style>#sk-container-id-1 {color: black;background-color: white;}#sk-container-id-1 pre{padding: 0;}#sk-container-id-1 div.sk-toggleable {background-color: white;}#sk-container-id-1 label.sk-toggleable__label {cursor: pointer;display: block;width: 100%;margin-bottom: 0;padding: 0.3em;box-sizing: border-box;text-align: center;}#sk-container-id-1 label.sk-toggleable__label-arrow:before {content: \"▸\";float: left;margin-right: 0.25em;color: #696969;}#sk-container-id-1 label.sk-toggleable__label-arrow:hover:before {color: black;}#sk-container-id-1 div.sk-estimator:hover label.sk-toggleable__label-arrow:before {color: black;}#sk-container-id-1 div.sk-toggleable__content {max-height: 0;max-width: 0;overflow: hidden;text-align: left;background-color: #f0f8ff;}#sk-container-id-1 div.sk-toggleable__content pre {margin: 0.2em;color: black;border-radius: 0.25em;background-color: #f0f8ff;}#sk-container-id-1 input.sk-toggleable__control:checked~div.sk-toggleable__content {max-height: 200px;max-width: 100%;overflow: auto;}#sk-container-id-1 input.sk-toggleable__control:checked~label.sk-toggleable__label-arrow:before {content: \"▾\";}#sk-container-id-1 div.sk-estimator input.sk-toggleable__control:checked~label.sk-toggleable__label {background-color: #d4ebff;}#sk-container-id-1 div.sk-label input.sk-toggleable__control:checked~label.sk-toggleable__label {background-color: #d4ebff;}#sk-container-id-1 input.sk-hidden--visually {border: 0;clip: rect(1px 1px 1px 1px);clip: rect(1px, 1px, 1px, 1px);height: 1px;margin: -1px;overflow: hidden;padding: 0;position: absolute;width: 1px;}#sk-container-id-1 div.sk-estimator {font-family: monospace;background-color: #f0f8ff;border: 1px dotted black;border-radius: 0.25em;box-sizing: border-box;margin-bottom: 0.5em;}#sk-container-id-1 div.sk-estimator:hover {background-color: #d4ebff;}#sk-container-id-1 div.sk-parallel-item::after {content: \"\";width: 100%;border-bottom: 1px solid gray;flex-grow: 1;}#sk-container-id-1 div.sk-label:hover label.sk-toggleable__label {background-color: #d4ebff;}#sk-container-id-1 div.sk-serial::before {content: \"\";position: absolute;border-left: 1px solid gray;box-sizing: border-box;top: 0;bottom: 0;left: 50%;z-index: 0;}#sk-container-id-1 div.sk-serial {display: flex;flex-direction: column;align-items: center;background-color: white;padding-right: 0.2em;padding-left: 0.2em;position: relative;}#sk-container-id-1 div.sk-item {position: relative;z-index: 1;}#sk-container-id-1 div.sk-parallel {display: flex;align-items: stretch;justify-content: center;background-color: white;position: relative;}#sk-container-id-1 div.sk-item::before, #sk-container-id-1 div.sk-parallel-item::before {content: \"\";position: absolute;border-left: 1px solid gray;box-sizing: border-box;top: 0;bottom: 0;left: 50%;z-index: -1;}#sk-container-id-1 div.sk-parallel-item {display: flex;flex-direction: column;z-index: 1;position: relative;background-color: white;}#sk-container-id-1 div.sk-parallel-item:first-child::after {align-self: flex-end;width: 50%;}#sk-container-id-1 div.sk-parallel-item:last-child::after {align-self: flex-start;width: 50%;}#sk-container-id-1 div.sk-parallel-item:only-child::after {width: 0;}#sk-container-id-1 div.sk-dashed-wrapped {border: 1px dashed gray;margin: 0 0.4em 0.5em 0.4em;box-sizing: border-box;padding-bottom: 0.4em;background-color: white;}#sk-container-id-1 div.sk-label label {font-family: monospace;font-weight: bold;display: inline-block;line-height: 1.2em;}#sk-container-id-1 div.sk-label-container {text-align: center;}#sk-container-id-1 div.sk-container {/* jupyter's `normalize.less` sets `[hidden] { display: none; }` but bootstrap.min.css set `[hidden] { display: none !important; }` so we also need the `!important` here to be able to override the default hidden behavior on the sphinx rendered scikit-learn.org. See: https://github.com/scikit-learn/scikit-learn/issues/21755 */display: inline-block !important;position: relative;}#sk-container-id-1 div.sk-text-repr-fallback {display: none;}</style><div id=\"sk-container-id-1\" class=\"sk-top-container\"><div class=\"sk-text-repr-fallback\"><pre>LinearSVC(random_state=0, tol=1e-05)</pre><b>In a Jupyter environment, please rerun this cell to show the HTML representation or trust the notebook. <br />On GitHub, the HTML representation is unable to render, please try loading this page with nbviewer.org.</b></div><div class=\"sk-container\" hidden><div class=\"sk-item\"><div class=\"sk-estimator sk-toggleable\"><input class=\"sk-toggleable__control sk-hidden--visually\" id=\"sk-estimator-id-1\" type=\"checkbox\" checked><label for=\"sk-estimator-id-1\" class=\"sk-toggleable__label sk-toggleable__label-arrow\">LinearSVC</label><div class=\"sk-toggleable__content\"><pre>LinearSVC(random_state=0, tol=1e-05)</pre></div></div></div></div></div>"
      ],
      "text/plain": [
       "LinearSVC(random_state=0, tol=1e-05)"
      ]
     },
     "execution_count": 15,
     "metadata": {},
     "output_type": "execute_result"
    }
   ],
   "source": [
    "#the linearSVC implementation of a support vector machine is generally the fastest\n",
    "from sklearn.svm import LinearSVC\n",
    "model1 = LinearSVC(random_state=0, tol=1e-5)\n",
    "model1.fit(X_train_tf, Y_train)"
   ]
  },
  {
   "cell_type": "code",
   "execution_count": 16,
   "id": "dbd2c425",
   "metadata": {},
   "outputs": [
    {
     "name": "stdout",
     "output_type": "stream",
     "text": [
      "Accuracy Score -  0.8761513705471091\n"
     ]
    }
   ],
   "source": [
    "from sklearn.metrics import accuracy_score\n",
    "X_test_tf = tfidf.transform(X_test)\n",
    "Y_pred = model1.predict(X_test_tf)\n",
    "print ('Accuracy Score - ', accuracy_score(Y_test, Y_pred))"
   ]
  },
  {
   "cell_type": "markdown",
   "id": "483e03ed",
   "metadata": {},
   "source": [
    "#### Comparrison - A Baseline Guessing Model"
   ]
  },
  {
   "cell_type": "code",
   "execution_count": 17,
   "id": "16d8e045",
   "metadata": {},
   "outputs": [
    {
     "name": "stdout",
     "output_type": "stream",
     "text": [
      "Accuracy Score -  0.8769281988680502\n"
     ]
    }
   ],
   "source": [
    "from sklearn.dummy import DummyClassifier\n",
    "clf = DummyClassifier(strategy='most_frequent')\n",
    "clf.fit(X_train, Y_train)\n",
    "Y_pred_baseline = clf.predict(X_test)\n",
    "print ('Accuracy Score - ', accuracy_score(Y_test, Y_pred_baseline))"
   ]
  },
  {
   "cell_type": "markdown",
   "id": "2ef3fe61",
   "metadata": {},
   "source": [
    "**Our main takeaway is that a linear SVM did almost nothing to make the performance better than just guessing the most frequent priority.**"
   ]
  },
  {
   "cell_type": "code",
   "execution_count": 19,
   "id": "1941456b",
   "metadata": {},
   "outputs": [
    {
     "name": "stderr",
     "output_type": "stream",
     "text": [
      "c:\\users\\fkrasovsky\\appdata\\local\\programs\\python\\python38\\lib\\site-packages\\sklearn\\utils\\deprecation.py:87: FutureWarning: Function plot_confusion_matrix is deprecated; Function `plot_confusion_matrix` is deprecated in 1.0 and will be removed in 1.2. Use one of the class methods: ConfusionMatrixDisplay.from_predictions or ConfusionMatrixDisplay.from_estimator.\n",
      "  warnings.warn(msg, category=FutureWarning)\n"
     ]
    },
    {
     "data": {
      "image/png": "[encoded data removed]",
      "text/plain": [
       "<Figure size 432x288 with 2 Axes>"
      ]
     },
     "metadata": {
      "needs_background": "light"
     },
     "output_type": "display_data"
    }
   ],
   "source": [
    "from sklearn.metrics import plot_confusion_matrix\n",
    "import matplotlib.pyplot as plt \n",
    "plot_confusion_matrix(model1,X_test_tf,\n",
    "    Y_test, values_format='d',\n",
    "    cmap=plt.cm.Blues)\n",
    "plt.show()"
   ]
  },
  {
   "cell_type": "markdown",
   "id": "e8b1330b",
   "metadata": {},
   "source": [
    "it appears our model is really good at predicting P3, and pretty much nothing else."
   ]
  },
  {
   "cell_type": "code",
   "execution_count": 20,
   "id": "6cfdb9ef",
   "metadata": {},
   "outputs": [
    {
     "name": "stdout",
     "output_type": "stream",
     "text": [
      "              precision    recall  f1-score   support\n",
      "\n",
      "          P1       0.58      0.09      0.15       223\n",
      "          P2       0.25      0.03      0.05       608\n",
      "          P3       0.89      0.99      0.93      7902\n",
      "          P4       0.50      0.14      0.21       228\n",
      "          P5       0.00      0.00      0.00        50\n",
      "\n",
      "    accuracy                           0.88      9011\n",
      "   macro avg       0.44      0.25      0.27      9011\n",
      "weighted avg       0.82      0.88      0.83      9011\n",
      "\n"
     ]
    },
    {
     "name": "stderr",
     "output_type": "stream",
     "text": [
      "c:\\users\\fkrasovsky\\appdata\\local\\programs\\python\\python38\\lib\\site-packages\\sklearn\\metrics\\_classification.py:1327: UndefinedMetricWarning: Precision and F-score are ill-defined and being set to 0.0 in labels with no predicted samples. Use `zero_division` parameter to control this behavior.\n",
      "  _warn_prf(average, modifier, msg_start, len(result))\n",
      "c:\\users\\fkrasovsky\\appdata\\local\\programs\\python\\python38\\lib\\site-packages\\sklearn\\metrics\\_classification.py:1327: UndefinedMetricWarning: Precision and F-score are ill-defined and being set to 0.0 in labels with no predicted samples. Use `zero_division` parameter to control this behavior.\n",
      "  _warn_prf(average, modifier, msg_start, len(result))\n",
      "c:\\users\\fkrasovsky\\appdata\\local\\programs\\python\\python38\\lib\\site-packages\\sklearn\\metrics\\_classification.py:1327: UndefinedMetricWarning: Precision and F-score are ill-defined and being set to 0.0 in labels with no predicted samples. Use `zero_division` parameter to control this behavior.\n",
      "  _warn_prf(average, modifier, msg_start, len(result))\n"
     ]
    }
   ],
   "source": [
    "from sklearn.metrics import classification_report \n",
    "print(classification_report(Y_test, Y_pred))"
   ]
  },
  {
   "cell_type": "markdown",
   "id": "a4a796a8",
   "metadata": {},
   "source": [
    "More of the same - p3 is the only class that's getting good results in any direction."
   ]
  },
  {
   "cell_type": "markdown",
   "id": "8d65316d",
   "metadata": {},
   "source": [
    "### Understanding Why LinearSVM Failed\n",
    "<p style=\"color:cadetblue\"><b>The biggest reason our model was great at P3 and nothing else was because of a heavy class imbalance. We can fix this problem by undersampling the P3 class.</b></p>"
   ]
  },
  {
   "cell_type": "code",
   "execution_count": 21,
   "id": "4630df38",
   "metadata": {},
   "outputs": [
    {
     "data": {
      "text/plain": [
       "P3    39506\n",
       "P2     3038\n",
       "P4     1138\n",
       "P1     1117\n",
       "P5      252\n",
       "Name: Priority, dtype: int64"
      ]
     },
     "execution_count": 21,
     "metadata": {},
     "output_type": "execute_result"
    }
   ],
   "source": [
    "df['Priority'].value_counts() #it's clear that we have way too many P3 samples, so we can reduce them down to 4000"
   ]
  },
  {
   "cell_type": "code",
   "execution_count": 22,
   "id": "dc77eaf0",
   "metadata": {},
   "outputs": [
    {
     "data": {
      "text/html": [
       "<div>\n",
       "<style scoped>\n",
       "    .dataframe tbody tr th:only-of-type {\n",
       "        vertical-align: middle;\n",
       "    }\n",
       "\n",
       "    .dataframe tbody tr th {\n",
       "        vertical-align: top;\n",
       "    }\n",
       "\n",
       "    .dataframe thead th {\n",
       "        text-align: right;\n",
       "    }\n",
       "</style>\n",
       "<table border=\"1\" class=\"dataframe\">\n",
       "  <thead>\n",
       "    <tr style=\"text-align: right;\">\n",
       "      <th></th>\n",
       "      <th>Priority</th>\n",
       "      <th>text</th>\n",
       "    </tr>\n",
       "  </thead>\n",
       "  <tbody>\n",
       "    <tr>\n",
       "      <th>37727</th>\n",
       "      <td>P3</td>\n",
       "      <td>Open Type does not work with nested build path. I have my source tree like this.; Root-|; |-A1-|; |-A1.java; |-A2; |-File.java; ; In my build path I have added Root with inclusion pattern File.java.; Also I have A1 and A2 in build path.; ; It works till I refresh. After refreshing; Open Type does not find anything under A1 such as A1.java.; It shows File could not be found in Root. Make sure all workspace resources are refreshed. Screenshot attached.; ; Ive also tried with excluding A1;A2 from Root; still same result.</td>\n",
       "    </tr>\n",
       "    <tr>\n",
       "      <th>24839</th>\n",
       "      <td>P3</td>\n",
       "      <td>Code assist inserts unneeded type parameters 1) In the following code execute code assist at |:; public static void main(String args) {; Vector| v= new Vector ();; }; ; 2) select java.util.Vector (with the intent to add ; the import statement). You get the following completion:; public static void main(String args) {; Vector v= new Vector ();; }; ; This is highly annoying since now you can no longer add; an import statement by just using code assist.</td>\n",
       "    </tr>\n",
       "    <tr>\n",
       "      <th>36027</th>\n",
       "      <td>P3</td>\n",
       "      <td>Generates incorrect Parameter Use Extract Class on junit.runner.TestCaseClassLoader and generate alle Getters and Setters for all fields.; The initialization of field private String defaultExclusions= {; junit.framework.; ; junit.extensions.; ; junit.runner.; };; will fail because the array creation needs to be inserted</td>\n",
       "    </tr>\n",
       "    <tr>\n",
       "      <th>43532</th>\n",
       "      <td>P3</td>\n",
       "      <td>NPE on open Call Hierarchy Unfortunately Ive no save repro for the exception below. What I tried to fix this is a clean build and deleting the contents from the metadata of my workspace. Both without success. I dont see any error markers in my workspace.; ; Version info (why tis the build-id different from the v-date in the version?); Eclipse Java Development Tools; ; Version: 3.8.0.v20111130-1318-8-8lFpEFNOfwRe0lvGVLmVw9B15B; Build id: I20120314-1800; ; Message from the newsgroup:; ; Recently I got the following exception when I tried to use the call hierarchy. I dont get an error dialog but a message in the error log instead. No callers are found though there are some. Is there something that I can do on my machine to fix that / the index / the project config / whatever may have caused that?; ; Thanks in advance;; Sebastian; ; java.lang.NullPointerException; at org.eclipse.jdt.internal.core.search.matching.ClasspathSourceDirectory.directoryTable(ClasspathSourceDirectory.java:44);...</td>\n",
       "    </tr>\n",
       "    <tr>\n",
       "      <th>17954</th>\n",
       "      <td>P3</td>\n",
       "      <td>DebugException: Invalid stack frame I20040310 code (incl. Debug) from HEAD; ; I am used to have log entries while debugging but today it got fille with:; ; !ENTRY org.eclipse.jdt.launching 4 4 Mrz 15; 2004 13:04:19.474; !MESSAGE Invalid stack frame; !STACK 1; org.eclipse.debug.core.DebugException: Invalid stack frame; at; org.eclipse.jdt.internal.debug.core.model.JDIStackFrame.getUnderlyingStackFrame(JDIStackFrame.java:956); at; org.eclipse.jdt.internal.debug.core.model.JDIStackFrame.getSourceName(JDIStackFrame.java:839); at; org.eclipse.jdt.launching.sourcelookup.JavaSourceLocator.getFullyQualfiedName(JavaSourceLocator.java:274); at; org.eclipse.jdt.launching.sourcelookup.JavaSourceLocator.getSourceElements(JavaSourceLocator.java:205); at; org.eclipse.jdt.debug.ui.JavaUISourceLocator.findSourceElement(JavaUISourceLocator.java:164); at; org.eclipse.jdt.debug.ui.JavaUISourceLocator.getSourceElement(JavaUISourceLocator.java:145); at; org.eclipse.jdt.internal.debug.ui.JavaWatchExpress...</td>\n",
       "    </tr>\n",
       "  </tbody>\n",
       "</table>\n",
       "</div>"
      ],
      "text/plain": [
       "      Priority  \\\n",
       "37727       P3   \n",
       "24839       P3   \n",
       "36027       P3   \n",
       "43532       P3   \n",
       "17954       P3   \n",
       "\n",
       "                                                                                                                                                                                                                                                                                                                                                                                                                                                                                                                                                                                                                                                                                                                                                                                                                                                                                                                                                                                                                                          text  \n",
       "37727                                                                                                                                                                                                                                                                                                                                                                                                                                                                                              Open Type does not work with nested build path. I have my source tree like this.; Root-|; |-A1-|; |-A1.java; |-A2; |-File.java; ; In my build path I have added Root with inclusion pattern File.java.; Also I have A1 and A2 in build path.; ; It works till I refresh. After refreshing; Open Type does not find anything under A1 such as A1.java.; It shows File could not be found in Root. Make sure all workspace resources are refreshed. Screenshot attached.; ; Ive also tried with excluding A1;A2 from Root; still same result.  \n",
       "24839                                                                                                                                                                                                                                                                                                                                                                                                                                                                                                                                                                   Code assist inserts unneeded type parameters 1) In the following code execute code assist at |:; public static void main(String args) {; Vector| v= new Vector ();; }; ; 2) select java.util.Vector (with the intent to add ; the import statement). You get the following completion:; public static void main(String args) {; Vector v= new Vector ();; }; ; This is highly annoying since now you can no longer add; an import statement by just using code assist.  \n",
       "36027                                                                                                                                                                                                                                                                                                                                                                                                                                                                                                                                                                                                                                                                                                        Generates incorrect Parameter Use Extract Class on junit.runner.TestCaseClassLoader and generate alle Getters and Setters for all fields.; The initialization of field private String defaultExclusions= {; junit.framework.; ; junit.extensions.; ; junit.runner.; };; will fail because the array creation needs to be inserted  \n",
       "43532  NPE on open Call Hierarchy Unfortunately Ive no save repro for the exception below. What I tried to fix this is a clean build and deleting the contents from the metadata of my workspace. Both without success. I dont see any error markers in my workspace.; ; Version info (why tis the build-id different from the v-date in the version?); Eclipse Java Development Tools; ; Version: 3.8.0.v20111130-1318-8-8lFpEFNOfwRe0lvGVLmVw9B15B; Build id: I20120314-1800; ; Message from the newsgroup:; ; Recently I got the following exception when I tried to use the call hierarchy. I dont get an error dialog but a message in the error log instead. No callers are found though there are some. Is there something that I can do on my machine to fix that / the index / the project config / whatever may have caused that?; ; Thanks in advance;; Sebastian; ; java.lang.NullPointerException; at org.eclipse.jdt.internal.core.search.matching.ClasspathSourceDirectory.directoryTable(ClasspathSourceDirectory.java:44);...  \n",
       "17954  DebugException: Invalid stack frame I20040310 code (incl. Debug) from HEAD; ; I am used to have log entries while debugging but today it got fille with:; ; !ENTRY org.eclipse.jdt.launching 4 4 Mrz 15; 2004 13:04:19.474; !MESSAGE Invalid stack frame; !STACK 1; org.eclipse.debug.core.DebugException: Invalid stack frame; at; org.eclipse.jdt.internal.debug.core.model.JDIStackFrame.getUnderlyingStackFrame(JDIStackFrame.java:956); at; org.eclipse.jdt.internal.debug.core.model.JDIStackFrame.getSourceName(JDIStackFrame.java:839); at; org.eclipse.jdt.launching.sourcelookup.JavaSourceLocator.getFullyQualfiedName(JavaSourceLocator.java:274); at; org.eclipse.jdt.launching.sourcelookup.JavaSourceLocator.getSourceElements(JavaSourceLocator.java:205); at; org.eclipse.jdt.debug.ui.JavaUISourceLocator.findSourceElement(JavaUISourceLocator.java:164); at; org.eclipse.jdt.debug.ui.JavaUISourceLocator.getSourceElement(JavaUISourceLocator.java:145); at; org.eclipse.jdt.internal.debug.ui.JavaWatchExpress...  "
      ]
     },
     "execution_count": 22,
     "metadata": {},
     "output_type": "execute_result"
    }
   ],
   "source": [
    "# Filter bug reports with priority P3 and sample 4000 rows from it\n",
    "df_sampleP3 = df[df['Priority'] == 'P3'].sample(n=4000)\n",
    "# Create a separate DataFrame containing all other bug reports\n",
    "df_sampleRest = df[df['Priority'] != 'P3']\n",
    "df_resamples = pd.concat([df_sampleP3,df_sampleRest],axis=0)\n",
    "df_resamples.head()"
   ]
  },
  {
   "cell_type": "markdown",
   "id": "f4927cfb",
   "metadata": {},
   "source": [
    "### Take Two: SVM With Balanced DF"
   ]
  },
  {
   "cell_type": "code",
   "execution_count": 23,
   "id": "ce73097a",
   "metadata": {},
   "outputs": [],
   "source": [
    "#clean up kernel space\n",
    "df = df_resamples[['text', 'Priority']]\n",
    "df = df.dropna()"
   ]
  },
  {
   "cell_type": "code",
   "execution_count": 24,
   "id": "b1f4b266",
   "metadata": {},
   "outputs": [],
   "source": [
    "#clean everything up\n",
    "df['text'] = df['text'].apply(clean)"
   ]
  },
  {
   "cell_type": "code",
   "execution_count": 25,
   "id": "f4d79187",
   "metadata": {},
   "outputs": [],
   "source": [
    "#80-20 train/test split\n",
    "X_train, X_test, Y_train, Y_test = train_test_split(\n",
    "    df['text'],\n",
    "    df['Priority'],\n",
    "    test_size=0.2,\n",
    "    random_state=42,\n",
    "    stratify=df['Priority']\n",
    ")"
   ]
  },
  {
   "cell_type": "code",
   "execution_count": 26,
   "id": "3a7032c3",
   "metadata": {},
   "outputs": [],
   "source": [
    "#Vectorize\n",
    "tfidf = TfidfVectorizer(min_df = 10, ngram_range=(1,2), stop_words=\"english\")\n",
    "X_train_tf = tfidf.fit_transform(X_train)"
   ]
  },
  {
   "cell_type": "code",
   "execution_count": 27,
   "id": "9ee6ba5d",
   "metadata": {},
   "outputs": [
    {
     "data": {
      "text/html": [
       "<style>#sk-container-id-2 {color: black;background-color: white;}#sk-container-id-2 pre{padding: 0;}#sk-container-id-2 div.sk-toggleable {background-color: white;}#sk-container-id-2 label.sk-toggleable__label {cursor: pointer;display: block;width: 100%;margin-bottom: 0;padding: 0.3em;box-sizing: border-box;text-align: center;}#sk-container-id-2 label.sk-toggleable__label-arrow:before {content: \"▸\";float: left;margin-right: 0.25em;color: #696969;}#sk-container-id-2 label.sk-toggleable__label-arrow:hover:before {color: black;}#sk-container-id-2 div.sk-estimator:hover label.sk-toggleable__label-arrow:before {color: black;}#sk-container-id-2 div.sk-toggleable__content {max-height: 0;max-width: 0;overflow: hidden;text-align: left;background-color: #f0f8ff;}#sk-container-id-2 div.sk-toggleable__content pre {margin: 0.2em;color: black;border-radius: 0.25em;background-color: #f0f8ff;}#sk-container-id-2 input.sk-toggleable__control:checked~div.sk-toggleable__content {max-height: 200px;max-width: 100%;overflow: auto;}#sk-container-id-2 input.sk-toggleable__control:checked~label.sk-toggleable__label-arrow:before {content: \"▾\";}#sk-container-id-2 div.sk-estimator input.sk-toggleable__control:checked~label.sk-toggleable__label {background-color: #d4ebff;}#sk-container-id-2 div.sk-label input.sk-toggleable__control:checked~label.sk-toggleable__label {background-color: #d4ebff;}#sk-container-id-2 input.sk-hidden--visually {border: 0;clip: rect(1px 1px 1px 1px);clip: rect(1px, 1px, 1px, 1px);height: 1px;margin: -1px;overflow: hidden;padding: 0;position: absolute;width: 1px;}#sk-container-id-2 div.sk-estimator {font-family: monospace;background-color: #f0f8ff;border: 1px dotted black;border-radius: 0.25em;box-sizing: border-box;margin-bottom: 0.5em;}#sk-container-id-2 div.sk-estimator:hover {background-color: #d4ebff;}#sk-container-id-2 div.sk-parallel-item::after {content: \"\";width: 100%;border-bottom: 1px solid gray;flex-grow: 1;}#sk-container-id-2 div.sk-label:hover label.sk-toggleable__label {background-color: #d4ebff;}#sk-container-id-2 div.sk-serial::before {content: \"\";position: absolute;border-left: 1px solid gray;box-sizing: border-box;top: 0;bottom: 0;left: 50%;z-index: 0;}#sk-container-id-2 div.sk-serial {display: flex;flex-direction: column;align-items: center;background-color: white;padding-right: 0.2em;padding-left: 0.2em;position: relative;}#sk-container-id-2 div.sk-item {position: relative;z-index: 1;}#sk-container-id-2 div.sk-parallel {display: flex;align-items: stretch;justify-content: center;background-color: white;position: relative;}#sk-container-id-2 div.sk-item::before, #sk-container-id-2 div.sk-parallel-item::before {content: \"\";position: absolute;border-left: 1px solid gray;box-sizing: border-box;top: 0;bottom: 0;left: 50%;z-index: -1;}#sk-container-id-2 div.sk-parallel-item {display: flex;flex-direction: column;z-index: 1;position: relative;background-color: white;}#sk-container-id-2 div.sk-parallel-item:first-child::after {align-self: flex-end;width: 50%;}#sk-container-id-2 div.sk-parallel-item:last-child::after {align-self: flex-start;width: 50%;}#sk-container-id-2 div.sk-parallel-item:only-child::after {width: 0;}#sk-container-id-2 div.sk-dashed-wrapped {border: 1px dashed gray;margin: 0 0.4em 0.5em 0.4em;box-sizing: border-box;padding-bottom: 0.4em;background-color: white;}#sk-container-id-2 div.sk-label label {font-family: monospace;font-weight: bold;display: inline-block;line-height: 1.2em;}#sk-container-id-2 div.sk-label-container {text-align: center;}#sk-container-id-2 div.sk-container {/* jupyter's `normalize.less` sets `[hidden] { display: none; }` but bootstrap.min.css set `[hidden] { display: none !important; }` so we also need the `!important` here to be able to override the default hidden behavior on the sphinx rendered scikit-learn.org. See: https://github.com/scikit-learn/scikit-learn/issues/21755 */display: inline-block !important;position: relative;}#sk-container-id-2 div.sk-text-repr-fallback {display: none;}</style><div id=\"sk-container-id-2\" class=\"sk-top-container\"><div class=\"sk-text-repr-fallback\"><pre>LinearSVC(random_state=0, tol=1e-05)</pre><b>In a Jupyter environment, please rerun this cell to show the HTML representation or trust the notebook. <br />On GitHub, the HTML representation is unable to render, please try loading this page with nbviewer.org.</b></div><div class=\"sk-container\" hidden><div class=\"sk-item\"><div class=\"sk-estimator sk-toggleable\"><input class=\"sk-toggleable__control sk-hidden--visually\" id=\"sk-estimator-id-2\" type=\"checkbox\" checked><label for=\"sk-estimator-id-2\" class=\"sk-toggleable__label sk-toggleable__label-arrow\">LinearSVC</label><div class=\"sk-toggleable__content\"><pre>LinearSVC(random_state=0, tol=1e-05)</pre></div></div></div></div></div>"
      ],
      "text/plain": [
       "LinearSVC(random_state=0, tol=1e-05)"
      ]
     },
     "execution_count": 27,
     "metadata": {},
     "output_type": "execute_result"
    }
   ],
   "source": [
    "#Try again\n",
    "model1 = LinearSVC(random_state=0, tol=1e-5)\n",
    "model1.fit(X_train_tf, Y_train)"
   ]
  },
  {
   "cell_type": "code",
   "execution_count": 28,
   "id": "89d7f4b2",
   "metadata": {},
   "outputs": [
    {
     "name": "stdout",
     "output_type": "stream",
     "text": [
      "Accuracy Score -  0.5028810895756941\n"
     ]
    }
   ],
   "source": [
    "from sklearn.metrics import accuracy_score\n",
    "X_test_tf = tfidf.transform(X_test)\n",
    "Y_pred = model1.predict(X_test_tf)\n",
    "print ('Accuracy Score - ', accuracy_score(Y_test, Y_pred))"
   ]
  },
  {
   "cell_type": "code",
   "execution_count": 29,
   "id": "c794938f",
   "metadata": {
    "scrolled": true
   },
   "outputs": [
    {
     "name": "stdout",
     "output_type": "stream",
     "text": [
      "              precision    recall  f1-score   support\n",
      "\n",
      "          P1       0.45      0.29      0.35       223\n",
      "          P2       0.44      0.44      0.44       608\n",
      "          P3       0.56      0.69      0.62       800\n",
      "          P4       0.45      0.33      0.38       228\n",
      "          P5       0.00      0.00      0.00        50\n",
      "\n",
      "    accuracy                           0.50      1909\n",
      "   macro avg       0.38      0.35      0.36      1909\n",
      "weighted avg       0.48      0.50      0.49      1909\n",
      "\n"
     ]
    }
   ],
   "source": [
    "print(classification_report(Y_test, Y_pred))"
   ]
  },
  {
   "cell_type": "markdown",
   "id": "6f20ef03",
   "metadata": {},
   "source": [
    "## Our new accuracy is even lower than previously generated, and is only slightly better than guessing randomly. P3 continues to have the best f1 score."
   ]
  },
  {
   "cell_type": "markdown",
   "id": "90def9fa",
   "metadata": {},
   "source": [
    "The primary reason for this is that our TF-IDF vectorized isn't effective on face value at generating a high-performing model. Removing stop words, creating lemmas, parts of speech, and more is needed to make this effective."
   ]
  },
  {
   "cell_type": "code",
   "execution_count": 39,
   "id": "0a0384c7",
   "metadata": {},
   "outputs": [],
   "source": [
    "import spacy\n",
    "import textacy\n",
    "from spacy.tokenizer import Tokenizer\n",
    "from spacy.util import compile_prefix_regex, \\\n",
    " compile_infix_regex, compile_suffix_regex"
   ]
  },
  {
   "cell_type": "code",
   "execution_count": 31,
   "id": "f8fae1a4",
   "metadata": {},
   "outputs": [],
   "source": [
    "def custom_tokenizer(nlp):\n",
    "    # use default patterns except the ones matched by re.search\n",
    "    prefixes = [pattern for pattern in nlp.Defaults.prefixes\n",
    "    if pattern not in ['-', '_', '#']]\n",
    "    suffixes = [pattern for pattern in nlp.Defaults.suffixes\n",
    "    if pattern not in ['_']]\n",
    "    infixes = [pattern for pattern in nlp.Defaults.infixes\n",
    "    if not re.search(pattern, 'xx-xx')]\n",
    "    return Tokenizer(vocab = nlp.vocab,\n",
    "    rules = nlp.Defaults.tokenizer_exceptions,\n",
    "    prefix_search = compile_prefix_regex(prefixes).search,\n",
    "    suffix_search = compile_suffix_regex(suffixes).search,\n",
    "    infix_finditer = compile_infix_regex(infixes).finditer,\n",
    "    token_match = nlp.Defaults.token_match)\n",
    "\n",
    "def extract_nlp(doc):\n",
    "     return {\n",
    "         'lemmas' : extract_lemmas(doc,\n",
    "         exclude_pos = ['PART', 'PUNCT',\n",
    "         'DET', 'PRON', 'SYM', 'SPACE'],\n",
    "         filter_stops = False),\n",
    "         'adjs_verbs' : extract_lemmas(doc, include_pos = ['ADJ', 'VERB']),\n",
    "         'nouns' : extract_lemmas(doc, include_pos = ['NOUN', 'PROPN']),\n",
    "         'noun_phrases' : extract_noun_phrases(doc, ['NOUN']),\n",
    "         'adj_noun_phrases': extract_noun_phrases(doc, ['ADJ']),\n",
    "         'entities' : extract_entities(doc, ['PERSON', 'ORG', 'GPE', 'LOC'])\n",
    "     }\n",
    "    \n",
    "def extract_lemmas(doc, **kwargs):\n",
    "     return [t.lemma_ for t in textacy.extract.words(doc, **kwargs)]\n",
    "    \n",
    "def extract_noun_phrases(doc, preceding_pos=['NOUN'], sep='_'):\n",
    "    patterns = []\n",
    "    for pos in preceding_pos:\n",
    "        patterns.append(f\"POS:{pos} POS:NOUN:+\")\n",
    "        \n",
    "    spans = textacy.extract.matches.token_matches(doc, patterns=patterns) \n",
    "    return [sep.join([t.lemma_ for t in s]) for s in spans]\n",
    "\n",
    "def extract_entities(doc, include_types=None, sep='_'):\n",
    "    \n",
    "    ents = textacy.extract.entities(\n",
    "        doc,\n",
    "        include_types=include_types,\n",
    "        exclude_types=None,\n",
    "        drop_determiners=True,\n",
    "        min_freq=1\n",
    "    )\n",
    "    \n",
    "    return [sep.join([t.lemma_ for t in e])+'/'+e.label_ for e in ents]\n"
   ]
  },
  {
   "cell_type": "code",
   "execution_count": 84,
   "id": "66c07ce5",
   "metadata": {},
   "outputs": [],
   "source": [
    "nlp = spacy.load('en_core_web_sm', disable=[])\n",
    "nlp.tokenizer = custom_tokenizer(nlp) # optional\n",
    "sw = nlp.Defaults.stop_words"
   ]
  },
  {
   "cell_type": "code",
   "execution_count": 85,
   "id": "a597f23f",
   "metadata": {},
   "outputs": [],
   "source": [
    "#create columns for lemmatization, POS tagging, NER, etc.\n",
    "nlp_columns = list(extract_nlp(nlp.make_doc('')).keys())\n",
    "for col in nlp_columns:\n",
    "    df[nlp_columns] = None"
   ]
  },
  {
   "cell_type": "code",
   "execution_count": 108,
   "id": "8d579064",
   "metadata": {},
   "outputs": [],
   "source": [
    "#make everything lowercase\n",
    "df['text'] = df['text'].map(str.lower)"
   ]
  },
  {
   "cell_type": "code",
   "execution_count": 109,
   "id": "d56504c5",
   "metadata": {},
   "outputs": [],
   "source": [
    "#process into columns (standard)\n",
    "batch_size = 50\n",
    "for i in range(0, len(df), batch_size):\n",
    "    docs = nlp.pipe(df['text'][i:i+batch_size])\n",
    "    for j, doc in enumerate(docs):\n",
    "        for col, values in extract_nlp(doc).items():\n",
    "            df[col].iloc[i+j] = values"
   ]
  },
  {
   "cell_type": "code",
   "execution_count": 88,
   "id": "9e6e822d",
   "metadata": {},
   "outputs": [],
   "source": [
    "#additional create a lemmatization that has no stop words\n",
    "def remove_stop_words(lemmas):\n",
    "    return [lemma for lemma in lemmas if lemma.lower() not in sw]"
   ]
  },
  {
   "cell_type": "code",
   "execution_count": 89,
   "id": "bd4f99ab",
   "metadata": {},
   "outputs": [],
   "source": [
    "#accepts a dataframe series of tokenized texts and returns an array.\n",
    "from matplotlib import pyplot as plt\n",
    "from collections import Counter, defaultdict\n",
    "import pandas as pd \n",
    "from wordcloud import WordCloud \n",
    "\n",
    "def combine_tokens(tokens):\n",
    "    out = []\n",
    "    for token_list in tokens:\n",
    "        out = out + token_list\n",
    "    return out\n",
    "\n",
    "def wordcloud(word_freq, title=None, max_words=200, stopwords=None):\n",
    "\n",
    "    wc = WordCloud(width=800, height=400, \n",
    "                   background_color= \"black\", colormap=\"Paired\", \n",
    "                   max_font_size=150, max_words=max_words)\n",
    "    \n",
    "    # convert data frame into dict\n",
    "    if type(word_freq) == pd.Series:\n",
    "        counter = Counter(word_freq.fillna(0).to_dict())\n",
    "    else:\n",
    "        counter = word_freq\n",
    "\n",
    "    # filter stop words in frequency counter\n",
    "    if stopwords is not None:\n",
    "        counter = {token:freq for (token, freq) in counter.items() \n",
    "                              if token not in stopwords}\n",
    "    wc.generate_from_frequencies(counter)\n",
    " \n",
    "    plt.title(title) \n",
    "    plt.imshow(wc, interpolation='bilinear')\n",
    "    plt.axis(\"off\")\n",
    "    \n",
    "    \n",
    "def count_words(df, column='tokens', preprocess=None, min_freq=2):\n",
    "\n",
    "    # process tokens and update counter\n",
    "    def update(doc):\n",
    "        tokens = doc if preprocess is None else preprocess(doc)\n",
    "        counter.update(tokens)\n",
    "\n",
    "    # create counter and run through all data\n",
    "    counter = Counter()\n",
    "    df[column].map(update)\n",
    "\n",
    "    # transform counter into data frame\n",
    "    freq_df = pd.DataFrame.from_dict(counter, orient='index', columns=['freq'])\n",
    "    freq_df = freq_df.query('freq >= @min_freq')\n",
    "    freq_df.index.name = 'token'\n",
    "    \n",
    "    return freq_df.sort_values('freq', ascending=False)\n",
    "\n",
    "#accepts a pandas series object of tokens and returns a dictionary\n",
    "def get_frequency(tokensObj,count_name = 'count'):\n",
    "    #convert into a list.\n",
    "    import pandas as pd \n",
    "    tokens_count = Counter(combine_tokens(tokensObj))\n",
    "    count_df = pd.DataFrame.from_dict(tokens_count, orient='index').reset_index()\n",
    "    return(count_df.rename(columns={'index':'token',0:count_name}))"
   ]
  },
  {
   "cell_type": "code",
   "execution_count": 122,
   "id": "743a07ec",
   "metadata": {},
   "outputs": [],
   "source": [
    "#remove any lemmas that are fully numerical\n",
    "all_numerical_pattern = re.compile(r\"[a-zA-Z]\")\n",
    "df['lemmas'] = df['lemmas'].apply(lambda x: [i for i in x if re.search(all_numerical_pattern,i) is not None])"
   ]
  },
  {
   "cell_type": "code",
   "execution_count": 123,
   "id": "d323ad5c",
   "metadata": {},
   "outputs": [
    {
     "data": {
      "text/html": [
       "<div>\n",
       "<style scoped>\n",
       "    .dataframe tbody tr th:only-of-type {\n",
       "        vertical-align: middle;\n",
       "    }\n",
       "\n",
       "    .dataframe tbody tr th {\n",
       "        vertical-align: top;\n",
       "    }\n",
       "\n",
       "    .dataframe thead th {\n",
       "        text-align: right;\n",
       "    }\n",
       "</style>\n",
       "<table border=\"1\" class=\"dataframe\">\n",
       "  <thead>\n",
       "    <tr style=\"text-align: right;\">\n",
       "      <th></th>\n",
       "      <th>text</th>\n",
       "      <th>Priority</th>\n",
       "      <th>lemmas</th>\n",
       "      <th>adjs_verbs</th>\n",
       "      <th>nouns</th>\n",
       "      <th>noun_phrases</th>\n",
       "      <th>adj_noun_phrases</th>\n",
       "      <th>entities</th>\n",
       "      <th>lemmas_no_sw</th>\n",
       "    </tr>\n",
       "  </thead>\n",
       "  <tbody>\n",
       "    <tr>\n",
       "      <th>37727</th>\n",
       "      <td>open type does not work with nested build path. i have my source tree like this.; root-|; |-a1-|; |-a1.java; |-a2; |-file.java; ; in my build path i have added root with inclusion pattern file.java.; also i have a1 and a2 in build path.; ; it works till i refresh. after refreshing; open type does not find anything under a1 such as a1.java.; it shows file could not be found in root. make sure all workspace resources are refreshed. screenshot attached.; ; ive also tried with excluding a1;a2 from root; still same result.</td>\n",
       "      <td>P3</td>\n",
       "      <td>[open, type, do, work, with, nest, build, path, have, source, tree, like, root-|, in, build, path, have, add, root, with, inclusion, pattern, file.java, also, have, a1, and, a2, in, build, path, work, till, refresh, after, refresh, open, type, do, find, under, a1, such, as, a1.java, show, file, could, be, find, in, root, make, sure, workspace, resource, be, refresh, screenshot, attach, ve, also, try, with, exclude, a1;a2, from, root, still, same, result]</td>\n",
       "      <td>[open, work, nest, add, work, refresh, refresh, open, find, show, find, sure, workspace, refresh, attach, try, exclude]</td>\n",
       "      <td>[type, build, path, source, tree, |-a1-|, |-a1.java, |-a2, |-file.java, build, path, root, inclusion, pattern, a1, a2, build, path, type, a1, a1.java, file, root, resource, screenshot, root, result]</td>\n",
       "      <td>[build_path, source_tree, build_path, inclusion_pattern, build_path]</td>\n",
       "      <td>[open_type, open_type, same_result]</td>\n",
       "      <td>[root-|_;/GPE, |-a2/GPE]</td>\n",
       "      <td>[open, type, work, nest, build, path, source, tree, like, root-|, build, path, add, root, inclusion, pattern, file.java, a1, a2, build, path, work, till, refresh, refresh, open, type, find, a1, a1.java, file, find, root, sure, workspace, resource, refresh, screenshot, attach, ve, try, exclude, a1;a2, root, result]</td>\n",
       "    </tr>\n",
       "  </tbody>\n",
       "</table>\n",
       "</div>"
      ],
      "text/plain": [
       "                                                                                                                                                                                                                                                                                                                                                                                                                                                                                                                                              text  \\\n",
       "37727  open type does not work with nested build path. i have my source tree like this.; root-|; |-a1-|; |-a1.java; |-a2; |-file.java; ; in my build path i have added root with inclusion pattern file.java.; also i have a1 and a2 in build path.; ; it works till i refresh. after refreshing; open type does not find anything under a1 such as a1.java.; it shows file could not be found in root. make sure all workspace resources are refreshed. screenshot attached.; ; ive also tried with excluding a1;a2 from root; still same result.   \n",
       "\n",
       "      Priority  \\\n",
       "37727       P3   \n",
       "\n",
       "                                                                                                                                                                                                                                                                                                                                                                                                                                                                           lemmas  \\\n",
       "37727  [open, type, do, work, with, nest, build, path, have, source, tree, like, root-|, in, build, path, have, add, root, with, inclusion, pattern, file.java, also, have, a1, and, a2, in, build, path, work, till, refresh, after, refresh, open, type, do, find, under, a1, such, as, a1.java, show, file, could, be, find, in, root, make, sure, workspace, resource, be, refresh, screenshot, attach, ve, also, try, with, exclude, a1;a2, from, root, still, same, result]   \n",
       "\n",
       "                                                                                                                    adjs_verbs  \\\n",
       "37727  [open, work, nest, add, work, refresh, refresh, open, find, show, find, sure, workspace, refresh, attach, try, exclude]   \n",
       "\n",
       "                                                                                                                                                                                                        nouns  \\\n",
       "37727  [type, build, path, source, tree, |-a1-|, |-a1.java, |-a2, |-file.java, build, path, root, inclusion, pattern, a1, a2, build, path, type, a1, a1.java, file, root, resource, screenshot, root, result]   \n",
       "\n",
       "                                                               noun_phrases  \\\n",
       "37727  [build_path, source_tree, build_path, inclusion_pattern, build_path]   \n",
       "\n",
       "                          adj_noun_phrases                  entities  \\\n",
       "37727  [open_type, open_type, same_result]  [root-|_;/GPE, |-a2/GPE]   \n",
       "\n",
       "                                                                                                                                                                                                                                                                                                                      lemmas_no_sw  \n",
       "37727  [open, type, work, nest, build, path, source, tree, like, root-|, build, path, add, root, inclusion, pattern, file.java, a1, a2, build, path, work, till, refresh, refresh, open, type, find, a1, a1.java, file, find, root, sure, workspace, resource, refresh, screenshot, attach, ve, try, exclude, a1;a2, root, result]  "
      ]
     },
     "execution_count": 123,
     "metadata": {},
     "output_type": "execute_result"
    }
   ],
   "source": [
    "df['lemmas_no_sw'] = df['lemmas'].map(remove_stop_words)\n",
    "df.head(1)"
   ]
  },
  {
   "cell_type": "code",
   "execution_count": 93,
   "id": "7ac36ee5",
   "metadata": {},
   "outputs": [],
   "source": [
    "classes = df['Priority'].unique()\n",
    "classes.sort()"
   ]
  },
  {
   "cell_type": "code",
   "execution_count": 101,
   "id": "04b89fcd",
   "metadata": {
    "collapsed": true
   },
   "outputs": [
    {
     "name": "stdout",
     "output_type": "stream",
     "text": [
      "lemma count for P1 - count: 1117\n",
      "                     token  count\n",
      "87            public_class    118\n",
      "587   unchanged_class_file     56\n",
      "586        unchanged_class     56\n",
      "35          internal_error     52\n",
      "585   affected_source_file     44\n",
      "584        affected_source     44\n",
      "2024      different_output     28\n",
      "658          new_workspace     18\n",
      "297            main_method     17\n",
      "14             public_void     17\n",
      "lemma count for P2 - count: 3038\n",
      "               token  count\n",
      "10      public_class    347\n",
      "754    add_dependent    175\n",
      "1818       quick_fix     52\n",
      "54    internal_error     52\n",
      "311      inner_class     51\n",
      "712      stack_trace     45\n",
      "395   local_variable     42\n",
      "11       public_void     42\n",
      "505        open_type     41\n",
      "527        new_class     35\n",
      "lemma count for P3 - count: 4000\n",
      "                token  count\n",
      "16       public_class    692\n",
      "41          quick_fix    166\n",
      "28   More_information    163\n",
      "29        public_void    125\n",
      "24        inner_class     97\n",
      "69     public_class_x     89\n",
      "179    local_variable     71\n",
      "23     internal_error     66\n",
      "217      static_class     65\n",
      "206         new_class     57\n",
      "lemma count for P4 - count: 1138\n",
      "               token  count\n",
      "128     public_class     91\n",
      "159        new_class     32\n",
      "116      inner_class     29\n",
      "43      external_jar     26\n",
      "93    qualified_name     25\n",
      "82       public_void     18\n",
      "1451  local_variable     16\n",
      "281        open_type     16\n",
      "91         same_name     14\n",
      "674    active_editor     13\n",
      "lemma count for P5 - count: 252\n",
      "                       token  count\n",
      "7               public_class     30\n",
      "41                empty_line     16\n",
      "459         More_information     16\n",
      "44                 same_line     10\n",
      "16               public_void      9\n",
      "343          viewable_entity      8\n",
      "564  empty_array_initializer      8\n",
      "563              empty_array      8\n",
      "49              maximum_line      7\n",
      "23             active_editor      7\n"
     ]
    }
   ],
   "source": [
    "for p in classes:\n",
    "    this_df = df[df['Priority']==p]\n",
    "    print(f'lemma count for {p} - count: {len(this_df)}')\n",
    "    this_freq = get_frequency(this_df['adj_noun_phrases']).sort_values(by='count',ascending=False)\n",
    "    print(this_freq[0:10])"
   ]
  },
  {
   "cell_type": "code",
   "execution_count": 134,
   "id": "04ae8f6d",
   "metadata": {},
   "outputs": [
    {
     "name": "stdout",
     "output_type": "stream",
     "text": [
      "icon action jgs pm icon action relaunchactiondelegate terminateandremoveactiondelegate 9/24/2001 pm copy icon copy clipboard desktop pm request remove\n"
     ]
    }
   ],
   "source": [
    "lemmas = df['nouns'].apply(lambda x: \" \".join(x))\n",
    "print(lemmas[0])"
   ]
  },
  {
   "cell_type": "code",
   "execution_count": 135,
   "id": "4dbf38fa",
   "metadata": {},
   "outputs": [
    {
     "name": "stdout",
     "output_type": "stream",
     "text": [
      "Accuracy Score -  0.5165007857517024\n",
      "              precision    recall  f1-score   support\n",
      "\n",
      "          P1       0.45      0.29      0.35       223\n",
      "          P2       0.45      0.46      0.45       608\n",
      "          P3       0.57      0.72      0.64       800\n",
      "          P4       0.50      0.29      0.37       228\n",
      "          P5       0.00      0.00      0.00        50\n",
      "\n",
      "    accuracy                           0.52      1909\n",
      "   macro avg       0.39      0.35      0.36      1909\n",
      "weighted avg       0.50      0.52      0.50      1909\n",
      "\n"
     ]
    }
   ],
   "source": [
    "#80-20 train/test split\n",
    "X_train, X_test, Y_train, Y_test = train_test_split(\n",
    "    lemmas,\n",
    "    df['Priority'],\n",
    "    test_size=0.2,\n",
    "    random_state=42,\n",
    "    stratify=df['Priority']\n",
    ")\n",
    "\n",
    "#Vectorize\n",
    "tfidf = TfidfVectorizer(min_df = 10, ngram_range=(1,2), stop_words=\"english\")\n",
    "X_train_tf = tfidf.fit_transform(X_train)\n",
    "\n",
    "#Try again\n",
    "model2 = LinearSVC(random_state=0, tol=1e-5)\n",
    "model2.fit(X_train_tf, Y_train)\n",
    "\n",
    "X_test_tf = tfidf.transform(X_test)\n",
    "Y_pred = model2.predict(X_test_tf)\n",
    "print ('Accuracy Score - ', accuracy_score(Y_test, Y_pred))\n",
    "\n",
    "print(classification_report(Y_test, Y_pred))"
   ]
  },
  {
   "cell_type": "markdown",
   "id": "b59c413d",
   "metadata": {},
   "source": [
    "## Cross Validation"
   ]
  },
  {
   "cell_type": "code",
   "execution_count": 138,
   "id": "b54094a0",
   "metadata": {},
   "outputs": [
    {
     "name": "stdout",
     "output_type": "stream",
     "text": [
      "Validation scores from each iteration of the cross validation  [0.45102148 0.45940283 0.43897328 0.37977999 0.37297014]\n",
      "Mean value across of validation scores  0.42042954426401263\n",
      "Standard deviation of validation scores  0.0366153923344854\n"
     ]
    }
   ],
   "source": [
    "# Vectorization\n",
    "from sklearn.model_selection import cross_val_score\n",
    "lemmas = df['lemmas_no_sw'].apply(lambda x: \" \".join(x))\n",
    "tfidf = TfidfVectorizer(min_df = 10, ngram_range=(1,2), stop_words=\"english\")\n",
    "df_tf = tfidf.fit_transform(lemmas).toarray()\n",
    "# Cross Validation with 5 folds\n",
    "scores = cross_val_score(estimator=model1,\n",
    "    X=df_tf,\n",
    "    y=df['Priority'],\n",
    "    cv=5\n",
    ")\n",
    "print (\"Validation scores from each iteration of the cross validation \", scores)\n",
    "print (\"Mean value across of validation scores \", scores.mean())\n",
    "print (\"Standard deviation of validation scores \", scores.std())"
   ]
  },
  {
   "cell_type": "markdown",
   "id": "a3f84f38",
   "metadata": {},
   "source": [
    "## Grid Search"
   ]
  },
  {
   "cell_type": "code",
   "execution_count": 141,
   "id": "b13a7335",
   "metadata": {},
   "outputs": [
    {
     "name": "stdout",
     "output_type": "stream",
     "text": [
      "Best alpha parameter identified by grid search  {'model__loss': 'hinge', 'model__max_iter': 10000, 'model__penalty': 'l2', 'tfidf__min_df': 5, 'tfidf__ngram_range': (1, 3)}\n",
      "Best result identified by grid search  0.43761131482451543\n"
     ]
    }
   ],
   "source": [
    "from sklearn.pipeline import Pipeline\n",
    "from sklearn.model_selection import GridSearchCV\n",
    "from sklearn.\n",
    "\n",
    "training_pipeline = Pipeline(\n",
    " steps=[('tfidf', TfidfVectorizer(stop_words=\"english\")),\n",
    " ('model', LinearSVC(random_state=42, tol=1e-5))])\n",
    "grid_param = [{\n",
    " 'tfidf__min_df': [5, 10],\n",
    " 'tfidf__ngram_range': [(1, 3), (1, 6)],\n",
    " 'model__penalty': ['l2'],\n",
    " 'model__loss': ['hinge'],\n",
    " 'model__max_iter': [10000]\n",
    "}, {\n",
    " 'tfidf__min_df': [5, 10],\n",
    " 'tfidf__ngram_range': [(1, 3), (1, 6)],\n",
    " 'model__C': [1, 10],\n",
    " 'model__tol': [1e-2, 1e-3]\n",
    "}]\n",
    "gridSearchProcessor = GridSearchCV(estimator=training_pipeline,\n",
    " param_grid=grid_param,\n",
    "cv=5)\n",
    "gridSearchProcessor.fit(lemmas, df['Priority'])\n",
    "best_params = gridSearchProcessor.best_params_\n",
    "print(\"Best alpha parameter identified by grid search \", best_params)\n",
    "best_result = gridSearchProcessor.best_score_\n",
    "print(\"Best result identified by grid search \", best_result)"
   ]
  },
  {
   "cell_type": "markdown",
   "id": "ae38a863",
   "metadata": {},
   "source": [
    "## Grid Search 2:\n",
    "#### Instead of trying to guess the priority, let's guess the component!"
   ]
  },
  {
   "cell_type": "code",
   "execution_count": 153,
   "id": "3275a3e8",
   "metadata": {},
   "outputs": [
    {
     "data": {
      "text/html": [
       "<div>\n",
       "<style scoped>\n",
       "    .dataframe tbody tr th:only-of-type {\n",
       "        vertical-align: middle;\n",
       "    }\n",
       "\n",
       "    .dataframe tbody tr th {\n",
       "        vertical-align: top;\n",
       "    }\n",
       "\n",
       "    .dataframe thead th {\n",
       "        text-align: right;\n",
       "    }\n",
       "</style>\n",
       "<table border=\"1\" class=\"dataframe\">\n",
       "  <thead>\n",
       "    <tr style=\"text-align: right;\">\n",
       "      <th></th>\n",
       "      <th>Issue_id</th>\n",
       "      <th>Priority</th>\n",
       "      <th>Component</th>\n",
       "      <th>Duplicated_issue</th>\n",
       "      <th>Title</th>\n",
       "      <th>Description</th>\n",
       "      <th>Status</th>\n",
       "      <th>Resolution</th>\n",
       "      <th>Version</th>\n",
       "      <th>Created_time</th>\n",
       "      <th>Resolved_time</th>\n",
       "    </tr>\n",
       "  </thead>\n",
       "  <tbody>\n",
       "    <tr>\n",
       "      <th>0</th>\n",
       "      <td>1518</td>\n",
       "      <td>P1</td>\n",
       "      <td>Debug</td>\n",
       "      <td>NaN</td>\n",
       "      <td>Icons needed for actions (1GI5UXW)</td>\n",
       "      <td>JGS (8/8/01 5:20:19 PM); \\tWe need enabled; disabled &amp; hover icons for the following actions:; \\t\\tCopyToClipboardActionDelegate; \\t\\tRelaunchActionDelegate; \\t\\tTerminateAndRemoveActionDelegate; ; DW (9/24/2001 2:22:48 PM); \\tUse the standard copy icon for copy to clipboard (desktop likely exposes it).; ; DW (9/24/2001 2:23:05 PM); \\tMade requests for; \\t\\tRelaunch; \\t\\tTerminate All; \\t\\tTerminate &amp; Remove</td>\n",
       "      <td>VERIFIED</td>\n",
       "      <td>FIXED</td>\n",
       "      <td>2.0</td>\n",
       "      <td>2001-10-10 22:14:00 -0400</td>\n",
       "      <td>2001-10-18 11:51:14 -0400</td>\n",
       "    </tr>\n",
       "    <tr>\n",
       "      <th>1</th>\n",
       "      <td>1519</td>\n",
       "      <td>P3</td>\n",
       "      <td>Debug</td>\n",
       "      <td>NaN</td>\n",
       "      <td>README: Hit count not reset (1GET20Y)</td>\n",
       "      <td>JGS (6/4/01 11:43:47 AM); \\tSet a breakpoint in InfiniteLoop with a hit count.  When suspended;; \\tright click breakpoint in Breakpoints viewer and enable.  Hit count; \\tstays at previous value.  Should it be reset to zero?; ; DW (6/4/01 11:50:23 AM); \\tThis should just re-enable the breakpoint with the previous hit-count.; ; DS (6/4/2001 11:50:31 AM); \\tTo change a hit count breakpoint into a normal breakpoint; you set its hit count to zero.; \\tThis should likely be a readme item.; ; DW (6/4/01 6:33:43 PM); \\tMake into a README.; ; DW (6/15/01 9:45:55 AM); \\tAdded to README.</td>\n",
       "      <td>RESOLVED</td>\n",
       "      <td>WORKSFORME</td>\n",
       "      <td>2.0</td>\n",
       "      <td>2001-10-10 22:14:00 -0400</td>\n",
       "      <td>2001-11-28 13:42:46 -0500</td>\n",
       "    </tr>\n",
       "    <tr>\n",
       "      <th>2</th>\n",
       "      <td>1520</td>\n",
       "      <td>P3</td>\n",
       "      <td>Debug</td>\n",
       "      <td>NaN</td>\n",
       "      <td>Use styled text in console (1G9S1YF)</td>\n",
       "      <td>DW (2/26/01 5:56:36 PM); \\tCould allow users to use styled text in console; with preference support. This would; \\tallow console input to be shown in bold; etc.</td>\n",
       "      <td>CLOSED</td>\n",
       "      <td>WONTFIX</td>\n",
       "      <td>2.0</td>\n",
       "      <td>2001-10-10 22:14:00 -0400</td>\n",
       "      <td>2002-06-26 11:32:05 -0400</td>\n",
       "    </tr>\n",
       "    <tr>\n",
       "      <th>3</th>\n",
       "      <td>1521</td>\n",
       "      <td>P3</td>\n",
       "      <td>Debug</td>\n",
       "      <td>NaN</td>\n",
       "      <td>StringBuffer representation (1GE3BFA)</td>\n",
       "      <td>JGS (5/21/01 2:09:10 PM); \\tTo be consistent; should we represent StringBuffer objects in the variables view like; \\twe do Strings; with their values shown on the top node; so the user doesnt have to; \\texpand the object and look at the char array?; ; DW (5/21/01 6:33:02 PM); \\tDeferred - requires an evaluation.</td>\n",
       "      <td>VERIFIED</td>\n",
       "      <td>FIXED</td>\n",
       "      <td>2.0</td>\n",
       "      <td>2001-10-10 22:14:00 -0400</td>\n",
       "      <td>2002-02-05 10:37:09 -0500</td>\n",
       "    </tr>\n",
       "    <tr>\n",
       "      <th>4</th>\n",
       "      <td>1522</td>\n",
       "      <td>P2</td>\n",
       "      <td>Debug</td>\n",
       "      <td>1663.0</td>\n",
       "      <td>Feature: use #toString to display variable values (1G1Y25J)</td>\n",
       "      <td>DW (9/27/00 11:12:31 AM); \\tCurrently; the type of an object is shown in the variables view for ; its value.; \\tOnly Strings and primitive types show concrete values. We should display; \\tthe toString() of each object as its value. ; ; DW (10/23/00 11:22:02 AM); \\tComments from CM:; ; \\tFirst I need to define thread &lt;g&gt; because there are 2 of them:; 1) when I say thread; I mean a Java Thread; i.e. an object of type ; java.lang.Thread; 2) when I say vm thread; I mean the debuggers represenation of a thread in ; the VM;; \\ti.e. an object of type com.oti.defrogger.model.DbgThread; ; So; when asked for an objects toString; the debugger creates a new thread; to do the following:; ; - lock the vm thread so that no other thread can invoke toString on that vm ; thread; ; - set a flag on the vm thread: fIsInvokingToString = true; ; - use INVOKE_SINGLE_THREADED to send toString() to the object in the vm thread; ; - set fIsInvokingToString = false; ; - unlock the vm thread; ; ; The fIsInvokin...</td>\n",
       "      <td>RESOLVED</td>\n",
       "      <td>DUPLICATE</td>\n",
       "      <td>2.0</td>\n",
       "      <td>2001-10-10 22:14:00 -0400</td>\n",
       "      <td>2001-10-17 10:17:47 -0400</td>\n",
       "    </tr>\n",
       "  </tbody>\n",
       "</table>\n",
       "</div>"
      ],
      "text/plain": [
       "   Issue_id Priority Component  Duplicated_issue  \\\n",
       "0      1518       P1     Debug               NaN   \n",
       "1      1519       P3     Debug               NaN   \n",
       "2      1520       P3     Debug               NaN   \n",
       "3      1521       P3     Debug               NaN   \n",
       "4      1522       P2     Debug            1663.0   \n",
       "\n",
       "                                                         Title  \\\n",
       "0                           Icons needed for actions (1GI5UXW)   \n",
       "1                        README: Hit count not reset (1GET20Y)   \n",
       "2                         Use styled text in console (1G9S1YF)   \n",
       "3                        StringBuffer representation (1GE3BFA)   \n",
       "4  Feature: use #toString to display variable values (1G1Y25J)   \n",
       "\n",
       "                                                                                                                                                                                                                                                                                                                                                                                                                                                                                                                                                                                                                                                                                                                                                                                                                                                                                                                                                                                                                               Description  \\\n",
       "0                                                                                                                                                                                                                                                                                                                                                                                                                                                                                                                                                                                                              JGS (8/8/01 5:20:19 PM); \\tWe need enabled; disabled & hover icons for the following actions:; \\t\\tCopyToClipboardActionDelegate; \\t\\tRelaunchActionDelegate; \\t\\tTerminateAndRemoveActionDelegate; ; DW (9/24/2001 2:22:48 PM); \\tUse the standard copy icon for copy to clipboard (desktop likely exposes it).; ; DW (9/24/2001 2:23:05 PM); \\tMade requests for; \\t\\tRelaunch; \\t\\tTerminate All; \\t\\tTerminate & Remove   \n",
       "1                                                                                                                                                                                                                                                                                                                                                                                                                                   JGS (6/4/01 11:43:47 AM); \\tSet a breakpoint in InfiniteLoop with a hit count.  When suspended;; \\tright click breakpoint in Breakpoints viewer and enable.  Hit count; \\tstays at previous value.  Should it be reset to zero?; ; DW (6/4/01 11:50:23 AM); \\tThis should just re-enable the breakpoint with the previous hit-count.; ; DS (6/4/2001 11:50:31 AM); \\tTo change a hit count breakpoint into a normal breakpoint; you set its hit count to zero.; \\tThis should likely be a readme item.; ; DW (6/4/01 6:33:43 PM); \\tMake into a README.; ; DW (6/15/01 9:45:55 AM); \\tAdded to README.   \n",
       "2                                                                                                                                                                                                                                                                                                                                                                                                                                                                                                                                                                                                                                                                                                                                                                                                                                                                         DW (2/26/01 5:56:36 PM); \\tCould allow users to use styled text in console; with preference support. This would; \\tallow console input to be shown in bold; etc.   \n",
       "3                                                                                                                                                                                                                                                                                                                                                                                                                                                                                                                                                                                                                                                                                                                JGS (5/21/01 2:09:10 PM); \\tTo be consistent; should we represent StringBuffer objects in the variables view like; \\twe do Strings; with their values shown on the top node; so the user doesnt have to; \\texpand the object and look at the char array?; ; DW (5/21/01 6:33:02 PM); \\tDeferred - requires an evaluation.   \n",
       "4  DW (9/27/00 11:12:31 AM); \\tCurrently; the type of an object is shown in the variables view for ; its value.; \\tOnly Strings and primitive types show concrete values. We should display; \\tthe toString() of each object as its value. ; ; DW (10/23/00 11:22:02 AM); \\tComments from CM:; ; \\tFirst I need to define thread <g> because there are 2 of them:; 1) when I say thread; I mean a Java Thread; i.e. an object of type ; java.lang.Thread; 2) when I say vm thread; I mean the debuggers represenation of a thread in ; the VM;; \\ti.e. an object of type com.oti.defrogger.model.DbgThread; ; So; when asked for an objects toString; the debugger creates a new thread; to do the following:; ; - lock the vm thread so that no other thread can invoke toString on that vm ; thread; ; - set a flag on the vm thread: fIsInvokingToString = true; ; - use INVOKE_SINGLE_THREADED to send toString() to the object in the vm thread; ; - set fIsInvokingToString = false; ; - unlock the vm thread; ; ; The fIsInvokin...   \n",
       "\n",
       "     Status  Resolution Version               Created_time  \\\n",
       "0  VERIFIED       FIXED     2.0  2001-10-10 22:14:00 -0400   \n",
       "1  RESOLVED  WORKSFORME     2.0  2001-10-10 22:14:00 -0400   \n",
       "2    CLOSED     WONTFIX     2.0  2001-10-10 22:14:00 -0400   \n",
       "3  VERIFIED       FIXED     2.0  2001-10-10 22:14:00 -0400   \n",
       "4  RESOLVED   DUPLICATE     2.0  2001-10-10 22:14:00 -0400   \n",
       "\n",
       "               Resolved_time  \n",
       "0  2001-10-18 11:51:14 -0400  \n",
       "1  2001-11-28 13:42:46 -0500  \n",
       "2  2002-06-26 11:32:05 -0400  \n",
       "3  2002-02-05 10:37:09 -0500  \n",
       "4  2001-10-17 10:17:47 -0400  "
      ]
     },
     "execution_count": 153,
     "metadata": {},
     "output_type": "execute_result"
    }
   ],
   "source": [
    "#download our dataset from github\n",
    "download = requests.get(jdt_url).content\n",
    "df = pd.read_csv(io.StringIO(download.decode('utf-8')))\n",
    "df.head()"
   ]
  },
  {
   "cell_type": "code",
   "execution_count": 158,
   "id": "042ac7d1",
   "metadata": {},
   "outputs": [],
   "source": [
    "from sklearn.svm import SVC "
   ]
  },
  {
   "cell_type": "code",
   "execution_count": 156,
   "id": "2f804372",
   "metadata": {},
   "outputs": [],
   "source": [
    "df['text'] = df['Title'] +' '+df['Description']\n",
    "df['text'] = df['text'].astype(str)"
   ]
  },
  {
   "cell_type": "code",
   "execution_count": 159,
   "id": "d2ca3ecd",
   "metadata": {},
   "outputs": [
    {
     "name": "stdout",
     "output_type": "stream",
     "text": [
      "Best alpha parameter identified by grid search  {'model__C': 1, 'model__kernel': 'linear', 'tfidf__min_df': 5, 'tfidf__ngram_range': (1, 3)}\n",
      "Best result identified by grid search  0.6662101114955787\n",
      "Accuracy Score -  0.7257617728531855\n",
      "              precision    recall  f1-score   support\n",
      "\n",
      "         APT       0.00      0.00      0.00         3\n",
      "        Core       0.76      0.76      0.76       109\n",
      "       Debug       0.96      0.73      0.83        60\n",
      "         Doc       0.00      0.00      0.00         3\n",
      "        Text       0.61      0.40      0.49        47\n",
      "          UI       0.66      0.83      0.74       139\n",
      "\n",
      "    accuracy                           0.73       361\n",
      "   macro avg       0.50      0.46      0.47       361\n",
      "weighted avg       0.72      0.73      0.72       361\n",
      "\n"
     ]
    },
    {
     "name": "stderr",
     "output_type": "stream",
     "text": [
      "c:\\users\\fkrasovsky\\appdata\\local\\programs\\python\\python38\\lib\\site-packages\\sklearn\\metrics\\_classification.py:1327: UndefinedMetricWarning: Precision and F-score are ill-defined and being set to 0.0 in labels with no predicted samples. Use `zero_division` parameter to control this behavior.\n",
      "  _warn_prf(average, modifier, msg_start, len(result))\n",
      "c:\\users\\fkrasovsky\\appdata\\local\\programs\\python\\python38\\lib\\site-packages\\sklearn\\metrics\\_classification.py:1327: UndefinedMetricWarning: Precision and F-score are ill-defined and being set to 0.0 in labels with no predicted samples. Use `zero_division` parameter to control this behavior.\n",
      "  _warn_prf(average, modifier, msg_start, len(result))\n",
      "c:\\users\\fkrasovsky\\appdata\\local\\programs\\python\\python38\\lib\\site-packages\\sklearn\\metrics\\_classification.py:1327: UndefinedMetricWarning: Precision and F-score are ill-defined and being set to 0.0 in labels with no predicted samples. Use `zero_division` parameter to control this behavior.\n",
      "  _warn_prf(average, modifier, msg_start, len(result))\n"
     ]
    }
   ],
   "source": [
    "# Flag that determines the choice of SVC and LinearSVC\n",
    "runSVC = True\n",
    "\n",
    "# Step 1 - Data Preparation\n",
    "df['text'] = df['text'].apply(clean)\n",
    "df = df[df['text'].str.len() > 50]\n",
    "if (runSVC):\n",
    "    # Sample the data when running SVC to ensure reasonable run-times\n",
    "    df = df.groupby('Component', as_index=False).apply(pd.DataFrame.sample,\n",
    "    random_state=21,\n",
    "    frac=.2)\n",
    "    \n",
    "# Step 2 - Train-Test Split\n",
    "X_train, X_test, Y_train, Y_test = train_test_split(df['text'],\n",
    " df['Component'],\n",
    " test_size=0.2,\n",
    "random_state=42,\n",
    "stratify=df['Component'])\n",
    "\n",
    "# Step 3 - Training the Machine Learning model\n",
    "tfidf = TfidfVectorizer(stop_words=\"english\")\n",
    "if (runSVC):\n",
    "    model = SVC(random_state=42, probability=True)\n",
    "    grid_param = [{\n",
    "    'tfidf__min_df': [5, 10],\n",
    "    'tfidf__ngram_range': [(1, 3), (1, 6)],\n",
    "    'model__C': [1, 100],\n",
    "    'model__kernel': ['linear']\n",
    "    }]\n",
    "else:\n",
    "    model = LinearSVC(random_state=42, tol=1e-5)\n",
    "    grid_param = {\n",
    "        'tfidf__min_df': [5, 10],\n",
    "        'tfidf__ngram_range': [(1, 3), (1, 6)],\n",
    "        'model__C': [1, 100],\n",
    "        'model__loss': ['hinge']\n",
    "     }\n",
    "    \n",
    "training_pipeline = Pipeline(steps=[('tfidf', TfidfVectorizer(stop_words=\"english\")), ('model', model)])\n",
    "gridSearchProcessor = GridSearchCV(estimator=training_pipeline,param_grid=grid_param,cv=5)\n",
    "    \n",
    "gridSearchProcessor.fit(X_train, Y_train)\n",
    "best_params = gridSearchProcessor.best_params_\n",
    "print(\"Best alpha parameter identified by grid search \", best_params)\n",
    "best_result = gridSearchProcessor.best_score_\n",
    "print(\"Best result identified by grid search \", best_result)\n",
    "best_model = gridSearchProcessor.best_estimator_\n",
    "# Step 4 - Model Evaluation\n",
    "Y_pred = best_model.predict(X_test)\n",
    "print('Accuracy Score - ', accuracy_score(Y_test, Y_pred))\n",
    "print(classification_report(Y_test, Y_pred))\n"
   ]
  },
  {
   "cell_type": "code",
   "execution_count": 162,
   "id": "5733ea48",
   "metadata": {},
   "outputs": [
    {
     "data": {
      "text/plain": [
       "{'model__C': 1,\n",
       " 'model__kernel': 'linear',\n",
       " 'tfidf__min_df': 5,\n",
       " 'tfidf__ngram_range': (1, 3)}"
      ]
     },
     "execution_count": 162,
     "metadata": {},
     "output_type": "execute_result"
    }
   ],
   "source": [
    "#we will hold on to this because we will be using this to retrain our model.\n",
    "best_params"
   ]
  },
  {
   "cell_type": "markdown",
   "id": "f7012d6e",
   "metadata": {},
   "source": [
    "## Chapter 7: Explaining Text Classifiers"
   ]
  },
  {
   "cell_type": "markdown",
   "id": "87cffd03",
   "metadata": {},
   "source": [
    "We begin by re-running our SVM and printing out a series of data points that were not classified correctly, picking one out,and determining if we can separate the patterns behind \"good\" and \"bad\" predictions."
   ]
  },
  {
   "cell_type": "code",
   "execution_count": null,
   "id": "f7f3f268",
   "metadata": {
    "scrolled": true
   },
   "outputs": [],
   "source": [
    "tfidf = TfidfVectorizer(stop_words=\"english\")\n",
    "X_train_tf = tfidf.fit_transform(X_train)\n",
    "\n",
    "svc = SVC(kernel=\"linear\", C=1, probability=True, random_state=42)\n",
    "svc.fit(X_train_tf, Y_train)\n",
    "\n",
    "X_test_tf = tfidf.transform(X_test)\n",
    "Y_pred = svc.predict(X_test_tf)\n",
    "result = pd.DataFrame({ 'text': X_test.values, 'actual': Y_test.values,\n",
    " 'predicted': Y_pred })\n"
   ]
  },
  {
   "cell_type": "code",
   "execution_count": 179,
   "id": "3f67305f",
   "metadata": {},
   "outputs": [
    {
     "data": {
      "text/html": [
       "<div>\n",
       "<style scoped>\n",
       "    .dataframe tbody tr th:only-of-type {\n",
       "        vertical-align: middle;\n",
       "    }\n",
       "\n",
       "    .dataframe tbody tr th {\n",
       "        vertical-align: top;\n",
       "    }\n",
       "\n",
       "    .dataframe thead th {\n",
       "        text-align: right;\n",
       "    }\n",
       "</style>\n",
       "<table border=\"1\" class=\"dataframe\">\n",
       "  <thead>\n",
       "    <tr style=\"text-align: right;\">\n",
       "      <th></th>\n",
       "      <th>text</th>\n",
       "      <th>actual</th>\n",
       "      <th>predicted</th>\n",
       "    </tr>\n",
       "  </thead>\n",
       "  <tbody>\n",
       "    <tr>\n",
       "      <th>52</th>\n",
       "      <td>Doc Javadocs of 2.0 classes must specify if the class is intended to be instantiated or subclassed by client.</td>\n",
       "      <td>Core</td>\n",
       "      <td>UI</td>\n",
       "    </tr>\n",
       "    <tr>\n",
       "      <th>292</th>\n",
       "      <td>IOOBoundsException from FindReplaceDialog.writeHistory 20060410-0010; ; found the following exception in my log; ; java.lang.IndexOutOfBoundsException: Index: 8; Size: 8; at java.util.ArrayList.RangeCheck(ArrayList.java:546); at java.util.ArrayList.remove(ArrayList.java:389); at org.eclipse.ui.texteditor.FindReplaceDialog.writeHistory(FindReplaceDialog.java:1739); at org.eclipse.ui.texteditor.FindReplaceDialog.writeConfiguration(FindReplaceDialog.java:1708); at org.eclipse.ui.texteditor.FindReplaceDialog.storeSettings(FindReplaceDialog.java:1006); at org.eclipse.ui.texteditor.FindReplaceDialog.handleDialogClose(FindReplaceDialog.java:967); at org.eclipse.ui.texteditor.FindReplaceDialog.close(FindReplaceDialog.java:945); at org.eclipse.ui.texteditor.FindReplaceDialog.buttonPressed(FindReplaceDialog.java:742); at org.eclipse.jface.dialogs.Dialog$3.widgetSelected(Dialog.java:652); at org.eclipse.swt.widgets.TypedListener.handleEvent(TypedListener.java:90); at org.eclipse.swt.widgets.E...</td>\n",
       "      <td>Text</td>\n",
       "      <td>UI</td>\n",
       "    </tr>\n",
       "    <tr>\n",
       "      <th>206</th>\n",
       "      <td>Display var/expression shows in unreadable popup When a Display is done on a variable/expression; the popup it shows up in is; so small; one cant see what the value is (this may be related to bug 58476); ; Also; it reports to hit ctrl-shift-d to place it in display view; but; ctrl-shift-v is what works (ctrl-shift-d just shows a funky underline D char; near the popup); ; This is on eclipse build 200405060200 on linux fedora core 1</td>\n",
       "      <td>Debug</td>\n",
       "      <td>UI</td>\n",
       "    </tr>\n",
       "    <tr>\n",
       "      <th>234</th>\n",
       "      <td>Improve default format template Cay Horstmann has pointed out that current default format template is far from optimal. It would probably be more useful to include super.toString() instead of class name. This way the Object implementation of toString() inserts a full class name (also with a useless hash; but thats not a big problem) and each subclass can add their fields at the end. Heres a proposition for the template:; ; ${object.superToString} ; ; Would that modification be suitable for 3.5.1?; ; http://weblogs.java.net/blog/cayhorstmann/archive/2009/06/upgrading_to_ec.html</td>\n",
       "      <td>UI</td>\n",
       "      <td>Core</td>\n",
       "    </tr>\n",
       "    <tr>\n",
       "      <th>175</th>\n",
       "      <td>Exception renaming project containing shared config I20050909-2010; ; If I rename a project containing a shared launch configuration; I get an ; exception like this:; ; org.eclipse.core.runtime.CoreException: Unable to generate memento for ; VectorTesting; shared file does not exist.; at org.eclipse.debug.internal.core.LaunchConfiguration.getMemento; (LaunchConfiguration.java:389); at ; org.eclipse.debug.internal.ui.launchConfigurations.LaunchConfigurationManager.c; reateEntry(LaunchConfigurationManager.java:337); at ; org.eclipse.debug.internal.ui.launchConfigurations.LaunchConfigurationManager.g; etHistoryAsXML(LaunchConfigurationManager.java:318); at ; org.eclipse.debug.internal.ui.launchConfigurations.LaunchConfigurationManager.p; ersistLaunchHistory(LaunchConfigurationManager.java:358); at org.eclipse.debug.internal.ui.launchConfigurations.LaunchHistory.save; (LaunchHistory.java:121); at ; org.eclipse.debug.internal.ui.launchConfigurations.LaunchHistory.launchConfigur; ationRe...</td>\n",
       "      <td>Debug</td>\n",
       "      <td>UI</td>\n",
       "    </tr>\n",
       "  </tbody>\n",
       "</table>\n",
       "</div>"
      ],
      "text/plain": [
       "                                                                                                                                                                                                                                                                                                                                                                                                                                                                                                                                                                                                                                                                                                                                                                                                                                                                                                                                                                                                                                        text  \\\n",
       "52                                                                                                                                                                                                                                                                                                                                                                                                                                                                                                                                                                                                                                                                                                                                                                                                                                                                                                                             Doc Javadocs of 2.0 classes must specify if the class is intended to be instantiated or subclassed by client.   \n",
       "292  IOOBoundsException from FindReplaceDialog.writeHistory 20060410-0010; ; found the following exception in my log; ; java.lang.IndexOutOfBoundsException: Index: 8; Size: 8; at java.util.ArrayList.RangeCheck(ArrayList.java:546); at java.util.ArrayList.remove(ArrayList.java:389); at org.eclipse.ui.texteditor.FindReplaceDialog.writeHistory(FindReplaceDialog.java:1739); at org.eclipse.ui.texteditor.FindReplaceDialog.writeConfiguration(FindReplaceDialog.java:1708); at org.eclipse.ui.texteditor.FindReplaceDialog.storeSettings(FindReplaceDialog.java:1006); at org.eclipse.ui.texteditor.FindReplaceDialog.handleDialogClose(FindReplaceDialog.java:967); at org.eclipse.ui.texteditor.FindReplaceDialog.close(FindReplaceDialog.java:945); at org.eclipse.ui.texteditor.FindReplaceDialog.buttonPressed(FindReplaceDialog.java:742); at org.eclipse.jface.dialogs.Dialog$3.widgetSelected(Dialog.java:652); at org.eclipse.swt.widgets.TypedListener.handleEvent(TypedListener.java:90); at org.eclipse.swt.widgets.E...   \n",
       "206                                                                                                                                                                                                                                                                                                                                                                                                                                                                                                                                                                                       Display var/expression shows in unreadable popup When a Display is done on a variable/expression; the popup it shows up in is; so small; one cant see what the value is (this may be related to bug 58476); ; Also; it reports to hit ctrl-shift-d to place it in display view; but; ctrl-shift-v is what works (ctrl-shift-d just shows a funky underline D char; near the popup); ; This is on eclipse build 200405060200 on linux fedora core 1   \n",
       "234                                                                                                                                                                                                                                                                                                                                                                                                                                  Improve default format template Cay Horstmann has pointed out that current default format template is far from optimal. It would probably be more useful to include super.toString() instead of class name. This way the Object implementation of toString() inserts a full class name (also with a useless hash; but thats not a big problem) and each subclass can add their fields at the end. Heres a proposition for the template:; ; ${object.superToString} ; ; Would that modification be suitable for 3.5.1?; ; http://weblogs.java.net/blog/cayhorstmann/archive/2009/06/upgrading_to_ec.html   \n",
       "175  Exception renaming project containing shared config I20050909-2010; ; If I rename a project containing a shared launch configuration; I get an ; exception like this:; ; org.eclipse.core.runtime.CoreException: Unable to generate memento for ; VectorTesting; shared file does not exist.; at org.eclipse.debug.internal.core.LaunchConfiguration.getMemento; (LaunchConfiguration.java:389); at ; org.eclipse.debug.internal.ui.launchConfigurations.LaunchConfigurationManager.c; reateEntry(LaunchConfigurationManager.java:337); at ; org.eclipse.debug.internal.ui.launchConfigurations.LaunchConfigurationManager.g; etHistoryAsXML(LaunchConfigurationManager.java:318); at ; org.eclipse.debug.internal.ui.launchConfigurations.LaunchConfigurationManager.p; ersistLaunchHistory(LaunchConfigurationManager.java:358); at org.eclipse.debug.internal.ui.launchConfigurations.LaunchHistory.save; (LaunchHistory.java:121); at ; org.eclipse.debug.internal.ui.launchConfigurations.LaunchHistory.launchConfigur; ationRe...   \n",
       "\n",
       "    actual predicted  \n",
       "52    Core        UI  \n",
       "292   Text        UI  \n",
       "206  Debug        UI  \n",
       "234     UI      Core  \n",
       "175  Debug        UI  "
      ]
     },
     "execution_count": 179,
     "metadata": {},
     "output_type": "execute_result"
    }
   ],
   "source": [
    "result[result[\"actual\"] != result[\"predicted\"]].sample(n=5)"
   ]
  },
  {
   "cell_type": "markdown",
   "id": "ec24bbfa",
   "metadata": {},
   "source": [
    "**In our case, ID = 234 is a great candidate because the wording clearly suggests that this might be a UI task. Let's inspect it further:**"
   ]
  },
  {
   "cell_type": "code",
   "execution_count": 182,
   "id": "d99d9159",
   "metadata": {},
   "outputs": [
    {
     "name": "stdout",
     "output_type": "stream",
     "text": [
      "text         Improve default format template Cay Horstmann has pointed out that current default format template is far from optimal. It would probably be more useful to include super.toString() instead of class name. This way the Object implementation of toString() inserts a full class name (also with a useless hash; but thats not a big problem) and each subclass can add their fields at the end. Heres a proposition for the template:; ; ${object.superToString} ; ; Would that modification be suitable for 3.5.1?; ; http://weblogs.java.net/blog/cayhorstmann/archive/2009/06/upgrading_to_ec.html\n",
      "actual                                                                                                                                                                                                                                                                                                                                                                                                                                                                                                                                                                                                            UI\n",
      "predicted                                                                                                                                                                                                                                                                                                                                                                                                                                                                                                                                                                                                       Core\n",
      "Name: 234, dtype: object\n"
     ]
    }
   ],
   "source": [
    "text = result.iloc[234]\n",
    "print(text)"
   ]
  },
  {
   "cell_type": "markdown",
   "id": "9e9d2ba1",
   "metadata": {},
   "source": [
    "Let's examine the probability of each class for this task - we know that Core has a probability of 54%, with the 2nd best result being a 31% confidence. Let's determine if there's a meaningful prediction difference in rows where the margin between the predicted and 2nd most confident result is large."
   ]
  },
  {
   "cell_type": "code",
   "execution_count": 191,
   "id": "bb91f3e9",
   "metadata": {},
   "outputs": [
    {
     "data": {
      "text/plain": [
       "array([[0.00503853, 0.30948092, 0.02885275, 0.00421294, 0.54338805,\n",
       "        0.10902681]])"
      ]
     },
     "execution_count": 191,
     "metadata": {},
     "output_type": "execute_result"
    }
   ],
   "source": [
    "svc.predict_proba(X_test_tf[234])"
   ]
  },
  {
   "cell_type": "code",
   "execution_count": 193,
   "id": "ed515b6f",
   "metadata": {},
   "outputs": [],
   "source": [
    "class_names = [\"APT\", \"Core\", \"Debug\", \"Doc\", \"Text\", \"UI\"]\n",
    "prob = svc.predict_proba(X_test_tf)"
   ]
  },
  {
   "cell_type": "markdown",
   "id": "50289544",
   "metadata": {},
   "source": [
    "### Begin by generating a matrix of prediction confidences for each test case."
   ]
  },
  {
   "cell_type": "code",
   "execution_count": 223,
   "id": "280eda26",
   "metadata": {},
   "outputs": [
    {
     "data": {
      "text/html": [
       "<div>\n",
       "<style scoped>\n",
       "    .dataframe tbody tr th:only-of-type {\n",
       "        vertical-align: middle;\n",
       "    }\n",
       "\n",
       "    .dataframe tbody tr th {\n",
       "        vertical-align: top;\n",
       "    }\n",
       "\n",
       "    .dataframe thead th {\n",
       "        text-align: right;\n",
       "    }\n",
       "</style>\n",
       "<table border=\"1\" class=\"dataframe\">\n",
       "  <thead>\n",
       "    <tr style=\"text-align: right;\">\n",
       "      <th></th>\n",
       "      <th>actual</th>\n",
       "      <th>predicted</th>\n",
       "      <th>APT</th>\n",
       "      <th>Core</th>\n",
       "      <th>Debug</th>\n",
       "      <th>Doc</th>\n",
       "      <th>Text</th>\n",
       "      <th>UI</th>\n",
       "    </tr>\n",
       "  </thead>\n",
       "  <tbody>\n",
       "    <tr>\n",
       "      <th>243</th>\n",
       "      <td>Debug</td>\n",
       "      <td>UI</td>\n",
       "      <td>0.002177</td>\n",
       "      <td>0.134378</td>\n",
       "      <td>0.163085</td>\n",
       "      <td>0.006804</td>\n",
       "      <td>0.068369</td>\n",
       "      <td>0.625188</td>\n",
       "    </tr>\n",
       "    <tr>\n",
       "      <th>170</th>\n",
       "      <td>Core</td>\n",
       "      <td>Core</td>\n",
       "      <td>0.001618</td>\n",
       "      <td>0.654064</td>\n",
       "      <td>0.030833</td>\n",
       "      <td>0.004808</td>\n",
       "      <td>0.165219</td>\n",
       "      <td>0.143457</td>\n",
       "    </tr>\n",
       "    <tr>\n",
       "      <th>171</th>\n",
       "      <td>UI</td>\n",
       "      <td>UI</td>\n",
       "      <td>0.003756</td>\n",
       "      <td>0.117092</td>\n",
       "      <td>0.021379</td>\n",
       "      <td>0.021544</td>\n",
       "      <td>0.241444</td>\n",
       "      <td>0.594785</td>\n",
       "    </tr>\n",
       "    <tr>\n",
       "      <th>251</th>\n",
       "      <td>UI</td>\n",
       "      <td>UI</td>\n",
       "      <td>0.004364</td>\n",
       "      <td>0.257883</td>\n",
       "      <td>0.006563</td>\n",
       "      <td>0.002578</td>\n",
       "      <td>0.018202</td>\n",
       "      <td>0.710411</td>\n",
       "    </tr>\n",
       "    <tr>\n",
       "      <th>7</th>\n",
       "      <td>UI</td>\n",
       "      <td>UI</td>\n",
       "      <td>0.001259</td>\n",
       "      <td>0.257537</td>\n",
       "      <td>0.014773</td>\n",
       "      <td>0.004501</td>\n",
       "      <td>0.195447</td>\n",
       "      <td>0.526484</td>\n",
       "    </tr>\n",
       "  </tbody>\n",
       "</table>\n",
       "</div>"
      ],
      "text/plain": [
       "    actual predicted       APT      Core     Debug       Doc      Text  \\\n",
       "243  Debug        UI  0.002177  0.134378  0.163085  0.006804  0.068369   \n",
       "170   Core      Core  0.001618  0.654064  0.030833  0.004808  0.165219   \n",
       "171     UI        UI  0.003756  0.117092  0.021379  0.021544  0.241444   \n",
       "251     UI        UI  0.004364  0.257883  0.006563  0.002578  0.018202   \n",
       "7       UI        UI  0.001259  0.257537  0.014773  0.004501  0.195447   \n",
       "\n",
       "           UI  \n",
       "243  0.625188  \n",
       "170  0.143457  \n",
       "171  0.594785  \n",
       "251  0.710411  \n",
       "7    0.526484  "
      ]
     },
     "execution_count": 223,
     "metadata": {},
     "output_type": "execute_result"
    }
   ],
   "source": [
    "# new dataframe for explainable results\n",
    "er = result.copy().reset_index()\n",
    "for c in enumerate(class_names):\n",
    "    er[c[1]] = prob[:,c[0]]\n",
    "    \n",
    "er[[\"actual\", \"predicted\"] + class_names].sample(5, random_state=99)"
   ]
  },
  {
   "cell_type": "markdown",
   "id": "6efdfb98",
   "metadata": {},
   "source": [
    "In this table, only the first row has an incorrect prediction, and the UI field is far and away the most confident."
   ]
  },
  {
   "cell_type": "markdown",
   "id": "ee889526",
   "metadata": {},
   "source": [
    "#### Continue by seeing, for both correct and wrong predictions, how the distribution of confidence affects model accuracy:"
   ]
  },
  {
   "cell_type": "code",
   "execution_count": 225,
   "id": "96db222c",
   "metadata": {},
   "outputs": [
    {
     "data": {
      "image/png": "[encoded data removed]",
      "text/plain": [
       "<Figure size 432x288 with 1 Axes>"
      ]
     },
     "metadata": {
      "needs_background": "light"
     },
     "output_type": "display_data"
    },
    {
     "data": {
      "text/plain": [
       "<AxesSubplot:title={'center':'Wrong'}, ylabel='Frequency'>"
      ]
     },
     "execution_count": 225,
     "metadata": {},
     "output_type": "execute_result"
    },
    {
     "data": {
      "image/png": "[encoded data removed]",
      "text/plain": [
       "<Figure size 432x288 with 1 Axes>"
      ]
     },
     "metadata": {
      "needs_background": "light"
     },
     "output_type": "display_data"
    }
   ],
   "source": [
    "er['max_probability'] = er[class_names].max(axis=1)\n",
    "correct = (er[er['actual'] == er['predicted']])\n",
    "wrong = (er[er['actual'] != er['predicted']])\n",
    "#We will now plot this as a histogram:\n",
    "correct[\"max_probability\"].plot.hist(title=\"Correct\")\n",
    "plt.show()\n",
    "wrong[\"max_probability\"].plot.hist(title=\"Wrong\")"
   ]
  },
  {
   "cell_type": "markdown",
   "id": "80a9d7d3",
   "metadata": {},
   "source": [
    "As a result, we can conclude that the majority of \"bad\" predictions occur when the confidence is below 80%. Let's entertain a model where any rows with a max probability below 80% are ignored:"
   ]
  },
  {
   "cell_type": "code",
   "execution_count": 226,
   "id": "b7c8592e",
   "metadata": {},
   "outputs": [
    {
     "name": "stdout",
     "output_type": "stream",
     "text": [
      "              precision    recall  f1-score   support\n",
      "\n",
      "        Core       0.91      0.94      0.93        34\n",
      "       Debug       0.95      0.90      0.93        42\n",
      "        Text       0.73      0.85      0.79        13\n",
      "          UI       0.87      0.85      0.86        40\n",
      "\n",
      "    accuracy                           0.89       129\n",
      "   macro avg       0.87      0.89      0.88       129\n",
      "weighted avg       0.89      0.89      0.89       129\n",
      "\n"
     ]
    }
   ],
   "source": [
    "high = er[er[\"max_probability\"] > 0.8]\n",
    "print(classification_report(high[\"actual\"], high[\"predicted\"]))"
   ]
  },
  {
   "cell_type": "code",
   "execution_count": 228,
   "id": "e4324a05",
   "metadata": {},
   "outputs": [
    {
     "name": "stdout",
     "output_type": "stream",
     "text": [
      "              precision    recall  f1-score   support\n",
      "\n",
      "         APT       0.00      0.00      0.00         3\n",
      "        Core       0.73      0.73      0.73       109\n",
      "       Debug       0.90      0.75      0.82        60\n",
      "         Doc       0.00      0.00      0.00         3\n",
      "        Text       0.59      0.43      0.49        47\n",
      "          UI       0.66      0.80      0.72       139\n",
      "\n",
      "    accuracy                           0.71       361\n",
      "   macro avg       0.48      0.45      0.46       361\n",
      "weighted avg       0.70      0.71      0.70       361\n",
      "\n"
     ]
    },
    {
     "name": "stderr",
     "output_type": "stream",
     "text": [
      "c:\\users\\fkrasovsky\\appdata\\local\\programs\\python\\python38\\lib\\site-packages\\sklearn\\metrics\\_classification.py:1327: UndefinedMetricWarning: Precision and F-score are ill-defined and being set to 0.0 in labels with no predicted samples. Use `zero_division` parameter to control this behavior.\n",
      "  _warn_prf(average, modifier, msg_start, len(result))\n",
      "c:\\users\\fkrasovsky\\appdata\\local\\programs\\python\\python38\\lib\\site-packages\\sklearn\\metrics\\_classification.py:1327: UndefinedMetricWarning: Precision and F-score are ill-defined and being set to 0.0 in labels with no predicted samples. Use `zero_division` parameter to control this behavior.\n",
      "  _warn_prf(average, modifier, msg_start, len(result))\n",
      "c:\\users\\fkrasovsky\\appdata\\local\\programs\\python\\python38\\lib\\site-packages\\sklearn\\metrics\\_classification.py:1327: UndefinedMetricWarning: Precision and F-score are ill-defined and being set to 0.0 in labels with no predicted samples. Use `zero_division` parameter to control this behavior.\n",
      "  _warn_prf(average, modifier, msg_start, len(result))\n"
     ]
    }
   ],
   "source": [
    "#Compare it with the older report:\n",
    "print(classification_report(er[\"actual\"], er[\"predicted\"]))"
   ]
  },
  {
   "cell_type": "markdown",
   "id": "167b07ff",
   "metadata": {},
   "source": [
    "### While we improved performance, we also got rid of the APT and Debug classes. Our recall improves greatly for some categories, but we also removed over half the test set."
   ]
  },
  {
   "cell_type": "markdown",
   "id": "3f538443",
   "metadata": {},
   "source": [
    "## Measuring Feature Importance"
   ]
  },
  {
   "cell_type": "code",
   "execution_count": 229,
   "id": "00150897",
   "metadata": {},
   "outputs": [
    {
     "data": {
      "text/plain": [
       "<15x13261 sparse matrix of type '<class 'numpy.float64'>'\n",
       "\twith 67709 stored elements in Compressed Sparse Row format>"
      ]
     },
     "execution_count": 229,
     "metadata": {},
     "output_type": "execute_result"
    }
   ],
   "source": [
    "svc.coef_"
   ]
  },
  {
   "attachments": {
    "image.png": {
     "image/png": "[encoded data removed]"
    }
   },
   "cell_type": "markdown",
   "id": "071a84e2",
   "metadata": {},
   "source": [
    "#### Why the 15 in 15 x 13261?\n",
    "Each class competes for uniqueness against every other class in a one-to-one way, and each term helps determine the coefficient of separation betwen classes. There's 6 classes, so we would have 6x6 = 36 point matrix. Remove the symmetry and the fact that classes don't compete with themselves and we get:\n",
    "![image.png](attachment:image.png)"
   ]
  },
  {
   "cell_type": "markdown",
   "id": "40dd9e42",
   "metadata": {},
   "source": [
    "The rows should be read first, so if we want to find out how the model distinguishes\n",
    "APT from Core, we should take index 0 of the coefficients. However, we are more\n",
    "interested in the difference of Core and UI, so we take index **8**. In the first step, we\n",
    "sort the coefficients by their values and keep the indices, which are the vocabulary\n",
    "positions:"
   ]
  },
  {
   "cell_type": "code",
   "execution_count": 232,
   "id": "5aefc101",
   "metadata": {},
   "outputs": [],
   "source": [
    "#for each word, get the significance of a variable for differences between core and UI.\n",
    "coef = svc.coef_[8].A[0]\n",
    "vocabulary_positions = coef.argsort()\n",
    "vocabulary = tfidf.get_feature_names()"
   ]
  },
  {
   "cell_type": "code",
   "execution_count": 231,
   "id": "25f5ea6f",
   "metadata": {},
   "outputs": [
    {
     "data": {
      "text/plain": [
       "<AxesSubplot:ylabel='feature'>"
      ]
     },
     "execution_count": 231,
     "metadata": {},
     "output_type": "execute_result"
    },
    {
     "data": {
      "image/png": "[encoded data removed]",
      "text/plain": [
       "<Figure size 432x288 with 1 Axes>"
      ]
     },
     "metadata": {
      "needs_background": "light"
     },
     "output_type": "display_data"
    }
   ],
   "source": [
    "top_words = 10\n",
    "top_positive_coef = vocabulary_positions[-top_words:].tolist()\n",
    "top_negative_coef = vocabulary_positions[:top_words].tolist()\n",
    "\n",
    "#make a dataframe and plot it \n",
    "core_ui = pd.DataFrame([[vocabulary[c],\n",
    " coef[c]] for c in top_positive_coef + top_negative_coef],\n",
    " columns=[\"feature\", \"coefficient\"]).sort_values(\"coefficient\")\n",
    "\n",
    "core_ui.set_index(\"feature\").plot.barh()"
   ]
  },
  {
   "cell_type": "markdown",
   "id": "6a09421f",
   "metadata": {},
   "source": [
    "#### Interp: Compiler, Core, and JDT are uniquely related to Core while UI, refactoring, and junit are uniquely related to UI."
   ]
  },
  {
   "cell_type": "markdown",
   "id": "d98245df",
   "metadata": {},
   "source": [
    "# LIME - Local Interpretable Model-Agnostic Explanations"
   ]
  },
  {
   "cell_type": "markdown",
   "id": "c263ce22",
   "metadata": {},
   "source": [
    "LIME was conceived as a way to locally look at each prediction in our test set and come up with an interpretation. It takes a very long time for sample spaces that are large, and has the following traits:\n",
    "<ul>\n",
    "    <li>LIME can accept any ML model where the probability of each class is predicted.</li>\n",
    "    <li>LIME takes a long time in high-feature spaces like those in text mining.</li>\n",
    "    <li>LIME generates explanations on a per-sample basis.</li>\n",
    "</ul>"
   ]
  },
  {
   "cell_type": "code",
   "execution_count": null,
   "id": "e73d10f3",
   "metadata": {},
   "outputs": [],
   "source": []
  },
  {
   "cell_type": "code",
   "execution_count": 255,
   "id": "a629ce0d",
   "metadata": {},
   "outputs": [
    {
     "ename": "AttributeError",
     "evalue": "lower not found",
     "output_type": "error",
     "traceback": [
      "\u001b[1;31m---------------------------------------------------------------------------\u001b[0m",
      "\u001b[1;31mAttributeError\u001b[0m                            Traceback (most recent call last)",
      "Input \u001b[1;32mIn [255]\u001b[0m, in \u001b[0;36m<cell line: 3>\u001b[1;34m()\u001b[0m\n\u001b[0;32m      1\u001b[0m \u001b[38;5;28;01mfrom\u001b[39;00m \u001b[38;5;21;01msklearn\u001b[39;00m\u001b[38;5;21;01m.\u001b[39;00m\u001b[38;5;21;01mpipeline\u001b[39;00m \u001b[38;5;28;01mimport\u001b[39;00m make_pipeline\n\u001b[0;32m      2\u001b[0m pipeline \u001b[38;5;241m=\u001b[39m make_pipeline(tfidf, best_model)\n\u001b[1;32m----> 3\u001b[0m \u001b[43mpipeline\u001b[49m\u001b[38;5;241;43m.\u001b[39;49m\u001b[43mpredict\u001b[49m\u001b[43m(\u001b[49m\u001b[43m[\u001b[49m\u001b[38;5;124;43m\"\u001b[39;49m\u001b[38;5;124;43mcompiler not working\u001b[39;49m\u001b[38;5;124;43m\"\u001b[39;49m\u001b[43m]\u001b[49m\u001b[43m)\u001b[49m\n",
      "File \u001b[1;32mc:\\users\\fkrasovsky\\appdata\\local\\programs\\python\\python38\\lib\\site-packages\\sklearn\\pipeline.py:458\u001b[0m, in \u001b[0;36mPipeline.predict\u001b[1;34m(self, X, **predict_params)\u001b[0m\n\u001b[0;32m    456\u001b[0m \u001b[38;5;28;01mfor\u001b[39;00m _, name, transform \u001b[38;5;129;01min\u001b[39;00m \u001b[38;5;28mself\u001b[39m\u001b[38;5;241m.\u001b[39m_iter(with_final\u001b[38;5;241m=\u001b[39m\u001b[38;5;28;01mFalse\u001b[39;00m):\n\u001b[0;32m    457\u001b[0m     Xt \u001b[38;5;241m=\u001b[39m transform\u001b[38;5;241m.\u001b[39mtransform(Xt)\n\u001b[1;32m--> 458\u001b[0m \u001b[38;5;28;01mreturn\u001b[39;00m \u001b[38;5;28;43mself\u001b[39;49m\u001b[38;5;241;43m.\u001b[39;49m\u001b[43msteps\u001b[49m\u001b[43m[\u001b[49m\u001b[38;5;241;43m-\u001b[39;49m\u001b[38;5;241;43m1\u001b[39;49m\u001b[43m]\u001b[49m\u001b[43m[\u001b[49m\u001b[38;5;241;43m1\u001b[39;49m\u001b[43m]\u001b[49m\u001b[38;5;241;43m.\u001b[39;49m\u001b[43mpredict\u001b[49m\u001b[43m(\u001b[49m\u001b[43mXt\u001b[49m\u001b[43m,\u001b[49m\u001b[43m \u001b[49m\u001b[38;5;241;43m*\u001b[39;49m\u001b[38;5;241;43m*\u001b[39;49m\u001b[43mpredict_params\u001b[49m\u001b[43m)\u001b[49m\n",
      "File \u001b[1;32mc:\\users\\fkrasovsky\\appdata\\local\\programs\\python\\python38\\lib\\site-packages\\sklearn\\pipeline.py:457\u001b[0m, in \u001b[0;36mPipeline.predict\u001b[1;34m(self, X, **predict_params)\u001b[0m\n\u001b[0;32m    455\u001b[0m Xt \u001b[38;5;241m=\u001b[39m X\n\u001b[0;32m    456\u001b[0m \u001b[38;5;28;01mfor\u001b[39;00m _, name, transform \u001b[38;5;129;01min\u001b[39;00m \u001b[38;5;28mself\u001b[39m\u001b[38;5;241m.\u001b[39m_iter(with_final\u001b[38;5;241m=\u001b[39m\u001b[38;5;28;01mFalse\u001b[39;00m):\n\u001b[1;32m--> 457\u001b[0m     Xt \u001b[38;5;241m=\u001b[39m \u001b[43mtransform\u001b[49m\u001b[38;5;241;43m.\u001b[39;49m\u001b[43mtransform\u001b[49m\u001b[43m(\u001b[49m\u001b[43mXt\u001b[49m\u001b[43m)\u001b[49m\n\u001b[0;32m    458\u001b[0m \u001b[38;5;28;01mreturn\u001b[39;00m \u001b[38;5;28mself\u001b[39m\u001b[38;5;241m.\u001b[39msteps[\u001b[38;5;241m-\u001b[39m\u001b[38;5;241m1\u001b[39m][\u001b[38;5;241m1\u001b[39m]\u001b[38;5;241m.\u001b[39mpredict(Xt, \u001b[38;5;241m*\u001b[39m\u001b[38;5;241m*\u001b[39mpredict_params)\n",
      "File \u001b[1;32mc:\\users\\fkrasovsky\\appdata\\local\\programs\\python\\python38\\lib\\site-packages\\sklearn\\feature_extraction\\text.py:2102\u001b[0m, in \u001b[0;36mTfidfVectorizer.transform\u001b[1;34m(self, raw_documents)\u001b[0m\n\u001b[0;32m   2085\u001b[0m \u001b[38;5;124;03m\"\"\"Transform documents to document-term matrix.\u001b[39;00m\n\u001b[0;32m   2086\u001b[0m \n\u001b[0;32m   2087\u001b[0m \u001b[38;5;124;03mUses the vocabulary and document frequencies (df) learned by fit (or\u001b[39;00m\n\u001b[1;32m   (...)\u001b[0m\n\u001b[0;32m   2098\u001b[0m \u001b[38;5;124;03m    Tf-idf-weighted document-term matrix.\u001b[39;00m\n\u001b[0;32m   2099\u001b[0m \u001b[38;5;124;03m\"\"\"\u001b[39;00m\n\u001b[0;32m   2100\u001b[0m check_is_fitted(\u001b[38;5;28mself\u001b[39m, msg\u001b[38;5;241m=\u001b[39m\u001b[38;5;124m\"\u001b[39m\u001b[38;5;124mThe TF-IDF vectorizer is not fitted\u001b[39m\u001b[38;5;124m\"\u001b[39m)\n\u001b[1;32m-> 2102\u001b[0m X \u001b[38;5;241m=\u001b[39m \u001b[38;5;28;43msuper\u001b[39;49m\u001b[43m(\u001b[49m\u001b[43m)\u001b[49m\u001b[38;5;241;43m.\u001b[39;49m\u001b[43mtransform\u001b[49m\u001b[43m(\u001b[49m\u001b[43mraw_documents\u001b[49m\u001b[43m)\u001b[49m\n\u001b[0;32m   2103\u001b[0m \u001b[38;5;28;01mreturn\u001b[39;00m \u001b[38;5;28mself\u001b[39m\u001b[38;5;241m.\u001b[39m_tfidf\u001b[38;5;241m.\u001b[39mtransform(X, copy\u001b[38;5;241m=\u001b[39m\u001b[38;5;28;01mFalse\u001b[39;00m)\n",
      "File \u001b[1;32mc:\\users\\fkrasovsky\\appdata\\local\\programs\\python\\python38\\lib\\site-packages\\sklearn\\feature_extraction\\text.py:1387\u001b[0m, in \u001b[0;36mCountVectorizer.transform\u001b[1;34m(self, raw_documents)\u001b[0m\n\u001b[0;32m   1384\u001b[0m \u001b[38;5;28mself\u001b[39m\u001b[38;5;241m.\u001b[39m_check_vocabulary()\n\u001b[0;32m   1386\u001b[0m \u001b[38;5;66;03m# use the same matrix-building strategy as fit_transform\u001b[39;00m\n\u001b[1;32m-> 1387\u001b[0m _, X \u001b[38;5;241m=\u001b[39m \u001b[38;5;28;43mself\u001b[39;49m\u001b[38;5;241;43m.\u001b[39;49m\u001b[43m_count_vocab\u001b[49m\u001b[43m(\u001b[49m\u001b[43mraw_documents\u001b[49m\u001b[43m,\u001b[49m\u001b[43m \u001b[49m\u001b[43mfixed_vocab\u001b[49m\u001b[38;5;241;43m=\u001b[39;49m\u001b[38;5;28;43;01mTrue\u001b[39;49;00m\u001b[43m)\u001b[49m\n\u001b[0;32m   1388\u001b[0m \u001b[38;5;28;01mif\u001b[39;00m \u001b[38;5;28mself\u001b[39m\u001b[38;5;241m.\u001b[39mbinary:\n\u001b[0;32m   1389\u001b[0m     X\u001b[38;5;241m.\u001b[39mdata\u001b[38;5;241m.\u001b[39mfill(\u001b[38;5;241m1\u001b[39m)\n",
      "File \u001b[1;32mc:\\users\\fkrasovsky\\appdata\\local\\programs\\python\\python38\\lib\\site-packages\\sklearn\\feature_extraction\\text.py:1209\u001b[0m, in \u001b[0;36mCountVectorizer._count_vocab\u001b[1;34m(self, raw_documents, fixed_vocab)\u001b[0m\n\u001b[0;32m   1207\u001b[0m \u001b[38;5;28;01mfor\u001b[39;00m doc \u001b[38;5;129;01min\u001b[39;00m raw_documents:\n\u001b[0;32m   1208\u001b[0m     feature_counter \u001b[38;5;241m=\u001b[39m {}\n\u001b[1;32m-> 1209\u001b[0m     \u001b[38;5;28;01mfor\u001b[39;00m feature \u001b[38;5;129;01min\u001b[39;00m \u001b[43manalyze\u001b[49m\u001b[43m(\u001b[49m\u001b[43mdoc\u001b[49m\u001b[43m)\u001b[49m:\n\u001b[0;32m   1210\u001b[0m         \u001b[38;5;28;01mtry\u001b[39;00m:\n\u001b[0;32m   1211\u001b[0m             feature_idx \u001b[38;5;241m=\u001b[39m vocabulary[feature]\n",
      "File \u001b[1;32mc:\\users\\fkrasovsky\\appdata\\local\\programs\\python\\python38\\lib\\site-packages\\sklearn\\feature_extraction\\text.py:111\u001b[0m, in \u001b[0;36m_analyze\u001b[1;34m(doc, analyzer, tokenizer, ngrams, preprocessor, decoder, stop_words)\u001b[0m\n\u001b[0;32m    109\u001b[0m \u001b[38;5;28;01melse\u001b[39;00m:\n\u001b[0;32m    110\u001b[0m     \u001b[38;5;28;01mif\u001b[39;00m preprocessor \u001b[38;5;129;01mis\u001b[39;00m \u001b[38;5;129;01mnot\u001b[39;00m \u001b[38;5;28;01mNone\u001b[39;00m:\n\u001b[1;32m--> 111\u001b[0m         doc \u001b[38;5;241m=\u001b[39m \u001b[43mpreprocessor\u001b[49m\u001b[43m(\u001b[49m\u001b[43mdoc\u001b[49m\u001b[43m)\u001b[49m\n\u001b[0;32m    112\u001b[0m     \u001b[38;5;28;01mif\u001b[39;00m tokenizer \u001b[38;5;129;01mis\u001b[39;00m \u001b[38;5;129;01mnot\u001b[39;00m \u001b[38;5;28;01mNone\u001b[39;00m:\n\u001b[0;32m    113\u001b[0m         doc \u001b[38;5;241m=\u001b[39m tokenizer(doc)\n",
      "File \u001b[1;32mc:\\users\\fkrasovsky\\appdata\\local\\programs\\python\\python38\\lib\\site-packages\\sklearn\\feature_extraction\\text.py:69\u001b[0m, in \u001b[0;36m_preprocess\u001b[1;34m(doc, accent_function, lower)\u001b[0m\n\u001b[0;32m     50\u001b[0m \u001b[38;5;124;03m\"\"\"Chain together an optional series of text preprocessing steps to\u001b[39;00m\n\u001b[0;32m     51\u001b[0m \u001b[38;5;124;03mapply to a document.\u001b[39;00m\n\u001b[0;32m     52\u001b[0m \n\u001b[1;32m   (...)\u001b[0m\n\u001b[0;32m     66\u001b[0m \u001b[38;5;124;03m    preprocessed string\u001b[39;00m\n\u001b[0;32m     67\u001b[0m \u001b[38;5;124;03m\"\"\"\u001b[39;00m\n\u001b[0;32m     68\u001b[0m \u001b[38;5;28;01mif\u001b[39;00m lower:\n\u001b[1;32m---> 69\u001b[0m     doc \u001b[38;5;241m=\u001b[39m \u001b[43mdoc\u001b[49m\u001b[38;5;241;43m.\u001b[39;49m\u001b[43mlower\u001b[49m()\n\u001b[0;32m     70\u001b[0m \u001b[38;5;28;01mif\u001b[39;00m accent_function \u001b[38;5;129;01mis\u001b[39;00m \u001b[38;5;129;01mnot\u001b[39;00m \u001b[38;5;28;01mNone\u001b[39;00m:\n\u001b[0;32m     71\u001b[0m     doc \u001b[38;5;241m=\u001b[39m accent_function(doc)\n",
      "File \u001b[1;32mc:\\users\\fkrasovsky\\appdata\\local\\programs\\python\\python38\\lib\\site-packages\\scipy\\sparse\\_base.py:764\u001b[0m, in \u001b[0;36mspmatrix.__getattr__\u001b[1;34m(self, attr)\u001b[0m\n\u001b[0;32m    762\u001b[0m     \u001b[38;5;28;01mreturn\u001b[39;00m \u001b[38;5;28mself\u001b[39m\u001b[38;5;241m.\u001b[39mgetnnz()\n\u001b[0;32m    763\u001b[0m \u001b[38;5;28;01melse\u001b[39;00m:\n\u001b[1;32m--> 764\u001b[0m     \u001b[38;5;28;01mraise\u001b[39;00m \u001b[38;5;167;01mAttributeError\u001b[39;00m(attr \u001b[38;5;241m+\u001b[39m \u001b[38;5;124m\"\u001b[39m\u001b[38;5;124m not found\u001b[39m\u001b[38;5;124m\"\u001b[39m)\n",
      "\u001b[1;31mAttributeError\u001b[0m: lower not found"
     ]
    }
   ],
   "source": [
    "from sklearn.pipeline import make_pipeline\n",
    "tfidf = TfidfVectorizer(stop_words=\"english\")\n",
    "pipeline = make_pipeline(tfidf, best_model)\n",
    "pipeline.predict([\"compiler not working\"])"
   ]
  },
  {
   "cell_type": "code",
   "execution_count": null,
   "id": "7192feac",
   "metadata": {},
   "outputs": [],
   "source": []
  }
 ],
 "metadata": {
  "kernelspec": {
   "display_name": "Python 3 (ipykernel)",
   "language": "python",
   "name": "python3"
  },
  "language_info": {
   "codemirror_mode": {
    "name": "ipython",
    "version": 3
   },
   "file_extension": ".py",
   "mimetype": "text/x-python",
   "name": "python",
   "nbconvert_exporter": "python",
   "pygments_lexer": "ipython3",
   "version": "3.8.2"
  }
 },
 "nbformat": 4,
 "nbformat_minor": 5
}
